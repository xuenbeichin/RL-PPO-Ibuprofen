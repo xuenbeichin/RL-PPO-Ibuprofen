{
 "cells": [
  {
   "cell_type": "code",
   "id": "initial_id",
   "metadata": {
    "collapsed": true,
    "ExecuteTime": {
     "end_time": "2024-12-05T20:42:02.506707Z",
     "start_time": "2024-12-05T20:42:02.427599Z"
    }
   },
   "source": [
    "import gymnasium as gym\n",
    "from stable_baselines3 import PPO\n",
    "from stable_baselines3.common.callbacks import BaseCallback\n",
    "import optuna\n",
    "import numpy as np\n",
    "import matplotlib.pyplot as plt\n",
    "from stable_baselines3.common.vec_env import DummyVecEnv\n",
    "from datetime import datetime\n"
   ],
   "outputs": [],
   "execution_count": 11
  },
  {
   "metadata": {
    "ExecuteTime": {
     "end_time": "2024-12-05T20:42:02.620226Z",
     "start_time": "2024-12-05T20:42:02.559921Z"
    }
   },
   "cell_type": "code",
   "source": [
    "class RewardLoggingCallback(BaseCallback):\n",
    "    \"\"\"\n",
    "    Custom callback to log rewards during training.\n",
    "    \"\"\"\n",
    "    def __init__(self):\n",
    "        super().__init__()\n",
    "        self.episode_rewards = []\n",
    "        self.current_rewards = []\n",
    "\n",
    "    def _on_step(self) -> bool:\n",
    "        reward = self.locals[\"rewards\"]\n",
    "        done = self.locals[\"dones\"]\n",
    "        self.current_rewards.append(reward)\n",
    "\n",
    "        if done:\n",
    "            self.episode_rewards.append(sum(self.current_rewards))\n",
    "            self.current_rewards = []\n",
    "        return True\n"
   ],
   "id": "73e671677f290b66",
   "outputs": [],
   "execution_count": 12
  },
  {
   "metadata": {
    "ExecuteTime": {
     "end_time": "2024-12-05T20:42:02.714622Z",
     "start_time": "2024-12-05T20:42:02.694466Z"
    }
   },
   "cell_type": "code",
   "source": [
    "def optimize_ppo(trial):\n",
    "    \"\"\"\n",
    "    Optimize PPO hyperparameters using Optuna.\n",
    "    \"\"\"\n",
    "    # Set up the environment (CartPole-v1)\n",
    "    env = gym.make(\"CartPole-v1\")  # Remove render_mode\n",
    "\n",
    "    # Wrap the environment in a DummyVecEnv for compatibility with PPO\n",
    "    env = DummyVecEnv([lambda: env])\n",
    "\n",
    "    lr = trial.suggest_float(\"learning_rate\", 1e-5, 1e-3, log=True)\n",
    "    gamma = trial.suggest_float(\"gamma\", 0.90, 0.99)\n",
    "    n_epochs = trial.suggest_int(\"n_epochs\", 3, 10)\n",
    "    ent_coef = trial.suggest_float(\"ent_coef\", 1e-4, 1e-2, log=True)\n",
    "    batch_size = trial.suggest_int(\"batch_size\", 32, 512, step=32)\n",
    "    n_steps = trial.suggest_int(\"n_steps\", 64, 2048, step=64)\n",
    "    gae_lambda = trial.suggest_float(\"gae_lambda\", 0.8, 0.99)\n",
    "    clip_range = trial.suggest_float(\"clip_range\", 0.1, 0.3)\n",
    "\n",
    "    model = PPO(\n",
    "        \"MlpPolicy\",\n",
    "        env,\n",
    "        learning_rate=lr,\n",
    "        gamma=gamma,\n",
    "        n_epochs=n_epochs,\n",
    "        ent_coef=ent_coef,\n",
    "        batch_size=batch_size,\n",
    "        n_steps=n_steps,\n",
    "        gae_lambda=gae_lambda,\n",
    "        clip_range=clip_range,\n",
    "        verbose=0,\n",
    "    )\n",
    "    model.learn(total_timesteps=100000)\n",
    "\n",
    "    # Evaluate the agent's performance\n",
    "    total_rewards = []\n",
    "    for _ in range(50):\n",
    "        state = env.reset()  # No unpacking needed\n",
    "        total_reward = 0\n",
    "        done = False\n",
    "        while not done:\n",
    "            action, _ = model.predict(state, deterministic=True)\n",
    "            state, reward, done, info = env.step(action)  # Unpack four values instead of five\n",
    "            total_reward += reward\n",
    "        total_rewards.append(total_reward)\n",
    "\n",
    "    # Return the mean of total rewards as the optimization objective\n",
    "    return np.mean(total_rewards)\n"
   ],
   "id": "e6746fa6d44ace30",
   "outputs": [],
   "execution_count": 13
  },
  {
   "metadata": {
    "ExecuteTime": {
     "end_time": "2024-12-05T20:42:02.753362Z",
     "start_time": "2024-12-05T20:42:02.745475Z"
    }
   },
   "cell_type": "code",
   "source": [
    "def plot_learning_curve(rewards):\n",
    "    \"\"\"\n",
    "    Plot the learning curve using the logged rewards from training.\n",
    "\n",
    "    Args:\n",
    "        rewards (list): List of total rewards per episode.\n",
    "    \"\"\"\n",
    "    plt.figure(figsize=(12, 6))\n",
    "    plt.plot(range(len(rewards)), rewards, label=\"Episode Rewards\")\n",
    "    plt.xlabel(\"Episode\")\n",
    "    plt.ylabel(\"Total Reward\")\n",
    "    plt.title(\"Learning Curve for CartPole-v1 (SB3)\")\n",
    "    plt.legend()\n",
    "    plt.grid()\n",
    "    plt.show()\n"
   ],
   "id": "17982ce1b3fbf3b5",
   "outputs": [],
   "execution_count": 14
  },
  {
   "metadata": {
    "ExecuteTime": {
     "end_time": "2024-12-05T20:42:02.931034Z",
     "start_time": "2024-12-05T20:42:02.910135Z"
    }
   },
   "cell_type": "code",
   "source": [
    "def train_and_render_cartpole():\n",
    "    \"\"\"\n",
    "    Train a PPO agent with optimized hyperparameters on CartPole-v1.\n",
    "    \"\"\"\n",
    "    # Hyperparameter Optimization\n",
    "    study = optuna.create_study(direction=\"maximize\")\n",
    "    study.optimize(optimize_ppo, n_trials=500)\n",
    "    best_params = study.best_params\n",
    "    print(\"Best Hyperparameters:\", best_params)\n",
    "\n",
    "    # Create the environment\n",
    "    env = gym.make(\"CartPole-v1\")  # No render_mode\n",
    "\n",
    "    # Train the agent with best hyperparameters\n",
    "    final_model = PPO(\n",
    "        \"MlpPolicy\",\n",
    "        env,\n",
    "        learning_rate=best_params[\"learning_rate\"],\n",
    "        gamma=best_params[\"gamma\"],\n",
    "        n_epochs=best_params[\"n_epochs\"],\n",
    "        ent_coef=best_params[\"ent_coef\"],\n",
    "        batch_size=best_params[\"batch_size\"],\n",
    "        n_steps=best_params[\"n_steps\"],\n",
    "        gae_lambda=best_params[\"gae_lambda\"],\n",
    "        clip_range=best_params[\"clip_range\"],\n",
    "        verbose=1,\n",
    "    )\n",
    "    callback = RewardLoggingCallback()\n",
    "    final_model.learn(total_timesteps=100000, callback=callback)\n",
    "\n",
    "    # Plot the learning curve\n",
    "    plot_learning_curve(callback.episode_rewards)\n",
    "\n",
    "    # Evaluation loop\n",
    "    eval_env = gym.make(\"CartPole-v1\")  # No render_mode\n",
    "    state = eval_env.reset()\n",
    "    done = False\n",
    "    state_trajectory = []\n",
    "\n",
    "    while not done:\n",
    "        state_trajectory.append(state)  # Record the state\n",
    "        action, _ = final_model.predict(state, deterministic=True)\n",
    "        state, reward, done, truncated, _ = eval_env.step(action)\n",
    "        done = done or truncated\n",
    "\n",
    "    eval_env.close()\n",
    "\n",
    "    # Plotting Pole Angles\n",
    "    pole_angles = [s[2] for s in state_trajectory]  # Adjust index if necessary\n",
    "    plt.figure(figsize=(12, 6))\n",
    "    plt.plot(range(len(pole_angles)), pole_angles, label='Pole Angle', color='b')\n",
    "    plt.axhline(y=0, color='gray', linestyle='--', linewidth=1, label=\"Vertical Position\")\n",
    "    plt.xlabel('Time Step')\n",
    "    plt.ylabel('Pole Angle (radians)')\n",
    "    plt.title('Pole Angle Over Time During Evaluation (SB3)')\n",
    "    plt.legend()\n",
    "    plt.grid()\n",
    "    plt.show()\n"
   ],
   "id": "3d7aea2877a4aaac",
   "outputs": [],
   "execution_count": 15
  },
  {
   "metadata": {
    "jupyter": {
     "is_executing": true
    },
    "ExecuteTime": {
     "start_time": "2024-12-05T20:42:02.981525Z"
    }
   },
   "cell_type": "code",
   "source": [
    "if __name__ == \"__main__\":\n",
    "    train_and_render_cartpole()\n"
   ],
   "id": "4b483aaa709824c1",
   "outputs": [
    {
     "name": "stderr",
     "output_type": "stream",
     "text": [
      "[I 2024-12-05 20:42:02,989] A new study created in memory with name: no-name-b503b754-ff5f-4217-856d-615e38459355\n",
      "/Users/xuenbei/miniconda3/lib/python3.12/site-packages/stable_baselines3/ppo/ppo.py:155: UserWarning: You have specified a mini-batch size of 416, but because the `RolloutBuffer` is of size `n_steps * n_envs = 1600`, after every 3 untruncated mini-batches, there will be a truncated mini-batch of size 352\n",
      "We recommend using a `batch_size` that is a factor of `n_steps * n_envs`.\n",
      "Info: (n_steps=1600 and n_envs=1)\n",
      "  warnings.warn(\n",
      "[I 2024-12-05 20:43:25,865] Trial 0 finished with value: 488.9200134277344 and parameters: {'learning_rate': 5.6312626657220695e-05, 'gamma': 0.9071109648228012, 'n_epochs': 8, 'ent_coef': 0.00292065750768925, 'batch_size': 416, 'n_steps': 1600, 'gae_lambda': 0.8331551413225877, 'clip_range': 0.18176286787125723}. Best is trial 0 with value: 488.9200134277344.\n",
      "/Users/xuenbei/miniconda3/lib/python3.12/site-packages/stable_baselines3/ppo/ppo.py:155: UserWarning: You have specified a mini-batch size of 352, but because the `RolloutBuffer` is of size `n_steps * n_envs = 832`, after every 2 untruncated mini-batches, there will be a truncated mini-batch of size 128\n",
      "We recommend using a `batch_size` that is a factor of `n_steps * n_envs`.\n",
      "Info: (n_steps=832 and n_envs=1)\n",
      "  warnings.warn(\n"
     ]
    }
   ],
   "execution_count": null
  }
 ],
 "metadata": {
  "kernelspec": {
   "display_name": "Python 3",
   "language": "python",
   "name": "python3"
  },
  "language_info": {
   "codemirror_mode": {
    "name": "ipython",
    "version": 2
   },
   "file_extension": ".py",
   "mimetype": "text/x-python",
   "name": "python",
   "nbconvert_exporter": "python",
   "pygments_lexer": "ipython2",
   "version": "2.7.6"
  }
 },
 "nbformat": 4,
 "nbformat_minor": 5
}
