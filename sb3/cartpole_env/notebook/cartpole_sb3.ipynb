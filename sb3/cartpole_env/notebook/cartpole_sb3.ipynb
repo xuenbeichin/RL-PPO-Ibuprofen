{
 "cells": [
  {
   "cell_type": "code",
   "id": "initial_id",
   "metadata": {
    "collapsed": true,
    "ExecuteTime": {
     "end_time": "2024-12-09T13:39:38.067167Z",
     "start_time": "2024-12-09T13:39:38.052340Z"
    }
   },
   "source": [
    "import gymnasium as gym\n",
    "from stable_baselines3 import PPO\n",
    "from stable_baselines3.common.callbacks import BaseCallback\n",
    "import optuna\n",
    "import numpy as np\n",
    "import matplotlib.pyplot as plt\n",
    "from stable_baselines3.common.vec_env import DummyVecEnv\n",
    "from datetime import datetime\n"
   ],
   "outputs": [],
   "execution_count": 18
  },
  {
   "metadata": {
    "ExecuteTime": {
     "end_time": "2024-12-09T13:39:38.130312Z",
     "start_time": "2024-12-09T13:39:38.120268Z"
    }
   },
   "cell_type": "code",
   "source": [
    "\n",
    "class RewardLoggingCallback(BaseCallback):\n",
    "    \"\"\"\n",
    "    Custom callback for logging episode rewards during training.\n",
    "\n",
    "    This callback tracks rewards for each episode during training. It accumulates rewards\n",
    "    step-by-step and logs the total reward at the end of each episode. The rewards for all\n",
    "    completed episodes are stored in a list for analysis or visualization after training.\n",
    "\n",
    "    Attributes:\n",
    "        episode_rewards (list): A list of total rewards for all completed episodes.\n",
    "        current_episode_reward (float): The cumulative reward for the current episode.\n",
    "    \"\"\"\n",
    "\n",
    "    def __init__(self):\n",
    "        \"\"\"\n",
    "        Initializes the RewardLoggingCallback.\n",
    "\n",
    "        Sets up the storage for episode rewards and initializes the current episode reward tracker.\n",
    "        \"\"\"\n",
    "        super(RewardLoggingCallback, self).__init__()\n",
    "        self.episode_rewards = []  # List to store rewards for completed episodes\n",
    "        self.current_episode_reward = 0  # Accumulates rewards for the current episode\n",
    "\n",
    "    def _on_step(self) -> bool:\n",
    "        \"\"\"\n",
    "        Called after each environment step during training.\n",
    "\n",
    "        Accumulates the reward for the current step into the current episode reward.\n",
    "        If the episode ends, logs the total episode reward and resets the tracker.\n",
    "\n",
    "        Returns:\n",
    "            bool: Always returns True, allowing training to continue.\n",
    "        \"\"\"\n",
    "        # Accumulate reward for the current step\n",
    "        self.current_episode_reward += self.locals[\"rewards\"][0]\n",
    "\n",
    "        # Check if the episode is done\n",
    "        if self.locals[\"dones\"][0]:\n",
    "            # Log the total reward for the completed episode\n",
    "            self.episode_rewards.append(self.current_episode_reward)\n",
    "            # Reset the tracker for the next episode\n",
    "            self.current_episode_reward = 0\n",
    "\n",
    "        return True"
   ],
   "id": "73e671677f290b66",
   "outputs": [],
   "execution_count": 19
  },
  {
   "metadata": {
    "ExecuteTime": {
     "end_time": "2024-12-09T13:39:38.160991Z",
     "start_time": "2024-12-09T13:39:38.149847Z"
    }
   },
   "cell_type": "code",
   "source": [
    "def optimize_ppo(trial):\n",
    "    \"\"\"\n",
    "    Optimize PPO hyperparameters using Optuna.\n",
    "    \"\"\"\n",
    "    # Set up the environment (CartPole-v1)\n",
    "    env = gym.make(\"CartPole-v1\", render_mode=\"rgb_array\")  # Set render_mode to rgb_array\n",
    "\n",
    "    # Wrap the environment in a DummyVecEnv for compatibility with PPO\n",
    "    env = DummyVecEnv([lambda: env])\n",
    "\n",
    "    lr = trial.suggest_float(\"learning_rate\", 1e-5, 1e-3, log=True)\n",
    "    gamma = trial.suggest_float(\"gamma\", 0.90, 0.99)\n",
    "    n_epochs = trial.suggest_int(\"n_epochs\", 3, 10)\n",
    "    ent_coef = trial.suggest_float(\"ent_coef\", 1e-4, 1e-2, log=True)\n",
    "    batch_size = trial.suggest_int(\"batch_size\", 32, 512, step=32)\n",
    "    n_steps = trial.suggest_int(\"n_steps\", 64, 2048, step=64)\n",
    "    gae_lambda = trial.suggest_float(\"gae_lambda\", 0.8, 0.99)\n",
    "    clip_range = trial.suggest_float(\"clip_range\", 0.1, 0.3)\n",
    "\n",
    "    model = PPO(\n",
    "        \"MlpPolicy\",\n",
    "        env,\n",
    "        learning_rate=lr,\n",
    "        gamma=gamma,\n",
    "        n_epochs=n_epochs,\n",
    "        ent_coef=ent_coef,\n",
    "        batch_size=batch_size,\n",
    "        n_steps=n_steps,\n",
    "        gae_lambda=gae_lambda,\n",
    "        clip_range=clip_range,\n",
    "        verbose=0,\n",
    "    )\n",
    "    model.learn(total_timesteps=100000)\n",
    "\n",
    "\n",
    "    # Evaluate the agent's performance\n",
    "    total_rewards = []\n",
    "    for _ in range(50):\n",
    "        state = env.reset()  # No unpacking needed\n",
    "        total_reward = 0\n",
    "        done = False\n",
    "        while not done:\n",
    "            action, _ = model.predict(state, deterministic=True)\n",
    "            state, reward, done, info = env.step(action)  # Unpack four values instead of five\n",
    "            total_reward += reward\n",
    "        total_rewards.append(total_reward)\n",
    "\n",
    "    # Return the mean of total rewards as the optimization objective\n",
    "    return np.mean(total_rewards)"
   ],
   "id": "e6746fa6d44ace30",
   "outputs": [],
   "execution_count": 20
  },
  {
   "metadata": {
    "ExecuteTime": {
     "end_time": "2024-12-09T13:39:38.191557Z",
     "start_time": "2024-12-09T13:39:38.179312Z"
    }
   },
   "cell_type": "code",
   "source": [
    "def plot_learning_curve(rewards):\n",
    "    \"\"\"\n",
    "    Plot the learning curve using the logged rewards from training.\n",
    "\n",
    "    Args:\n",
    "        rewards (list): List of total rewards per episode.\n",
    "    \"\"\"\n",
    "    plt.figure(figsize=(12, 6))\n",
    "    plt.plot(range(len(rewards)), rewards, label=\"Episode Rewards\")\n",
    "    plt.xlabel(\"Episode\")\n",
    "    plt.ylabel(\"Total Reward\")\n",
    "    plt.title(\"Learning Curve for CartPole-v1 (SB3)\")\n",
    "    plt.legend()\n",
    "    plt.grid()\n",
    "    plt.show()\n"
   ],
   "id": "17982ce1b3fbf3b5",
   "outputs": [],
   "execution_count": 21
  },
  {
   "metadata": {
    "ExecuteTime": {
     "end_time": "2024-12-09T13:39:38.253398Z",
     "start_time": "2024-12-09T13:39:38.233531Z"
    }
   },
   "cell_type": "code",
   "source": [
    "\n",
    "\n",
    "from gymnasium.wrappers import RecordVideo\n",
    "\n",
    "\n",
    "def train_and_render_cartpole():\n",
    "    \"\"\"\n",
    "    Train a PPO agent with optimized hyperparameters on CartPole-v1\n",
    "    and render it using a video recorder.\n",
    "    \"\"\"\n",
    "    # Hyperparameter Optimization\n",
    "    study = optuna.create_study(direction=\"maximize\")\n",
    "    study.optimize(optimize_ppo, n_trials=500)\n",
    "    best_params = study.best_params\n",
    "    print(\"Best Hyperparameters:\", best_params)\n",
    "\n",
    "    # Create the environment with render_mode set to 'rgb_array'\n",
    "    env = gym.make(\"CartPole-v1\", render_mode=\"rgb_array\")\n",
    "\n",
    "    # Train the agent with best hyperparameters\n",
    "    final_model = PPO(\n",
    "        \"MlpPolicy\",\n",
    "        env,\n",
    "        learning_rate=best_params[\"learning_rate\"],\n",
    "        gamma=best_params[\"gamma\"],\n",
    "        n_epochs=best_params[\"n_epochs\"],\n",
    "        ent_coef=best_params[\"ent_coef\"],\n",
    "        batch_size=best_params[\"batch_size\"],\n",
    "        n_steps=best_params[\"n_steps\"],\n",
    "        gae_lambda=best_params[\"gae_lambda\"],\n",
    "        clip_range=best_params[\"clip_range\"],\n",
    "        verbose=1,\n",
    "    )\n",
    "    callback = RewardLoggingCallback()\n",
    "    final_model.learn(total_timesteps=100000, callback=callback)\n",
    "\n",
    "    # Plot the learning curve\n",
    "    plot_learning_curve(callback.episode_rewards)\n",
    "\n",
    "    # Create the environment\n",
    "    eval_env = gym.make(\"CartPole-v1\", render_mode=\"rgb_array\")\n",
    "\n",
    "    # Specify the directory and custom name prefix\n",
    "    video_folder = \"/Users/xuenbei/Desktop/rl_coursework2_02015483/sb3/cartpole_env/videos\"\n",
    "    video_name_prefix = f\"cartpole_run_{datetime.now().strftime('%Y%m%d_%H%M%S')}\"\n",
    "\n",
    "    # Wrap the environment with RecordVideo\n",
    "    eval_env = RecordVideo(\n",
    "        eval_env,\n",
    "        video_folder=video_folder,\n",
    "        episode_trigger=lambda e: True,  # Record all episodes\n",
    "        name_prefix=video_name_prefix  # Custom name prefix for the videos\n",
    "    )\n",
    "\n",
    "    # Evaluation loop\n",
    "    state, _ = eval_env.reset()\n",
    "    done = False\n",
    "\n",
    "    while not done:\n",
    "        # Predict action\n",
    "        action, _ = final_model.predict(state, deterministic=True)\n",
    "        state, reward, done, truncated, _ = eval_env.step(action)\n",
    "        done = done or truncated\n",
    "\n",
    "    eval_env.close()\n",
    "\n",
    "    # Evaluation loop\n",
    "    state, _ = eval_env.reset()\n",
    "    done = False\n",
    "    state_trajectory = []\n",
    "\n",
    "    while not done:\n",
    "        state_trajectory.append(state)  # Record the state\n",
    "        action, _ = final_model.predict(state, deterministic=True)\n",
    "        state, reward, done, truncated, _ = eval_env.step(action)\n",
    "        done = done or truncated\n",
    "\n",
    "    eval_env.close()\n",
    "\n",
    "    # Plotting Pole Angles\n",
    "    pole_angles = [s[2] for s in state_trajectory]\n",
    "    plt.figure(figsize=(12, 6))\n",
    "    plt.plot(range(len(pole_angles)), pole_angles, label='Pole Angle', color='b')\n",
    "    plt.axhline(y=0, color='gray', linestyle='--', linewidth=1, label=\"Vertical Position\")\n",
    "    plt.xlabel('Time Step')\n",
    "    plt.ylabel('Pole Angle (radians)')\n",
    "    plt.title('Pole Angle Over Time During Evaluation (SB3)')\n",
    "    plt.legend()\n",
    "    plt.grid()\n",
    "    plt.show()"
   ],
   "id": "3d7aea2877a4aaac",
   "outputs": [],
   "execution_count": 22
  },
  {
   "metadata": {
    "jupyter": {
     "is_executing": true
    },
    "ExecuteTime": {
     "start_time": "2024-12-09T13:39:38.536412Z"
    }
   },
   "cell_type": "code",
   "source": "train_and_render_cartpole()\n",
   "id": "4b483aaa709824c1",
   "outputs": [
    {
     "name": "stderr",
     "output_type": "stream",
     "text": [
      "[I 2024-12-09 13:39:38,539] A new study created in memory with name: no-name-870be556-2250-4768-850e-6dfb01842620\n",
      "/Users/xuenbei/miniconda3/lib/python3.12/site-packages/stable_baselines3/ppo/ppo.py:155: UserWarning: You have specified a mini-batch size of 480, but because the `RolloutBuffer` is of size `n_steps * n_envs = 2048`, after every 4 untruncated mini-batches, there will be a truncated mini-batch of size 128\n",
      "We recommend using a `batch_size` that is a factor of `n_steps * n_envs`.\n",
      "Info: (n_steps=2048 and n_envs=1)\n",
      "  warnings.warn(\n"
     ]
    }
   ],
   "execution_count": null
  }
 ],
 "metadata": {
  "kernelspec": {
   "display_name": "Python 3",
   "language": "python",
   "name": "python3"
  },
  "language_info": {
   "codemirror_mode": {
    "name": "ipython",
    "version": 2
   },
   "file_extension": ".py",
   "mimetype": "text/x-python",
   "name": "python",
   "nbconvert_exporter": "python",
   "pygments_lexer": "ipython2",
   "version": "2.7.6"
  }
 },
 "nbformat": 4,
 "nbformat_minor": 5
}
