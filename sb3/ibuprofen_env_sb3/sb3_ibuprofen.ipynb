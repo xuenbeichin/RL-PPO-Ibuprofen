{
 "cells": [
  {
   "metadata": {
    "ExecuteTime": {
     "end_time": "2024-12-04T12:41:18.257024Z",
     "start_time": "2024-12-04T12:41:14.157335Z"
    }
   },
   "cell_type": "code",
   "source": [
    "import gymnasium as gym\n",
    "import numpy as np\n",
    "import optuna\n",
    "import torch\n",
    "from stable_baselines3 import PPO\n",
    "from stable_baselines3.common.callbacks import BaseCallback\n",
    "from stable_baselines3.common.logger import configure\n",
    "from stable_baselines3.common.vec_env import DummyVecEnv\n",
    "import matplotlib.pyplot as plt"
   ],
   "id": "f78503789da7438d",
   "outputs": [],
   "execution_count": 2
  },
  {
   "metadata": {
    "ExecuteTime": {
     "end_time": "2024-12-04T12:41:18.330764Z",
     "start_time": "2024-12-04T12:41:18.313873Z"
    }
   },
   "cell_type": "code",
   "source": [
    "\n",
    "class IbuprofenEnv(gym.Env):\n",
    "    \"\"\"\n",
    "    An OpenAI Gym environment simulating the pharmacokinetics of ibuprofen in a human body.\n",
    "\n",
    "    This environment models the concentration of ibuprofen in the bloodstream after repeated\n",
    "    doses over a period of time. The agent's goal is to maintain the drug concentration within\n",
    "    a therapeutic range while avoiding toxicity.\n",
    "\n",
    "    Attributes:\n",
    "        action_space (gym.spaces.Discrete): The discrete action space representing dose levels (0 to 4).\n",
    "        observation_space (gym.spaces.Box): The observation space representing the plasma concentration (0 to 100).\n",
    "        therapeutic_range (tuple): A tuple defining the lower and upper bounds of the therapeutic range (10 to 50).\n",
    "        half_life (float): The drug's half-life in hours.\n",
    "        clearance_rate (float): The clearance rate calculated from the half-life.\n",
    "        time_step_hours (int): The time step in hours between actions.\n",
    "        bioavailability (float): Fraction of the drug that reaches systemic circulation (default 0.9).\n",
    "        volume_of_distribution (float): Volume of distribution in L/kg (default 0.15).\n",
    "        max_steps (int): Maximum number of steps (24 hours).\n",
    "        current_step (int): Counter for the current time step in the episode.\n",
    "        plasma_concentration (float): Current plasma concentration of the drug in µg/mL.\n",
    "        normalize (bool): Whether to normalize state observations.\n",
    "        state_buffer (list): A buffer storing past plasma concentrations for normalization.\n",
    "\n",
    "    Methods:\n",
    "        reset(seed=None, **kwargs):\n",
    "            Resets the environment to the initial state.\n",
    "\n",
    "        step(action):\n",
    "            Takes a step in the environment with a given action and updates the state.\n",
    "\n",
    "        _normalize(state):\n",
    "            Normalizes the state based on past concentrations if normalization is enabled.\n",
    "    \"\"\"\n",
    "\n",
    "    def __init__(self, normalize=False):\n",
    "        \"\"\"\n",
    "        Initializes the Ibuprofen environment.\n",
    "\n",
    "        Args:\n",
    "            normalize (bool): Whether to normalize state observations.\n",
    "        \"\"\"\n",
    "        super(IbuprofenEnv, self).__init__()\n",
    "\n",
    "        # Define the action space: actions represent discrete doses (0-4 units, each unit = 200 mg)\n",
    "        self.action_space = gym.spaces.Discrete(5)\n",
    "\n",
    "        # Observation space: plasma concentration of ibuprofen (0-100 µg/mL)\n",
    "        self.observation_space = gym.spaces.Box(low=0, high=100, shape=(1,), dtype=np.float32)\n",
    "\n",
    "        # Pharmacokinetics parameters\n",
    "        self.therapeutic_range = (10, 50)  # Target therapeutic range for the drug\n",
    "        self.half_life = 2.0  # Half-life of the drug in hours\n",
    "        self.clearance_rate = 0.693 / self.half_life  # Clearance rate calculated using half-life\n",
    "        self.time_step_hours = 1  # Time step in hours\n",
    "        self.bioavailability = 0.9  # Proportion of the drug absorbed into systemic circulation\n",
    "        self.volume_of_distribution = 0.15  # Volume of distribution in L/kg\n",
    "        self.max_steps = 24  # Maximum simulation steps (24 hours)\n",
    "\n",
    "        # Initial states\n",
    "        self.current_step = 0\n",
    "        self.plasma_concentration = 0.0\n",
    "        self.normalize = normalize\n",
    "        self.state_buffer = []  # Stores historical plasma concentrations for normalization\n",
    "\n",
    "    def reset(self, seed=None, **kwargs):\n",
    "        \"\"\"\n",
    "        Resets the environment to the initial state.\n",
    "\n",
    "        Args:\n",
    "            seed (int, optional): Random seed for reproducibility.\n",
    "\n",
    "        Returns:\n",
    "            tuple: The initial state and an empty info dictionary.\n",
    "        \"\"\"\n",
    "        super().reset(seed=seed)\n",
    "        self.current_step = 0  # Reset step counter\n",
    "        self.plasma_concentration = 0.0  # Reset plasma concentration\n",
    "        self.state_buffer = []  # Clear state buffer\n",
    "        state = np.array([self.plasma_concentration], dtype=np.float32)  # Initial state\n",
    "        return self._normalize(state), {}\n",
    "\n",
    "    def step(self, action):\n",
    "        \"\"\"\n",
    "        Takes a step in the environment based on the selected action.\n",
    "\n",
    "        Args:\n",
    "            action (int): The chosen action, representing the dose (0-4 units).\n",
    "\n",
    "        Returns:\n",
    "            tuple: Contains the next state, reward, done flag, truncated flag, and info dictionary.\n",
    "        \"\"\"\n",
    "        # Calculate the administered dose (200 mg per unit of action)\n",
    "        dose_mg = action * 200\n",
    "        # Calculate the absorbed dose after bioavailability\n",
    "        absorbed_mg = dose_mg * self.bioavailability\n",
    "        # Calculate the resulting plasma concentration (µg/mL)\n",
    "        absorbed_concentration = absorbed_mg / (self.volume_of_distribution * 70)  # Assume 70 kg body weight\n",
    "        # Update plasma concentration with the absorbed dose\n",
    "        self.plasma_concentration += absorbed_concentration\n",
    "        # Apply clearance (exponential decay)\n",
    "        self.plasma_concentration *= np.exp(-self.clearance_rate * self.time_step_hours)\n",
    "\n",
    "        # Generate the new state\n",
    "        state = np.array([self.plasma_concentration], dtype=np.float32)\n",
    "        normalized_state = self._normalize(state)  # Normalize the state if enabled\n",
    "\n",
    "        # Append current concentration to state buffer\n",
    "        self.state_buffer.append(self.plasma_concentration)\n",
    "\n",
    "        # Calculate reward based on the therapeutic range\n",
    "        if self.therapeutic_range[0] <= self.plasma_concentration <= self.therapeutic_range[1]:\n",
    "            reward = 10  # Positive reward for being in the therapeutic range\n",
    "        else:\n",
    "            # Penalize for concentrations outside the therapeutic range\n",
    "            if self.plasma_concentration < self.therapeutic_range[0]:\n",
    "                reward = -5 - (self.therapeutic_range[0] - self.plasma_concentration) * 0.5\n",
    "            elif self.plasma_concentration > self.therapeutic_range[1]:\n",
    "                reward = -5 - (self.plasma_concentration - self.therapeutic_range[1]) * 0.5\n",
    "\n",
    "        # Apply a severe penalty for toxic concentrations (above 100 µg/mL)\n",
    "        if self.plasma_concentration > 100:\n",
    "            reward -= 15\n",
    "\n",
    "        # Update step counter and check termination conditions\n",
    "        self.current_step += 1\n",
    "        done = self.current_step >= self.max_steps  # Episode ends after max steps\n",
    "        truncated = False  # No explicit truncation condition in this environment\n",
    "        info = {}  # Additional diagnostics can be added to this dictionary\n",
    "\n",
    "        return normalized_state, reward, done, truncated, info\n",
    "    \n",
    "    def _normalize(self, state):\n",
    "        \"\"\"\n",
    "        Normalizes the state based on the mean and standard deviation of past concentrations.\n",
    "\n",
    "        Args:\n",
    "            state (numpy.ndarray): The current state (plasma concentration).\n",
    "\n",
    "        Returns:\n",
    "            numpy.ndarray: The normalized state if normalization is enabled; otherwise, the original state.\n",
    "        \"\"\"\n",
    "        if self.normalize and len(self.state_buffer) > 1:\n",
    "            mean = np.mean(self.state_buffer)\n",
    "            std = np.std(self.state_buffer) + 1e-8  # Add a small value to prevent division by zero\n",
    "            return (state - mean) / std\n",
    "        return state"
   ],
   "id": "cab6f934c69eab42",
   "outputs": [],
   "execution_count": 3
  },
  {
   "metadata": {
    "ExecuteTime": {
     "end_time": "2024-12-04T12:41:18.380085Z",
     "start_time": "2024-12-04T12:41:18.374122Z"
    }
   },
   "cell_type": "code",
   "source": [
    "class RewardLoggingCallback(BaseCallback):\n",
    "    def __init__(self):\n",
    "        super(RewardLoggingCallback, self).__init__()\n",
    "        self.episode_rewards = []\n",
    "        self.current_episode_reward = 0\n",
    "\n",
    "    def _on_step(self) -> bool:\n",
    "        # Accumulate reward for the current step\n",
    "        self.current_episode_reward += self.locals[\"rewards\"][0]\n",
    "\n",
    "        # If the episode ends, log the reward\n",
    "        if self.locals[\"dones\"][0]:\n",
    "            self.episode_rewards.append(self.current_episode_reward)\n",
    "            self.current_episode_reward = 0  # Reset for the next episode\n",
    "        return True"
   ],
   "id": "f1941b47b1791fd7",
   "outputs": [],
   "execution_count": 4
  },
  {
   "metadata": {
    "ExecuteTime": {
     "end_time": "2024-12-04T12:41:18.428811Z",
     "start_time": "2024-12-04T12:41:18.414524Z"
    }
   },
   "cell_type": "code",
   "source": [
    "def optimize_ppo(trial):\n",
    "    env = DummyVecEnv([lambda: IbuprofenEnv(normalize=True)])\n",
    "    lr = trial.suggest_float(\"learning_rate\", 1e-5, 1e-3, log=True)\n",
    "    gamma = trial.suggest_float(\"gamma\", 0.90, 0.99)\n",
    "    n_epochs = trial.suggest_int(\"n_epochs\", 3, 10)\n",
    "    ent_coef = trial.suggest_float(\"ent_coef\", 1e-4, 1e-2, log=True)\n",
    "    batch_size = trial.suggest_int(\"batch_size\", 32, 512, step=32)\n",
    "    n_steps = trial.suggest_int(\"n_steps\", 64, 2048, step=64)\n",
    "    gae_lambda = trial.suggest_float(\"gae_lambda\", 0.8, 0.99)\n",
    "    clip_range = trial.suggest_float(\"clip_range\", 0.1, 0.3)\n",
    "\n",
    "    model = PPO(\n",
    "        \"MlpPolicy\",\n",
    "        env,\n",
    "        learning_rate=lr,\n",
    "        gamma=gamma,\n",
    "        n_epochs=n_epochs,\n",
    "        ent_coef=ent_coef,\n",
    "        batch_size=batch_size,\n",
    "        n_steps=n_steps,\n",
    "        gae_lambda=gae_lambda,\n",
    "        clip_range=clip_range,\n",
    "        verbose=0,\n",
    "    )\n",
    "    model.learn(total_timesteps=10000)\n",
    "\n",
    "    rewards = []\n",
    "    for _ in range(100):\n",
    "        obs = env.reset()\n",
    "        total_reward = 0\n",
    "        done = False\n",
    "        while not done:\n",
    "            action, _ = model.predict(obs, deterministic=True)\n",
    "            obs, reward, done, _ = env.step(action)\n",
    "            total_reward += reward\n",
    "        rewards.append(total_reward)\n",
    "\n",
    "    return np.mean(rewards)"
   ],
   "id": "947e443a07cb2c09",
   "outputs": [],
   "execution_count": 5
  },
  {
   "metadata": {
    "ExecuteTime": {
     "end_time": "2024-12-04T12:56:50.174403Z",
     "start_time": "2024-12-04T12:41:18.457734Z"
    }
   },
   "cell_type": "code",
   "source": [
    "study = optuna.create_study(direction=\"maximize\")\n",
    "study.optimize(optimize_ppo, n_trials=100)\n",
    "\n",
    "best_params = study.best_params\n",
    "print(\"Best Parameters:\", best_params)"
   ],
   "id": "b2e14556863cece3",
   "outputs": [
    {
     "name": "stderr",
     "output_type": "stream",
     "text": [
      "[I 2024-12-04 12:41:18,460] A new study created in memory with name: no-name-d3d23f1d-e6d1-40dd-b133-6b51ecee85e6\n",
      "/Users/xuenbei/miniconda3/lib/python3.12/site-packages/stable_baselines3/ppo/ppo.py:155: UserWarning: You have specified a mini-batch size of 352, but because the `RolloutBuffer` is of size `n_steps * n_envs = 1984`, after every 5 untruncated mini-batches, there will be a truncated mini-batch of size 224\n",
      "We recommend using a `batch_size` that is a factor of `n_steps * n_envs`.\n",
      "Info: (n_steps=1984 and n_envs=1)\n",
      "  warnings.warn(\n",
      "[I 2024-12-04 12:41:38,075] Trial 0 finished with value: -240.0 and parameters: {'learning_rate': 0.0002706261353569497, 'gamma': 0.9359851929950406, 'n_epochs': 5, 'ent_coef': 0.0006582273782348922, 'batch_size': 352, 'n_steps': 1984, 'gae_lambda': 0.9389854330945168, 'clip_range': 0.11786186954425237}. Best is trial 0 with value: -240.0.\n",
      "/Users/xuenbei/miniconda3/lib/python3.12/site-packages/stable_baselines3/ppo/ppo.py:155: UserWarning: You have specified a mini-batch size of 320, but because the `RolloutBuffer` is of size `n_steps * n_envs = 1728`, after every 5 untruncated mini-batches, there will be a truncated mini-batch of size 128\n",
      "We recommend using a `batch_size` that is a factor of `n_steps * n_envs`.\n",
      "Info: (n_steps=1728 and n_envs=1)\n",
      "  warnings.warn(\n",
      "[I 2024-12-04 12:41:48,417] Trial 1 finished with value: -240.0 and parameters: {'learning_rate': 0.00010978629165226612, 'gamma': 0.9763349695390993, 'n_epochs': 3, 'ent_coef': 0.00010012949002526746, 'batch_size': 320, 'n_steps': 1728, 'gae_lambda': 0.8875918073226368, 'clip_range': 0.12550069507150835}. Best is trial 0 with value: -240.0.\n",
      "/Users/xuenbei/miniconda3/lib/python3.12/site-packages/stable_baselines3/ppo/ppo.py:155: UserWarning: You have specified a mini-batch size of 480, but because the `RolloutBuffer` is of size `n_steps * n_envs = 2048`, after every 4 untruncated mini-batches, there will be a truncated mini-batch of size 128\n",
      "We recommend using a `batch_size` that is a factor of `n_steps * n_envs`.\n",
      "Info: (n_steps=2048 and n_envs=1)\n",
      "  warnings.warn(\n",
      "[I 2024-12-04 12:41:58,604] Trial 2 finished with value: -240.0 and parameters: {'learning_rate': 0.0001791539868164357, 'gamma': 0.9303446502532887, 'n_epochs': 6, 'ent_coef': 0.00011158065720805889, 'batch_size': 480, 'n_steps': 2048, 'gae_lambda': 0.8437391826367466, 'clip_range': 0.17579205699396022}. Best is trial 0 with value: -240.0.\n",
      "/Users/xuenbei/miniconda3/lib/python3.12/site-packages/stable_baselines3/ppo/ppo.py:155: UserWarning: You have specified a mini-batch size of 512, but because the `RolloutBuffer` is of size `n_steps * n_envs = 320`, after every 0 untruncated mini-batches, there will be a truncated mini-batch of size 320\n",
      "We recommend using a `batch_size` that is a factor of `n_steps * n_envs`.\n",
      "Info: (n_steps=320 and n_envs=1)\n",
      "  warnings.warn(\n",
      "[I 2024-12-04 12:42:07,957] Trial 3 finished with value: -240.0 and parameters: {'learning_rate': 0.00023563093928877392, 'gamma': 0.9869177740377, 'n_epochs': 6, 'ent_coef': 0.00023680060239875418, 'batch_size': 512, 'n_steps': 320, 'gae_lambda': 0.9543480153028883, 'clip_range': 0.2735546019138947}. Best is trial 0 with value: -240.0.\n",
      "/Users/xuenbei/miniconda3/lib/python3.12/site-packages/stable_baselines3/ppo/ppo.py:155: UserWarning: You have specified a mini-batch size of 448, but because the `RolloutBuffer` is of size `n_steps * n_envs = 1984`, after every 4 untruncated mini-batches, there will be a truncated mini-batch of size 192\n",
      "We recommend using a `batch_size` that is a factor of `n_steps * n_envs`.\n",
      "Info: (n_steps=1984 and n_envs=1)\n",
      "  warnings.warn(\n",
      "[I 2024-12-04 12:42:15,501] Trial 4 finished with value: -240.0 and parameters: {'learning_rate': 6.80400227504658e-05, 'gamma': 0.9869011571519674, 'n_epochs': 7, 'ent_coef': 0.0002910445340243857, 'batch_size': 448, 'n_steps': 1984, 'gae_lambda': 0.8342183658431216, 'clip_range': 0.2942928502468046}. Best is trial 0 with value: -240.0.\n",
      "/Users/xuenbei/miniconda3/lib/python3.12/site-packages/stable_baselines3/ppo/ppo.py:155: UserWarning: You have specified a mini-batch size of 256, but because the `RolloutBuffer` is of size `n_steps * n_envs = 448`, after every 1 untruncated mini-batches, there will be a truncated mini-batch of size 192\n",
      "We recommend using a `batch_size` that is a factor of `n_steps * n_envs`.\n",
      "Info: (n_steps=448 and n_envs=1)\n",
      "  warnings.warn(\n",
      "[I 2024-12-04 12:42:20,822] Trial 5 finished with value: -240.0 and parameters: {'learning_rate': 3.0349676236085334e-05, 'gamma': 0.9348569925638146, 'n_epochs': 4, 'ent_coef': 0.0003288298116456576, 'batch_size': 256, 'n_steps': 448, 'gae_lambda': 0.8218459996734423, 'clip_range': 0.1337413688671364}. Best is trial 0 with value: -240.0.\n",
      "/Users/xuenbei/miniconda3/lib/python3.12/site-packages/stable_baselines3/ppo/ppo.py:155: UserWarning: You have specified a mini-batch size of 224, but because the `RolloutBuffer` is of size `n_steps * n_envs = 1664`, after every 7 untruncated mini-batches, there will be a truncated mini-batch of size 96\n",
      "We recommend using a `batch_size` that is a factor of `n_steps * n_envs`.\n",
      "Info: (n_steps=1664 and n_envs=1)\n",
      "  warnings.warn(\n",
      "[I 2024-12-04 12:42:25,530] Trial 6 finished with value: -240.0 and parameters: {'learning_rate': 9.415646667811668e-05, 'gamma': 0.9083641830803111, 'n_epochs': 7, 'ent_coef': 0.006261223564020326, 'batch_size': 224, 'n_steps': 1664, 'gae_lambda': 0.9615081470077725, 'clip_range': 0.14206666904507936}. Best is trial 0 with value: -240.0.\n",
      "/Users/xuenbei/miniconda3/lib/python3.12/site-packages/stable_baselines3/ppo/ppo.py:155: UserWarning: You have specified a mini-batch size of 512, but because the `RolloutBuffer` is of size `n_steps * n_envs = 1600`, after every 3 untruncated mini-batches, there will be a truncated mini-batch of size 64\n",
      "We recommend using a `batch_size` that is a factor of `n_steps * n_envs`.\n",
      "Info: (n_steps=1600 and n_envs=1)\n",
      "  warnings.warn(\n",
      "[I 2024-12-04 12:42:29,493] Trial 7 finished with value: -240.0 and parameters: {'learning_rate': 2.584497164499688e-05, 'gamma': 0.9855828280950862, 'n_epochs': 6, 'ent_coef': 0.00028824868414844824, 'batch_size': 512, 'n_steps': 1600, 'gae_lambda': 0.9525242055770556, 'clip_range': 0.1678438405327348}. Best is trial 0 with value: -240.0.\n",
      "/Users/xuenbei/miniconda3/lib/python3.12/site-packages/stable_baselines3/ppo/ppo.py:155: UserWarning: You have specified a mini-batch size of 288, but because the `RolloutBuffer` is of size `n_steps * n_envs = 1920`, after every 6 untruncated mini-batches, there will be a truncated mini-batch of size 192\n",
      "We recommend using a `batch_size` that is a factor of `n_steps * n_envs`.\n",
      "Info: (n_steps=1920 and n_envs=1)\n",
      "  warnings.warn(\n",
      "[I 2024-12-04 12:42:33,791] Trial 8 finished with value: -240.0 and parameters: {'learning_rate': 7.819080145089055e-05, 'gamma': 0.9481870181750832, 'n_epochs': 6, 'ent_coef': 0.0012914895010544389, 'batch_size': 288, 'n_steps': 1920, 'gae_lambda': 0.848009666000215, 'clip_range': 0.1334312659546987}. Best is trial 0 with value: -240.0.\n",
      "/Users/xuenbei/miniconda3/lib/python3.12/site-packages/stable_baselines3/ppo/ppo.py:155: UserWarning: You have specified a mini-batch size of 512, but because the `RolloutBuffer` is of size `n_steps * n_envs = 1792`, after every 3 untruncated mini-batches, there will be a truncated mini-batch of size 256\n",
      "We recommend using a `batch_size` that is a factor of `n_steps * n_envs`.\n",
      "Info: (n_steps=1792 and n_envs=1)\n",
      "  warnings.warn(\n",
      "[I 2024-12-04 12:42:37,835] Trial 9 finished with value: -240.0 and parameters: {'learning_rate': 9.035897780352995e-05, 'gamma': 0.9240392223654694, 'n_epochs': 5, 'ent_coef': 0.0013975519744833331, 'batch_size': 512, 'n_steps': 1792, 'gae_lambda': 0.8434458904123077, 'clip_range': 0.2146622316821329}. Best is trial 0 with value: -240.0.\n",
      "[I 2024-12-04 12:42:44,652] Trial 10 finished with value: 207.3175048828125 and parameters: {'learning_rate': 0.0007635291918740498, 'gamma': 0.9568960459254164, 'n_epochs': 10, 'ent_coef': 0.004183661089883678, 'batch_size': 96, 'n_steps': 1152, 'gae_lambda': 0.9149149592664869, 'clip_range': 0.2294728387741628}. Best is trial 10 with value: 207.3175048828125.\n",
      "[I 2024-12-04 12:42:57,572] Trial 11 finished with value: 240.0 and parameters: {'learning_rate': 0.0008350317196890158, 'gamma': 0.9577742719864756, 'n_epochs': 10, 'ent_coef': 0.0041451012305191385, 'batch_size': 32, 'n_steps': 1024, 'gae_lambda': 0.9117270187885773, 'clip_range': 0.22963596297397976}. Best is trial 11 with value: 240.0.\n",
      "[I 2024-12-04 12:43:10,780] Trial 12 finished with value: 207.3175048828125 and parameters: {'learning_rate': 0.0007753726664911623, 'gamma': 0.9600098558111325, 'n_epochs': 10, 'ent_coef': 0.005945015892461748, 'batch_size': 32, 'n_steps': 1024, 'gae_lambda': 0.9069509457846874, 'clip_range': 0.2289482599092579}. Best is trial 11 with value: 240.0.\n",
      "[I 2024-12-04 12:43:35,256] Trial 13 finished with value: 240.0 and parameters: {'learning_rate': 0.0009677553629242974, 'gamma': 0.9609834392232544, 'n_epochs': 10, 'ent_coef': 0.0029663697756667044, 'batch_size': 32, 'n_steps': 1152, 'gae_lambda': 0.9124936281959584, 'clip_range': 0.24510026941876342}. Best is trial 11 with value: 240.0.\n",
      "[I 2024-12-04 12:43:45,115] Trial 14 finished with value: 240.0 and parameters: {'learning_rate': 0.00046664747908677697, 'gamma': 0.967499376078595, 'n_epochs': 9, 'ent_coef': 0.002840148199403988, 'batch_size': 128, 'n_steps': 896, 'gae_lambda': 0.8796547686678854, 'clip_range': 0.25564045098046617}. Best is trial 11 with value: 240.0.\n",
      "[I 2024-12-04 12:44:00,372] Trial 15 finished with value: -240.0 and parameters: {'learning_rate': 1.0704322602425735e-05, 'gamma': 0.9508680030877678, 'n_epochs': 8, 'ent_coef': 0.009663397997439522, 'batch_size': 32, 'n_steps': 1344, 'gae_lambda': 0.9823832847260529, 'clip_range': 0.2520580641983237}. Best is trial 11 with value: 240.0.\n",
      "/Users/xuenbei/miniconda3/lib/python3.12/site-packages/stable_baselines3/ppo/ppo.py:155: UserWarning: You have specified a mini-batch size of 160, but because the `RolloutBuffer` is of size `n_steps * n_envs = 704`, after every 4 untruncated mini-batches, there will be a truncated mini-batch of size 64\n",
      "We recommend using a `batch_size` that is a factor of `n_steps * n_envs`.\n",
      "Info: (n_steps=704 and n_envs=1)\n",
      "  warnings.warn(\n",
      "[I 2024-12-04 12:44:11,022] Trial 16 finished with value: 240.0 and parameters: {'learning_rate': 0.0004918904037439153, 'gamma': 0.9679669324953268, 'n_epochs': 9, 'ent_coef': 0.0021938721848784115, 'batch_size': 160, 'n_steps': 704, 'gae_lambda': 0.9270888384347239, 'clip_range': 0.20173535864689235}. Best is trial 11 with value: 240.0.\n",
      "[I 2024-12-04 12:44:26,313] Trial 17 finished with value: 207.3175048828125 and parameters: {'learning_rate': 0.0009694065527764714, 'gamma': 0.9723786283652468, 'n_epochs': 9, 'ent_coef': 0.0024455508635798985, 'batch_size': 96, 'n_steps': 1344, 'gae_lambda': 0.8719765403384865, 'clip_range': 0.2462718240612214}. Best is trial 11 with value: 240.0.\n",
      "/Users/xuenbei/miniconda3/lib/python3.12/site-packages/stable_baselines3/ppo/ppo.py:155: UserWarning: You have specified a mini-batch size of 192, but because the `RolloutBuffer` is of size `n_steps * n_envs = 704`, after every 3 untruncated mini-batches, there will be a truncated mini-batch of size 128\n",
      "We recommend using a `batch_size` that is a factor of `n_steps * n_envs`.\n",
      "Info: (n_steps=704 and n_envs=1)\n",
      "  warnings.warn(\n",
      "[I 2024-12-04 12:44:35,338] Trial 18 finished with value: 240.0 and parameters: {'learning_rate': 0.00042095831493398013, 'gamma': 0.9441197748811329, 'n_epochs': 8, 'ent_coef': 0.0007874510517214259, 'batch_size': 192, 'n_steps': 704, 'gae_lambda': 0.8020671478893715, 'clip_range': 0.181787333901674}. Best is trial 11 with value: 240.0.\n",
      "[I 2024-12-04 12:44:47,800] Trial 19 finished with value: 207.3175048828125 and parameters: {'learning_rate': 0.00031176299722284384, 'gamma': 0.9160839247587573, 'n_epochs': 10, 'ent_coef': 0.003826634900754822, 'batch_size': 64, 'n_steps': 1344, 'gae_lambda': 0.9020526412621117, 'clip_range': 0.29727366584711246}. Best is trial 11 with value: 240.0.\n",
      "/Users/xuenbei/miniconda3/lib/python3.12/site-packages/stable_baselines3/ppo/ppo.py:155: UserWarning: You have specified a mini-batch size of 384, but because the `RolloutBuffer` is of size `n_steps * n_envs = 64`, after every 0 untruncated mini-batches, there will be a truncated mini-batch of size 64\n",
      "We recommend using a `batch_size` that is a factor of `n_steps * n_envs`.\n",
      "Info: (n_steps=64 and n_envs=1)\n",
      "  warnings.warn(\n",
      "[I 2024-12-04 12:44:55,962] Trial 20 finished with value: 207.3175048828125 and parameters: {'learning_rate': 0.00016640001316916534, 'gamma': 0.9582079173765465, 'n_epochs': 8, 'ent_coef': 0.009893800749682411, 'batch_size': 384, 'n_steps': 64, 'gae_lambda': 0.8634153932416202, 'clip_range': 0.272160945154283}. Best is trial 11 with value: 240.0.\n",
      "/Users/xuenbei/miniconda3/lib/python3.12/site-packages/stable_baselines3/ppo/ppo.py:155: UserWarning: You have specified a mini-batch size of 160, but because the `RolloutBuffer` is of size `n_steps * n_envs = 896`, after every 5 untruncated mini-batches, there will be a truncated mini-batch of size 96\n",
      "We recommend using a `batch_size` that is a factor of `n_steps * n_envs`.\n",
      "Info: (n_steps=896 and n_envs=1)\n",
      "  warnings.warn(\n",
      "[I 2024-12-04 12:45:03,582] Trial 21 finished with value: 207.3175048828125 and parameters: {'learning_rate': 0.0005359580159778596, 'gamma': 0.9658842977863706, 'n_epochs': 9, 'ent_coef': 0.002374145151035942, 'batch_size': 160, 'n_steps': 896, 'gae_lambda': 0.8849451774537116, 'clip_range': 0.2536604353575312}. Best is trial 11 with value: 240.0.\n",
      "[I 2024-12-04 12:45:10,677] Trial 22 finished with value: 240.0 and parameters: {'learning_rate': 0.0009998413764140065, 'gamma': 0.973725418172975, 'n_epochs': 10, 'ent_coef': 0.0034630486644708584, 'batch_size': 96, 'n_steps': 768, 'gae_lambda': 0.9220467822948989, 'clip_range': 0.2302150357982156}. Best is trial 11 with value: 240.0.\n",
      "[I 2024-12-04 12:45:17,041] Trial 23 finished with value: 240.0 and parameters: {'learning_rate': 0.0006358637071337542, 'gamma': 0.9643238031543206, 'n_epochs': 9, 'ent_coef': 0.0019083384147976893, 'batch_size': 128, 'n_steps': 1152, 'gae_lambda': 0.8757635468240516, 'clip_range': 0.27516312907783474}. Best is trial 11 with value: 240.0.\n",
      "[I 2024-12-04 12:45:29,932] Trial 24 finished with value: 207.3175048828125 and parameters: {'learning_rate': 0.0004090041873188514, 'gamma': 0.9788569080869126, 'n_epochs': 10, 'ent_coef': 0.00576844933513307, 'batch_size': 32, 'n_steps': 896, 'gae_lambda': 0.8981537559704175, 'clip_range': 0.2039467965264233}. Best is trial 11 with value: 240.0.\n",
      "[I 2024-12-04 12:45:43,864] Trial 25 finished with value: 240.0 and parameters: {'learning_rate': 0.000374432684893037, 'gamma': 0.9524817187521414, 'n_epochs': 9, 'ent_coef': 0.0032645416644522755, 'batch_size': 64, 'n_steps': 448, 'gae_lambda': 0.9326434720680283, 'clip_range': 0.24412820304858376}. Best is trial 11 with value: 240.0.\n",
      "[I 2024-12-04 12:45:50,961] Trial 26 finished with value: 207.3175048828125 and parameters: {'learning_rate': 0.0006220528649826141, 'gamma': 0.9449845735564525, 'n_epochs': 8, 'ent_coef': 0.0014906240550978966, 'batch_size': 128, 'n_steps': 1536, 'gae_lambda': 0.8623227293373358, 'clip_range': 0.26442449091795983}. Best is trial 11 with value: 240.0.\n",
      "[I 2024-12-04 12:46:04,089] Trial 27 finished with value: 240.0 and parameters: {'learning_rate': 0.0007297626276779488, 'gamma': 0.9400682594413333, 'n_epochs': 10, 'ent_coef': 0.001010321210911806, 'batch_size': 64, 'n_steps': 1088, 'gae_lambda': 0.9124237980390418, 'clip_range': 0.21288367180798587}. Best is trial 11 with value: 240.0.\n",
      "/Users/xuenbei/miniconda3/lib/python3.12/site-packages/stable_baselines3/ppo/ppo.py:155: UserWarning: You have specified a mini-batch size of 192, but because the `RolloutBuffer` is of size `n_steps * n_envs = 896`, after every 4 untruncated mini-batches, there will be a truncated mini-batch of size 128\n",
      "We recommend using a `batch_size` that is a factor of `n_steps * n_envs`.\n",
      "Info: (n_steps=896 and n_envs=1)\n",
      "  warnings.warn(\n",
      "[I 2024-12-04 12:46:13,317] Trial 28 finished with value: -240.0 and parameters: {'learning_rate': 0.0002191661310442588, 'gamma': 0.9621387727385088, 'n_epochs': 9, 'ent_coef': 0.005226266625524733, 'batch_size': 192, 'n_steps': 896, 'gae_lambda': 0.9451024405452412, 'clip_range': 0.18850372253997716}. Best is trial 11 with value: 240.0.\n",
      "/Users/xuenbei/miniconda3/lib/python3.12/site-packages/stable_baselines3/ppo/ppo.py:155: UserWarning: You have specified a mini-batch size of 128, but because the `RolloutBuffer` is of size `n_steps * n_envs = 576`, after every 4 untruncated mini-batches, there will be a truncated mini-batch of size 64\n",
      "We recommend using a `batch_size` that is a factor of `n_steps * n_envs`.\n",
      "Info: (n_steps=576 and n_envs=1)\n",
      "  warnings.warn(\n",
      "[I 2024-12-04 12:46:19,509] Trial 29 finished with value: -240.0 and parameters: {'learning_rate': 0.00032214709013616915, 'gamma': 0.9547861194169666, 'n_epochs': 7, 'ent_coef': 0.0006074247052571605, 'batch_size': 128, 'n_steps': 576, 'gae_lambda': 0.8917686078425344, 'clip_range': 0.10899151746792442}. Best is trial 11 with value: 240.0.\n",
      "[I 2024-12-04 12:46:31,452] Trial 30 finished with value: 240.0 and parameters: {'learning_rate': 0.00097088577026659, 'gamma': 0.9671539419428508, 'n_epochs': 10, 'ent_coef': 0.0028705651412776045, 'batch_size': 32, 'n_steps': 1280, 'gae_lambda': 0.9374185669607166, 'clip_range': 0.23693506895163738}. Best is trial 11 with value: 240.0.\n",
      "[I 2024-12-04 12:46:37,715] Trial 31 finished with value: 240.0 and parameters: {'learning_rate': 0.0004940938134216145, 'gamma': 0.9689809577588734, 'n_epochs': 9, 'ent_coef': 0.0019743029431815748, 'batch_size': 160, 'n_steps': 704, 'gae_lambda': 0.9252215540209666, 'clip_range': 0.22030560472909366}. Best is trial 11 with value: 240.0.\n",
      "[I 2024-12-04 12:46:43,052] Trial 32 finished with value: -240.0 and parameters: {'learning_rate': 0.0005141146473400193, 'gamma': 0.9806256865999115, 'n_epochs': 9, 'ent_coef': 0.0019421708955110512, 'batch_size': 160, 'n_steps': 960, 'gae_lambda': 0.9757704996437131, 'clip_range': 0.19430707587657584}. Best is trial 11 with value: 240.0.\n",
      "/Users/xuenbei/miniconda3/lib/python3.12/site-packages/stable_baselines3/ppo/ppo.py:155: UserWarning: You have specified a mini-batch size of 224, but because the `RolloutBuffer` is of size `n_steps * n_envs = 576`, after every 2 untruncated mini-batches, there will be a truncated mini-batch of size 128\n",
      "We recommend using a `batch_size` that is a factor of `n_steps * n_envs`.\n",
      "Info: (n_steps=576 and n_envs=1)\n",
      "  warnings.warn(\n",
      "[I 2024-12-04 12:46:49,617] Trial 33 finished with value: -240.0 and parameters: {'learning_rate': 0.0001355712455089551, 'gamma': 0.9713310786740106, 'n_epochs': 8, 'ent_coef': 0.004454359204016616, 'batch_size': 224, 'n_steps': 576, 'gae_lambda': 0.9227818253748843, 'clip_range': 0.20654064483779738}. Best is trial 11 with value: 240.0.\n",
      "/Users/xuenbei/miniconda3/lib/python3.12/site-packages/stable_baselines3/ppo/ppo.py:155: UserWarning: You have specified a mini-batch size of 352, but because the `RolloutBuffer` is of size `n_steps * n_envs = 768`, after every 2 untruncated mini-batches, there will be a truncated mini-batch of size 64\n",
      "We recommend using a `batch_size` that is a factor of `n_steps * n_envs`.\n",
      "Info: (n_steps=768 and n_envs=1)\n",
      "  warnings.warn(\n",
      "[I 2024-12-04 12:46:57,908] Trial 34 finished with value: -240.0 and parameters: {'learning_rate': 0.00025155542936058147, 'gamma': 0.9796494456566455, 'n_epochs': 10, 'ent_coef': 0.0028107100819321955, 'batch_size': 352, 'n_steps': 768, 'gae_lambda': 0.8812226738121313, 'clip_range': 0.2570069070491274}. Best is trial 11 with value: 240.0.\n",
      "[I 2024-12-04 12:47:03,778] Trial 35 finished with value: -240.0 and parameters: {'learning_rate': 0.0006007055664780177, 'gamma': 0.9632184800891228, 'n_epochs': 3, 'ent_coef': 0.0009513278034735198, 'batch_size': 96, 'n_steps': 1152, 'gae_lambda': 0.8943718078803836, 'clip_range': 0.16530970145868198}. Best is trial 11 with value: 240.0.\n",
      "[I 2024-12-04 12:47:12,377] Trial 36 finished with value: -240.0 and parameters: {'learning_rate': 4.475779353864211e-05, 'gamma': 0.9754500529370965, 'n_epochs': 9, 'ent_coef': 0.0015954819914456022, 'batch_size': 64, 'n_steps': 1472, 'gae_lambda': 0.9044670344075946, 'clip_range': 0.2841862790309838}. Best is trial 11 with value: 240.0.\n",
      "/Users/xuenbei/miniconda3/lib/python3.12/site-packages/stable_baselines3/ppo/ppo.py:155: UserWarning: You have specified a mini-batch size of 256, but because the `RolloutBuffer` is of size `n_steps * n_envs = 320`, after every 1 untruncated mini-batches, there will be a truncated mini-batch of size 64\n",
      "We recommend using a `batch_size` that is a factor of `n_steps * n_envs`.\n",
      "Info: (n_steps=320 and n_envs=1)\n",
      "  warnings.warn(\n",
      "[I 2024-12-04 12:47:20,536] Trial 37 finished with value: -240.0 and parameters: {'learning_rate': 0.0002015062441713011, 'gamma': 0.9560879337365553, 'n_epochs': 8, 'ent_coef': 0.007175110553284243, 'batch_size': 256, 'n_steps': 320, 'gae_lambda': 0.9335767442850299, 'clip_range': 0.2387734522509335}. Best is trial 11 with value: 240.0.\n",
      "/Users/xuenbei/miniconda3/lib/python3.12/site-packages/stable_baselines3/ppo/ppo.py:155: UserWarning: You have specified a mini-batch size of 192, but because the `RolloutBuffer` is of size `n_steps * n_envs = 832`, after every 4 untruncated mini-batches, there will be a truncated mini-batch of size 64\n",
      "We recommend using a `batch_size` that is a factor of `n_steps * n_envs`.\n",
      "Info: (n_steps=832 and n_envs=1)\n",
      "  warnings.warn(\n",
      "[I 2024-12-04 12:47:29,054] Trial 38 finished with value: -240.0 and parameters: {'learning_rate': 0.0007928814912677755, 'gamma': 0.9841065682335811, 'n_epochs': 5, 'ent_coef': 0.007774027566595642, 'batch_size': 192, 'n_steps': 832, 'gae_lambda': 0.9492198006353357, 'clip_range': 0.1511373219060026}. Best is trial 11 with value: 240.0.\n",
      "[I 2024-12-04 12:47:35,414] Trial 39 finished with value: -240.0 and parameters: {'learning_rate': 0.0003329787295415541, 'gamma': 0.9364397379213489, 'n_epochs': 7, 'ent_coef': 0.004526281684124857, 'batch_size': 128, 'n_steps': 1024, 'gae_lambda': 0.9686850639554512, 'clip_range': 0.2651448567623065}. Best is trial 11 with value: 240.0.\n",
      "[I 2024-12-04 12:47:42,684] Trial 40 finished with value: -240.0 and parameters: {'learning_rate': 0.00042725365685004885, 'gamma': 0.9500802448276487, 'n_epochs': 10, 'ent_coef': 0.0006187803990210976, 'batch_size': 288, 'n_steps': 576, 'gae_lambda': 0.9147883222280209, 'clip_range': 0.21782447650399017}. Best is trial 11 with value: 240.0.\n",
      "/Users/xuenbei/miniconda3/lib/python3.12/site-packages/stable_baselines3/ppo/ppo.py:155: UserWarning: You have specified a mini-batch size of 192, but because the `RolloutBuffer` is of size `n_steps * n_envs = 640`, after every 3 untruncated mini-batches, there will be a truncated mini-batch of size 64\n",
      "We recommend using a `batch_size` that is a factor of `n_steps * n_envs`.\n",
      "Info: (n_steps=640 and n_envs=1)\n",
      "  warnings.warn(\n",
      "[I 2024-12-04 12:47:49,907] Trial 41 finished with value: -240.0 and parameters: {'learning_rate': 0.00026279358337515416, 'gamma': 0.9433743172104522, 'n_epochs': 8, 'ent_coef': 0.00039969565988965007, 'batch_size': 192, 'n_steps': 640, 'gae_lambda': 0.8314256857841584, 'clip_range': 0.18173782574964384}. Best is trial 11 with value: 240.0.\n",
      "/Users/xuenbei/miniconda3/lib/python3.12/site-packages/stable_baselines3/ppo/ppo.py:155: UserWarning: You have specified a mini-batch size of 160, but because the `RolloutBuffer` is of size `n_steps * n_envs = 448`, after every 2 untruncated mini-batches, there will be a truncated mini-batch of size 128\n",
      "We recommend using a `batch_size` that is a factor of `n_steps * n_envs`.\n",
      "Info: (n_steps=448 and n_envs=1)\n",
      "  warnings.warn(\n",
      "[I 2024-12-04 12:47:56,199] Trial 42 finished with value: 240.0 and parameters: {'learning_rate': 0.0003924510736988687, 'gamma': 0.926182822465542, 'n_epochs': 9, 'ent_coef': 0.0008858196657123661, 'batch_size': 160, 'n_steps': 448, 'gae_lambda': 0.8039974614244587, 'clip_range': 0.16836791471228957}. Best is trial 11 with value: 240.0.\n",
      "/Users/xuenbei/miniconda3/lib/python3.12/site-packages/stable_baselines3/ppo/ppo.py:155: UserWarning: You have specified a mini-batch size of 224, but because the `RolloutBuffer` is of size `n_steps * n_envs = 1216`, after every 5 untruncated mini-batches, there will be a truncated mini-batch of size 96\n",
      "We recommend using a `batch_size` that is a factor of `n_steps * n_envs`.\n",
      "Info: (n_steps=1216 and n_envs=1)\n",
      "  warnings.warn(\n",
      "[I 2024-12-04 12:48:01,305] Trial 43 finished with value: -240.0 and parameters: {'learning_rate': 0.00048317095028131024, 'gamma': 0.9608159953646699, 'n_epochs': 9, 'ent_coef': 0.001090008686866376, 'batch_size': 224, 'n_steps': 1216, 'gae_lambda': 0.8221094703106108, 'clip_range': 0.19615031275824205}. Best is trial 11 with value: 240.0.\n",
      "/Users/xuenbei/miniconda3/lib/python3.12/site-packages/stable_baselines3/ppo/ppo.py:155: UserWarning: You have specified a mini-batch size of 224, but because the `RolloutBuffer` is of size `n_steps * n_envs = 768`, after every 3 untruncated mini-batches, there will be a truncated mini-batch of size 96\n",
      "We recommend using a `batch_size` that is a factor of `n_steps * n_envs`.\n",
      "Info: (n_steps=768 and n_envs=1)\n",
      "  warnings.warn(\n",
      "[I 2024-12-04 12:48:06,512] Trial 44 finished with value: 240.0 and parameters: {'learning_rate': 0.0007384636799607686, 'gamma': 0.9475481875744607, 'n_epochs': 8, 'ent_coef': 0.00014705580884790908, 'batch_size': 224, 'n_steps': 768, 'gae_lambda': 0.856127687589409, 'clip_range': 0.17766267986946507}. Best is trial 11 with value: 240.0.\n",
      "[I 2024-12-04 12:48:13,611] Trial 45 finished with value: -240.0 and parameters: {'learning_rate': 0.00012829068540756128, 'gamma': 0.9012560489887782, 'n_epochs': 10, 'ent_coef': 0.00044950149445098335, 'batch_size': 64, 'n_steps': 960, 'gae_lambda': 0.9259752020216018, 'clip_range': 0.15134330234715762}. Best is trial 11 with value: 240.0.\n",
      "/Users/xuenbei/miniconda3/lib/python3.12/site-packages/stable_baselines3/ppo/ppo.py:155: UserWarning: You have specified a mini-batch size of 96, but because the `RolloutBuffer` is of size `n_steps * n_envs = 704`, after every 7 untruncated mini-batches, there will be a truncated mini-batch of size 32\n",
      "We recommend using a `batch_size` that is a factor of `n_steps * n_envs`.\n",
      "Info: (n_steps=704 and n_envs=1)\n",
      "  warnings.warn(\n",
      "[I 2024-12-04 12:48:20,133] Trial 46 finished with value: 240.0 and parameters: {'learning_rate': 0.0008357201496696898, 'gamma': 0.9695821062840203, 'n_epochs': 9, 'ent_coef': 0.0007662129427042027, 'batch_size': 96, 'n_steps': 704, 'gae_lambda': 0.8064119767304097, 'clip_range': 0.22915018441334423}. Best is trial 11 with value: 240.0.\n",
      "/Users/xuenbei/miniconda3/lib/python3.12/site-packages/stable_baselines3/ppo/ppo.py:155: UserWarning: You have specified a mini-batch size of 192, but because the `RolloutBuffer` is of size `n_steps * n_envs = 1088`, after every 5 untruncated mini-batches, there will be a truncated mini-batch of size 128\n",
      "We recommend using a `batch_size` that is a factor of `n_steps * n_envs`.\n",
      "Info: (n_steps=1088 and n_envs=1)\n",
      "  warnings.warn(\n",
      "[I 2024-12-04 12:48:24,953] Trial 47 finished with value: -240.0 and parameters: {'learning_rate': 0.0006507101691782307, 'gamma': 0.9410456012070523, 'n_epochs': 7, 'ent_coef': 0.002468008007041356, 'batch_size': 192, 'n_steps': 1088, 'gae_lambda': 0.9603540926197625, 'clip_range': 0.22170077563628363}. Best is trial 11 with value: 240.0.\n",
      "/Users/xuenbei/miniconda3/lib/python3.12/site-packages/stable_baselines3/ppo/ppo.py:155: UserWarning: You have specified a mini-batch size of 448, but because the `RolloutBuffer` is of size `n_steps * n_envs = 64`, after every 0 untruncated mini-batches, there will be a truncated mini-batch of size 64\n",
      "We recommend using a `batch_size` that is a factor of `n_steps * n_envs`.\n",
      "Info: (n_steps=64 and n_envs=1)\n",
      "  warnings.warn(\n",
      "[I 2024-12-04 12:48:33,583] Trial 48 finished with value: 240.0 and parameters: {'learning_rate': 0.0004768957964442625, 'gamma': 0.9326528133481742, 'n_epochs': 10, 'ent_coef': 0.0011635179739623496, 'batch_size': 448, 'n_steps': 64, 'gae_lambda': 0.9114080589396623, 'clip_range': 0.2078876531446749}. Best is trial 11 with value: 240.0.\n",
      "[I 2024-12-04 12:48:46,153] Trial 49 finished with value: -240.0 and parameters: {'learning_rate': 6.099071215167538e-05, 'gamma': 0.9531820772861244, 'n_epochs': 8, 'ent_coef': 0.0016809391972206391, 'batch_size': 32, 'n_steps': 192, 'gae_lambda': 0.8154520765691681, 'clip_range': 0.282610413663208}. Best is trial 11 with value: 240.0.\n",
      "/Users/xuenbei/miniconda3/lib/python3.12/site-packages/stable_baselines3/ppo/ppo.py:155: UserWarning: You have specified a mini-batch size of 320, but because the `RolloutBuffer` is of size `n_steps * n_envs = 448`, after every 1 untruncated mini-batches, there will be a truncated mini-batch of size 128\n",
      "We recommend using a `batch_size` that is a factor of `n_steps * n_envs`.\n",
      "Info: (n_steps=448 and n_envs=1)\n",
      "  warnings.warn(\n",
      "[I 2024-12-04 12:48:51,950] Trial 50 finished with value: -240.0 and parameters: {'learning_rate': 1.2061388789198366e-05, 'gamma': 0.9609168802732219, 'n_epochs': 10, 'ent_coef': 0.0032231100027102022, 'batch_size': 320, 'n_steps': 448, 'gae_lambda': 0.9426271672939879, 'clip_range': 0.19015799383936252}. Best is trial 11 with value: 240.0.\n",
      "/Users/xuenbei/miniconda3/lib/python3.12/site-packages/stable_baselines3/ppo/ppo.py:155: UserWarning: You have specified a mini-batch size of 96, but because the `RolloutBuffer` is of size `n_steps * n_envs = 832`, after every 8 untruncated mini-batches, there will be a truncated mini-batch of size 64\n",
      "We recommend using a `batch_size` that is a factor of `n_steps * n_envs`.\n",
      "Info: (n_steps=832 and n_envs=1)\n",
      "  warnings.warn(\n",
      "[I 2024-12-04 12:48:58,938] Trial 51 finished with value: 207.3175048828125 and parameters: {'learning_rate': 0.000968819764974225, 'gamma': 0.9752132491515348, 'n_epochs': 10, 'ent_coef': 0.0038637313805455573, 'batch_size': 96, 'n_steps': 832, 'gae_lambda': 0.9270583699319417, 'clip_range': 0.23353704309190676}. Best is trial 11 with value: 240.0.\n",
      "/Users/xuenbei/miniconda3/lib/python3.12/site-packages/stable_baselines3/ppo/ppo.py:155: UserWarning: You have specified a mini-batch size of 128, but because the `RolloutBuffer` is of size `n_steps * n_envs = 960`, after every 7 untruncated mini-batches, there will be a truncated mini-batch of size 64\n",
      "We recommend using a `batch_size` that is a factor of `n_steps * n_envs`.\n",
      "Info: (n_steps=960 and n_envs=1)\n",
      "  warnings.warn(\n",
      "[I 2024-12-04 12:49:06,789] Trial 52 finished with value: 207.3175048828125 and parameters: {'learning_rate': 0.0009989881435921663, 'gamma': 0.9732123601659513, 'n_epochs': 9, 'ent_coef': 0.0034110460413226316, 'batch_size': 128, 'n_steps': 960, 'gae_lambda': 0.9181056937514458, 'clip_range': 0.2437848991791535}. Best is trial 11 with value: 240.0.\n",
      "[I 2024-12-04 12:49:14,113] Trial 53 finished with value: 240.0 and parameters: {'learning_rate': 0.0005818698251130244, 'gamma': 0.9662901470306872, 'n_epochs': 10, 'ent_coef': 0.0021623884169339096, 'batch_size': 96, 'n_steps': 768, 'gae_lambda': 0.9059559485219385, 'clip_range': 0.2570525578457699}. Best is trial 11 with value: 240.0.\n",
      "[I 2024-12-04 12:49:25,102] Trial 54 finished with value: 240.0 and parameters: {'learning_rate': 0.000853360160682131, 'gamma': 0.9588915254058259, 'n_epochs': 10, 'ent_coef': 0.002719501009913877, 'batch_size': 32, 'n_steps': 704, 'gae_lambda': 0.8960908842570228, 'clip_range': 0.2252159033787806}. Best is trial 11 with value: 240.0.\n",
      "[I 2024-12-04 12:49:32,434] Trial 55 finished with value: 207.3175048828125 and parameters: {'learning_rate': 0.00069149407710627, 'gamma': 0.9845219687329713, 'n_epochs': 9, 'ent_coef': 0.0049103113244217175, 'batch_size': 64, 'n_steps': 832, 'gae_lambda': 0.887040468324466, 'clip_range': 0.2501380043417307}. Best is trial 11 with value: 240.0.\n",
      "/Users/xuenbei/miniconda3/lib/python3.12/site-packages/stable_baselines3/ppo/ppo.py:155: UserWarning: You have specified a mini-batch size of 160, but because the `RolloutBuffer` is of size `n_steps * n_envs = 1216`, after every 7 untruncated mini-batches, there will be a truncated mini-batch of size 96\n",
      "We recommend using a `batch_size` that is a factor of `n_steps * n_envs`.\n",
      "Info: (n_steps=1216 and n_envs=1)\n",
      "  warnings.warn(\n",
      "[I 2024-12-04 12:49:38,337] Trial 56 finished with value: -240.0 and parameters: {'learning_rate': 0.00029680158085431123, 'gamma': 0.9485856440163101, 'n_epochs': 10, 'ent_coef': 0.003722409927924528, 'batch_size': 160, 'n_steps': 1216, 'gae_lambda': 0.9190108703376695, 'clip_range': 0.21241846633117953}. Best is trial 11 with value: 240.0.\n",
      "[I 2024-12-04 12:49:45,117] Trial 57 finished with value: 240.0 and parameters: {'learning_rate': 0.0008586943839203459, 'gamma': 0.957076792275728, 'n_epochs': 9, 'ent_coef': 0.006758412314846039, 'batch_size': 128, 'n_steps': 1408, 'gae_lambda': 0.8401857429489344, 'clip_range': 0.2018531619211227}. Best is trial 11 with value: 240.0.\n",
      "[I 2024-12-04 12:49:51,511] Trial 58 finished with value: 240.0 and parameters: {'learning_rate': 0.0005566722251363719, 'gamma': 0.9887584240030282, 'n_epochs': 4, 'ent_coef': 0.0004938564275102581, 'batch_size': 64, 'n_steps': 1024, 'gae_lambda': 0.8738196529384894, 'clip_range': 0.261667532930069}. Best is trial 11 with value: 240.0.\n",
      "/Users/xuenbei/miniconda3/lib/python3.12/site-packages/stable_baselines3/ppo/ppo.py:155: UserWarning: You have specified a mini-batch size of 96, but because the `RolloutBuffer` is of size `n_steps * n_envs = 512`, after every 5 untruncated mini-batches, there will be a truncated mini-batch of size 32\n",
      "We recommend using a `batch_size` that is a factor of `n_steps * n_envs`.\n",
      "Info: (n_steps=512 and n_envs=1)\n",
      "  warnings.warn(\n",
      "[I 2024-12-04 12:50:00,355] Trial 59 finished with value: -240.0 and parameters: {'learning_rate': 0.0003842098593342859, 'gamma': 0.9685496014387941, 'n_epochs': 6, 'ent_coef': 0.0012896383068959716, 'batch_size': 96, 'n_steps': 512, 'gae_lambda': 0.9574505420286409, 'clip_range': 0.24058892613746435}. Best is trial 11 with value: 240.0.\n",
      "[I 2024-12-04 12:50:12,074] Trial 60 finished with value: 240.0 and parameters: {'learning_rate': 0.0006948578998873377, 'gamma': 0.9641430259468432, 'n_epochs': 10, 'ent_coef': 0.005738237630206773, 'batch_size': 32, 'n_steps': 640, 'gae_lambda': 0.9403504463306022, 'clip_range': 0.26847644427158956}. Best is trial 11 with value: 240.0.\n",
      "[I 2024-12-04 12:50:17,544] Trial 61 finished with value: 240.0 and parameters: {'learning_rate': 0.0006078386442856622, 'gamma': 0.9650258427825924, 'n_epochs': 9, 'ent_coef': 0.0018086560774666306, 'batch_size': 128, 'n_steps': 1152, 'gae_lambda': 0.8787986990769576, 'clip_range': 0.282267211523836}. Best is trial 11 with value: 240.0.\n",
      "[I 2024-12-04 12:50:22,853] Trial 62 finished with value: 240.0 and parameters: {'learning_rate': 0.00047449455439076, 'gamma': 0.9775840894836384, 'n_epochs': 9, 'ent_coef': 0.0022598022096523224, 'batch_size': 160, 'n_steps': 896, 'gae_lambda': 0.8534741116966313, 'clip_range': 0.2777079741116658}. Best is trial 11 with value: 240.0.\n",
      "/Users/xuenbei/miniconda3/lib/python3.12/site-packages/stable_baselines3/ppo/ppo.py:155: UserWarning: You have specified a mini-batch size of 96, but because the `RolloutBuffer` is of size `n_steps * n_envs = 1280`, after every 13 untruncated mini-batches, there will be a truncated mini-batch of size 32\n",
      "We recommend using a `batch_size` that is a factor of `n_steps * n_envs`.\n",
      "Info: (n_steps=1280 and n_envs=1)\n",
      "  warnings.warn(\n",
      "[I 2024-12-04 12:50:28,063] Trial 63 finished with value: 207.3175048828125 and parameters: {'learning_rate': 0.0008732418449726394, 'gamma': 0.9731351753341612, 'n_epochs': 8, 'ent_coef': 0.002918711249995313, 'batch_size': 96, 'n_steps': 1280, 'gae_lambda': 0.9330499897923318, 'clip_range': 0.24866005216694995}. Best is trial 11 with value: 240.0.\n",
      "[I 2024-12-04 12:50:34,823] Trial 64 finished with value: 240.0 and parameters: {'learning_rate': 0.0006855229279686421, 'gamma': 0.9716337558473388, 'n_epochs': 9, 'ent_coef': 0.0007662880205059057, 'batch_size': 64, 'n_steps': 960, 'gae_lambda': 0.8729473903759646, 'clip_range': 0.29321284923026253}. Best is trial 11 with value: 240.0.\n",
      "/Users/xuenbei/miniconda3/lib/python3.12/site-packages/stable_baselines3/ppo/ppo.py:155: UserWarning: You have specified a mini-batch size of 128, but because the `RolloutBuffer` is of size `n_steps * n_envs = 1088`, after every 8 untruncated mini-batches, there will be a truncated mini-batch of size 64\n",
      "We recommend using a `batch_size` that is a factor of `n_steps * n_envs`.\n",
      "Info: (n_steps=1088 and n_envs=1)\n",
      "  warnings.warn(\n",
      "[I 2024-12-04 12:50:41,405] Trial 65 finished with value: 207.3175048828125 and parameters: {'learning_rate': 0.00044590665673295934, 'gamma': 0.9532946185971344, 'n_epochs': 10, 'ent_coef': 0.0014405950029596631, 'batch_size': 128, 'n_steps': 1088, 'gae_lambda': 0.9017206431324479, 'clip_range': 0.2347586272915045}. Best is trial 11 with value: 240.0.\n",
      "[I 2024-12-04 12:50:49,264] Trial 66 finished with value: -240.0 and parameters: {'learning_rate': 0.0003581972451128213, 'gamma': 0.9619459924292517, 'n_epochs': 8, 'ent_coef': 0.0019821417204476254, 'batch_size': 192, 'n_steps': 1152, 'gae_lambda': 0.9078211255219917, 'clip_range': 0.27424483947670375}. Best is trial 11 with value: 240.0.\n",
      "/Users/xuenbei/miniconda3/lib/python3.12/site-packages/stable_baselines3/ppo/ppo.py:155: UserWarning: You have specified a mini-batch size of 160, but because the `RolloutBuffer` is of size `n_steps * n_envs = 1856`, after every 11 untruncated mini-batches, there will be a truncated mini-batch of size 96\n",
      "We recommend using a `batch_size` that is a factor of `n_steps * n_envs`.\n",
      "Info: (n_steps=1856 and n_envs=1)\n",
      "  warnings.warn(\n",
      "[I 2024-12-04 12:50:54,323] Trial 67 finished with value: -240.0 and parameters: {'learning_rate': 0.0005681188777776513, 'gamma': 0.9809284451353003, 'n_epochs': 9, 'ent_coef': 0.0025343159878985643, 'batch_size': 160, 'n_steps': 1856, 'gae_lambda': 0.891609902809622, 'clip_range': 0.25614667252652806}. Best is trial 11 with value: 240.0.\n",
      "[I 2024-12-04 12:51:07,492] Trial 68 finished with value: 240.0 and parameters: {'learning_rate': 0.0007737212313269691, 'gamma': 0.9690247259214901, 'n_epochs': 10, 'ent_coef': 0.003366289093270123, 'batch_size': 32, 'n_steps': 1024, 'gae_lambda': 0.8652688932405703, 'clip_range': 0.2254606993557008}. Best is trial 11 with value: 240.0.\n",
      "[I 2024-12-04 12:51:19,658] Trial 69 finished with value: -240.0 and parameters: {'learning_rate': 2.362434094117054e-05, 'gamma': 0.9579872344283829, 'n_epochs': 10, 'ent_coef': 0.004512260870969994, 'batch_size': 64, 'n_steps': 640, 'gae_lambda': 0.920319950492631, 'clip_range': 0.1879267117524661}. Best is trial 11 with value: 240.0.\n",
      "[I 2024-12-04 12:51:28,916] Trial 70 finished with value: -240.0 and parameters: {'learning_rate': 0.00016339311610774707, 'gamma': 0.9368909470950877, 'n_epochs': 7, 'ent_coef': 0.0030163740689567843, 'batch_size': 96, 'n_steps': 832, 'gae_lambda': 0.9483320626362542, 'clip_range': 0.17058756677115866}. Best is trial 11 with value: 240.0.\n",
      "[I 2024-12-04 12:51:43,344] Trial 71 finished with value: 240.0 and parameters: {'learning_rate': 0.0003019345788089664, 'gamma': 0.9512126446419039, 'n_epochs': 9, 'ent_coef': 0.0037056913661027125, 'batch_size': 64, 'n_steps': 320, 'gae_lambda': 0.93110127588329, 'clip_range': 0.2460938847242814}. Best is trial 11 with value: 240.0.\n",
      "[I 2024-12-04 12:51:53,452] Trial 72 finished with value: 240.0 and parameters: {'learning_rate': 0.00040866754550253023, 'gamma': 0.9554650155279233, 'n_epochs': 9, 'ent_coef': 0.0051912701737027835, 'batch_size': 128, 'n_steps': 384, 'gae_lambda': 0.9370321458590074, 'clip_range': 0.261721094690672}. Best is trial 11 with value: 240.0.\n",
      "[I 2024-12-04 12:52:07,421] Trial 73 finished with value: 240.0 and parameters: {'learning_rate': 0.0003486885301860355, 'gamma': 0.9442006318070526, 'n_epochs': 9, 'ent_coef': 0.008413007526639035, 'batch_size': 32, 'n_steps': 512, 'gae_lambda': 0.9124880109290737, 'clip_range': 0.16070393676303835}. Best is trial 11 with value: 240.0.\n",
      "[I 2024-12-04 12:52:17,776] Trial 74 finished with value: -240.0 and parameters: {'learning_rate': 0.0002183392144587336, 'gamma': 0.9641433104830525, 'n_epochs': 8, 'ent_coef': 0.0022301871327387824, 'batch_size': 64, 'n_steps': 1216, 'gae_lambda': 0.9276968466315502, 'clip_range': 0.24171590818808977}. Best is trial 11 with value: 240.0.\n",
      "/Users/xuenbei/miniconda3/lib/python3.12/site-packages/stable_baselines3/ppo/ppo.py:155: UserWarning: You have specified a mini-batch size of 128, but because the `RolloutBuffer` is of size `n_steps * n_envs = 192`, after every 1 untruncated mini-batches, there will be a truncated mini-batch of size 64\n",
      "We recommend using a `batch_size` that is a factor of `n_steps * n_envs`.\n",
      "Info: (n_steps=192 and n_envs=1)\n",
      "  warnings.warn(\n",
      "[I 2024-12-04 12:52:27,246] Trial 75 finished with value: 240.0 and parameters: {'learning_rate': 0.0006404120475091492, 'gamma': 0.946552842048657, 'n_epochs': 10, 'ent_coef': 0.004100557971235786, 'batch_size': 128, 'n_steps': 192, 'gae_lambda': 0.9019446594637814, 'clip_range': 0.23176693310662497}. Best is trial 11 with value: 240.0.\n",
      "[I 2024-12-04 12:52:36,816] Trial 76 finished with value: 240.0 and parameters: {'learning_rate': 0.0005109798705756252, 'gamma': 0.953894511322486, 'n_epochs': 8, 'ent_coef': 0.0026387075681876134, 'batch_size': 96, 'n_steps': 768, 'gae_lambda': 0.8793846129533335, 'clip_range': 0.29188820108586166}. Best is trial 11 with value: 240.0.\n",
      "[I 2024-12-04 12:52:46,517] Trial 77 finished with value: 207.3175048828125 and parameters: {'learning_rate': 0.0009128933136277047, 'gamma': 0.9663739789931776, 'n_epochs': 9, 'ent_coef': 0.0016925084944911745, 'batch_size': 160, 'n_steps': 704, 'gae_lambda': 0.9093792955310345, 'clip_range': 0.21087142752456794}. Best is trial 11 with value: 240.0.\n",
      "[I 2024-12-04 12:52:56,720] Trial 78 finished with value: 240.0 and parameters: {'learning_rate': 0.0007497956058285744, 'gamma': 0.9599443202872837, 'n_epochs': 10, 'ent_coef': 0.0012698957204185, 'batch_size': 192, 'n_steps': 896, 'gae_lambda': 0.9213879153164514, 'clip_range': 0.2693222546991204}. Best is trial 11 with value: 240.0.\n",
      "[I 2024-12-04 12:53:13,050] Trial 79 finished with value: 240.0 and parameters: {'learning_rate': 0.0005383415891783741, 'gamma': 0.9396544237459503, 'n_epochs': 9, 'ent_coef': 0.003264875189354378, 'batch_size': 32, 'n_steps': 1280, 'gae_lambda': 0.9161645780536485, 'clip_range': 0.21781801620206748}. Best is trial 11 with value: 240.0.\n",
      "[I 2024-12-04 12:53:25,142] Trial 80 finished with value: 240.0 and parameters: {'learning_rate': 0.00044040771755986144, 'gamma': 0.9512871779328098, 'n_epochs': 10, 'ent_coef': 0.0019391160910649267, 'batch_size': 64, 'n_steps': 512, 'gae_lambda': 0.8910596010696032, 'clip_range': 0.19666747947613109}. Best is trial 11 with value: 240.0.\n",
      "[I 2024-12-04 12:53:37,340] Trial 81 finished with value: 240.0 and parameters: {'learning_rate': 0.0007565641905719279, 'gamma': 0.9329014930977796, 'n_epochs': 10, 'ent_coef': 0.00054260790860656, 'batch_size': 64, 'n_steps': 1088, 'gae_lambda': 0.8982894628104541, 'clip_range': 0.2154419724338778}. Best is trial 11 with value: 240.0.\n",
      "[I 2024-12-04 12:53:44,872] Trial 82 finished with value: -240.0 and parameters: {'learning_rate': 0.0006453360983164448, 'gamma': 0.9418134988598166, 'n_epochs': 10, 'ent_coef': 0.0007965273849595611, 'batch_size': 256, 'n_steps': 1024, 'gae_lambda': 0.9325130014717253, 'clip_range': 0.22491635828020598}. Best is trial 11 with value: 240.0.\n",
      "[I 2024-12-04 12:53:54,567] Trial 83 finished with value: 240.0 and parameters: {'learning_rate': 0.0009941921548699178, 'gamma': 0.9291255367407235, 'n_epochs': 10, 'ent_coef': 0.0009453520595018885, 'batch_size': 96, 'n_steps': 960, 'gae_lambda': 0.911086013014763, 'clip_range': 0.2058528949617692}. Best is trial 11 with value: 240.0.\n",
      "[I 2024-12-04 12:54:09,704] Trial 84 finished with value: 240.0 and parameters: {'learning_rate': 0.0008247497595243253, 'gamma': 0.9747424452066196, 'n_epochs': 9, 'ent_coef': 0.0010284921279445827, 'batch_size': 32, 'n_steps': 896, 'gae_lambda': 0.9244871295109774, 'clip_range': 0.23861323063938025}. Best is trial 11 with value: 240.0.\n",
      "[I 2024-12-04 12:54:18,794] Trial 85 finished with value: 240.0 and parameters: {'learning_rate': 0.0005852865754843711, 'gamma': 0.9164723619534726, 'n_epochs': 9, 'ent_coef': 0.00034436853643181965, 'batch_size': 96, 'n_steps': 1152, 'gae_lambda': 0.8248867089710021, 'clip_range': 0.18015534930190302}. Best is trial 11 with value: 240.0.\n",
      "[I 2024-12-04 12:54:30,023] Trial 86 finished with value: 240.0 and parameters: {'learning_rate': 0.0007168910460708033, 'gamma': 0.9392690487204851, 'n_epochs': 10, 'ent_coef': 0.0006482201997432023, 'batch_size': 64, 'n_steps': 1408, 'gae_lambda': 0.866634877345752, 'clip_range': 0.2526822838581429}. Best is trial 11 with value: 240.0.\n",
      "[I 2024-12-04 12:54:37,798] Trial 87 finished with value: 207.3175048828125 and parameters: {'learning_rate': 0.0005143457335057213, 'gamma': 0.9706860489459069, 'n_epochs': 8, 'ent_coef': 0.003005603165111134, 'batch_size': 128, 'n_steps': 1088, 'gae_lambda': 0.8842251179739774, 'clip_range': 0.19881207713905186}. Best is trial 11 with value: 240.0.\n",
      "/Users/xuenbei/miniconda3/lib/python3.12/site-packages/stable_baselines3/ppo/ppo.py:155: UserWarning: You have specified a mini-batch size of 160, but because the `RolloutBuffer` is of size `n_steps * n_envs = 2048`, after every 12 untruncated mini-batches, there will be a truncated mini-batch of size 128\n",
      "We recommend using a `batch_size` that is a factor of `n_steps * n_envs`.\n",
      "Info: (n_steps=2048 and n_envs=1)\n",
      "  warnings.warn(\n",
      "[I 2024-12-04 12:54:45,270] Trial 88 finished with value: -240.0 and parameters: {'learning_rate': 0.000383602756862754, 'gamma': 0.9675979221919337, 'n_epochs': 10, 'ent_coef': 0.002111032125784967, 'batch_size': 160, 'n_steps': 2048, 'gae_lambda': 0.8094387926895091, 'clip_range': 0.12140141703910227}. Best is trial 11 with value: 240.0.\n",
      "/Users/xuenbei/miniconda3/lib/python3.12/site-packages/stable_baselines3/ppo/ppo.py:155: UserWarning: You have specified a mini-batch size of 224, but because the `RolloutBuffer` is of size `n_steps * n_envs = 640`, after every 2 untruncated mini-batches, there will be a truncated mini-batch of size 192\n",
      "We recommend using a `batch_size` that is a factor of `n_steps * n_envs`.\n",
      "Info: (n_steps=640 and n_envs=1)\n",
      "  warnings.warn(\n",
      "[I 2024-12-04 12:54:52,976] Trial 89 finished with value: 240.0 and parameters: {'learning_rate': 0.0008903000888842455, 'gamma': 0.9626994583155386, 'n_epochs': 9, 'ent_coef': 0.00022053554223935726, 'batch_size': 224, 'n_steps': 640, 'gae_lambda': 0.937112956077133, 'clip_range': 0.1848068223127017}. Best is trial 11 with value: 240.0.\n",
      "[I 2024-12-04 12:55:05,566] Trial 90 finished with value: 240.0 and parameters: {'learning_rate': 0.00027027327615360136, 'gamma': 0.9497041009521784, 'n_epochs': 7, 'ent_coef': 0.0015469787962297111, 'batch_size': 32, 'n_steps': 832, 'gae_lambda': 0.9443737525930215, 'clip_range': 0.22052050783928973}. Best is trial 11 with value: 240.0.\n",
      "[I 2024-12-04 12:55:15,660] Trial 91 finished with value: 160.51870727539062 and parameters: {'learning_rate': 0.0007979975186931668, 'gamma': 0.9591888661048058, 'n_epochs': 10, 'ent_coef': 0.003586397698811822, 'batch_size': 64, 'n_steps': 1280, 'gae_lambda': 0.989675723481583, 'clip_range': 0.23228532705439134}. Best is trial 11 with value: 240.0.\n",
      "[I 2024-12-04 12:55:31,491] Trial 92 finished with value: 240.0 and parameters: {'learning_rate': 0.0009871798387366942, 'gamma': 0.9668065233119092, 'n_epochs': 10, 'ent_coef': 0.0025015389204277425, 'batch_size': 32, 'n_steps': 1216, 'gae_lambda': 0.9273841625776574, 'clip_range': 0.2473256734338144}. Best is trial 11 with value: 240.0.\n",
      "[I 2024-12-04 12:55:47,938] Trial 93 finished with value: 240.0 and parameters: {'learning_rate': 0.0006544958836902559, 'gamma': 0.9459209014768469, 'n_epochs': 10, 'ent_coef': 0.0045935393126291845, 'batch_size': 32, 'n_steps': 768, 'gae_lambda': 0.9160999174475137, 'clip_range': 0.2380855139815038}. Best is trial 11 with value: 240.0.\n",
      "/Users/xuenbei/miniconda3/lib/python3.12/site-packages/stable_baselines3/ppo/ppo.py:155: UserWarning: You have specified a mini-batch size of 96, but because the `RolloutBuffer` is of size `n_steps * n_envs = 1024`, after every 10 untruncated mini-batches, there will be a truncated mini-batch of size 64\n",
      "We recommend using a `batch_size` that is a factor of `n_steps * n_envs`.\n",
      "Info: (n_steps=1024 and n_envs=1)\n",
      "  warnings.warn(\n",
      "[I 2024-12-04 12:55:57,769] Trial 94 finished with value: -240.0 and parameters: {'learning_rate': 0.00045869500292266917, 'gamma': 0.9564941474316921, 'n_epochs': 9, 'ent_coef': 0.0039744844096860485, 'batch_size': 96, 'n_steps': 1024, 'gae_lambda': 0.9501021302645918, 'clip_range': 0.22593632709287653}. Best is trial 11 with value: 240.0.\n",
      "/Users/xuenbei/miniconda3/lib/python3.12/site-packages/stable_baselines3/ppo/ppo.py:155: UserWarning: You have specified a mini-batch size of 96, but because the `RolloutBuffer` is of size `n_steps * n_envs = 1600`, after every 16 untruncated mini-batches, there will be a truncated mini-batch of size 64\n",
      "We recommend using a `batch_size` that is a factor of `n_steps * n_envs`.\n",
      "Info: (n_steps=1600 and n_envs=1)\n",
      "  warnings.warn(\n",
      "[I 2024-12-04 12:56:08,449] Trial 95 finished with value: 207.3175048828125 and parameters: {'learning_rate': 0.0009050184309424399, 'gamma': 0.9766314009722735, 'n_epochs': 10, 'ent_coef': 0.0026466451893860823, 'batch_size': 96, 'n_steps': 1600, 'gae_lambda': 0.9298709646263897, 'clip_range': 0.20959415120790972}. Best is trial 11 with value: 240.0.\n",
      "[I 2024-12-04 12:56:19,663] Trial 96 finished with value: 240.0 and parameters: {'learning_rate': 0.0007150829787384951, 'gamma': 0.9619420163347555, 'n_epochs': 10, 'ent_coef': 0.0030203185267717067, 'batch_size': 64, 'n_steps': 1152, 'gae_lambda': 0.8002141136290584, 'clip_range': 0.2594410026032013}. Best is trial 11 with value: 240.0.\n",
      "[I 2024-12-04 12:56:34,243] Trial 97 finished with value: -240.0 and parameters: {'learning_rate': 0.0006015972784963473, 'gamma': 0.9711281834098294, 'n_epochs': 9, 'ent_coef': 0.005653687726160491, 'batch_size': 32, 'n_steps': 1344, 'gae_lambda': 0.9379506832520313, 'clip_range': 0.23476108790273073}. Best is trial 11 with value: 240.0.\n",
      "/Users/xuenbei/miniconda3/lib/python3.12/site-packages/stable_baselines3/ppo/ppo.py:155: UserWarning: You have specified a mini-batch size of 128, but because the `RolloutBuffer` is of size `n_steps * n_envs = 704`, after every 5 untruncated mini-batches, there will be a truncated mini-batch of size 64\n",
      "We recommend using a `batch_size` that is a factor of `n_steps * n_envs`.\n",
      "Info: (n_steps=704 and n_envs=1)\n",
      "  warnings.warn(\n",
      "[I 2024-12-04 12:56:42,767] Trial 98 finished with value: 240.0 and parameters: {'learning_rate': 0.0008436441395195175, 'gamma': 0.9648323497650453, 'n_epochs': 10, 'ent_coef': 0.0017771434473713983, 'batch_size': 128, 'n_steps': 704, 'gae_lambda': 0.9036291695016279, 'clip_range': 0.20280054146030732}. Best is trial 11 with value: 240.0.\n",
      "/Users/xuenbei/miniconda3/lib/python3.12/site-packages/stable_baselines3/ppo/ppo.py:155: UserWarning: You have specified a mini-batch size of 448, but because the `RolloutBuffer` is of size `n_steps * n_envs = 576`, after every 1 untruncated mini-batches, there will be a truncated mini-batch of size 128\n",
      "We recommend using a `batch_size` that is a factor of `n_steps * n_envs`.\n",
      "Info: (n_steps=576 and n_envs=1)\n",
      "  warnings.warn(\n",
      "[I 2024-12-04 12:56:50,142] Trial 99 finished with value: -240.0 and parameters: {'learning_rate': 0.0005180307198624608, 'gamma': 0.9742954473292429, 'n_epochs': 9, 'ent_coef': 0.0023845739294994462, 'batch_size': 448, 'n_steps': 576, 'gae_lambda': 0.9225544853634148, 'clip_range': 0.19139484920156863}. Best is trial 11 with value: 240.0.\n"
     ]
    },
    {
     "name": "stdout",
     "output_type": "stream",
     "text": [
      "Best Parameters: {'learning_rate': 0.0008350317196890158, 'gamma': 0.9577742719864756, 'n_epochs': 10, 'ent_coef': 0.0041451012305191385, 'batch_size': 32, 'n_steps': 1024, 'gae_lambda': 0.9117270187885773, 'clip_range': 0.22963596297397976}\n"
     ]
    }
   ],
   "execution_count": 6
  },
  {
   "metadata": {
    "ExecuteTime": {
     "end_time": "2024-12-04T12:57:45.077017Z",
     "start_time": "2024-12-04T12:56:50.248055Z"
    }
   },
   "cell_type": "code",
   "source": [
    "env = DummyVecEnv([lambda: IbuprofenEnv(normalize=True)])\n",
    "\n",
    "final_model = PPO(\n",
    "    \"MlpPolicy\",\n",
    "    env,\n",
    "    learning_rate=best_params[\"learning_rate\"],\n",
    "    gamma=best_params[\"gamma\"],\n",
    "    n_epochs=best_params[\"n_epochs\"],\n",
    "    ent_coef=best_params[\"ent_coef\"],\n",
    "    batch_size=best_params[\"batch_size\"],\n",
    "    n_steps=best_params[\"n_steps\"],\n",
    "    gae_lambda=best_params[\"gae_lambda\"],\n",
    "    clip_range=best_params[\"clip_range\"],\n",
    "    verbose=1,\n",
    ")\n",
    "callback = RewardLoggingCallback()\n",
    "final_model.learn(total_timesteps=24000, callback=callback)"
   ],
   "id": "e1b2d1a1161cc8f",
   "outputs": [
    {
     "name": "stdout",
     "output_type": "stream",
     "text": [
      "Using cpu device\n",
      "-----------------------------\n",
      "| time/              |      |\n",
      "|    fps             | 1620 |\n",
      "|    iterations      | 1    |\n",
      "|    time_elapsed    | 0    |\n",
      "|    total_timesteps | 1024 |\n",
      "-----------------------------\n",
      "-----------------------------------------\n",
      "| time/                   |             |\n",
      "|    fps                  | 950         |\n",
      "|    iterations           | 2           |\n",
      "|    time_elapsed         | 2           |\n",
      "|    total_timesteps      | 2048        |\n",
      "| train/                  |             |\n",
      "|    approx_kl            | 0.020386226 |\n",
      "|    clip_fraction        | 0.239       |\n",
      "|    clip_range           | 0.23        |\n",
      "|    entropy_loss         | -1.59       |\n",
      "|    explained_variance   | -0.00181    |\n",
      "|    learning_rate        | 0.000835    |\n",
      "|    loss                 | 1.02e+04    |\n",
      "|    n_updates            | 10          |\n",
      "|    policy_gradient_loss | -0.0421     |\n",
      "|    value_loss           | 2.04e+04    |\n",
      "-----------------------------------------\n",
      "-----------------------------------------\n",
      "| time/                   |             |\n",
      "|    fps                  | 596         |\n",
      "|    iterations           | 3           |\n",
      "|    time_elapsed         | 5           |\n",
      "|    total_timesteps      | 3072        |\n",
      "| train/                  |             |\n",
      "|    approx_kl            | 0.023055844 |\n",
      "|    clip_fraction        | 0.312       |\n",
      "|    clip_range           | 0.23        |\n",
      "|    entropy_loss         | -1.53       |\n",
      "|    explained_variance   | 0.0144      |\n",
      "|    learning_rate        | 0.000835    |\n",
      "|    loss                 | 5e+03       |\n",
      "|    n_updates            | 20          |\n",
      "|    policy_gradient_loss | -0.0598     |\n",
      "|    value_loss           | 1e+04       |\n",
      "-----------------------------------------\n",
      "-----------------------------------------\n",
      "| time/                   |             |\n",
      "|    fps                  | 542         |\n",
      "|    iterations           | 4           |\n",
      "|    time_elapsed         | 7           |\n",
      "|    total_timesteps      | 4096        |\n",
      "| train/                  |             |\n",
      "|    approx_kl            | 0.027054962 |\n",
      "|    clip_fraction        | 0.465       |\n",
      "|    clip_range           | 0.23        |\n",
      "|    entropy_loss         | -1.42       |\n",
      "|    explained_variance   | -0.00637    |\n",
      "|    learning_rate        | 0.000835    |\n",
      "|    loss                 | 1.18e+03    |\n",
      "|    n_updates            | 30          |\n",
      "|    policy_gradient_loss | -0.0633     |\n",
      "|    value_loss           | 3.88e+03    |\n",
      "-----------------------------------------\n",
      "----------------------------------------\n",
      "| time/                   |            |\n",
      "|    fps                  | 528        |\n",
      "|    iterations           | 5          |\n",
      "|    time_elapsed         | 9          |\n",
      "|    total_timesteps      | 5120       |\n",
      "| train/                  |            |\n",
      "|    approx_kl            | 0.04769931 |\n",
      "|    clip_fraction        | 0.344      |\n",
      "|    clip_range           | 0.23       |\n",
      "|    entropy_loss         | -1.28      |\n",
      "|    explained_variance   | 0.0288     |\n",
      "|    learning_rate        | 0.000835   |\n",
      "|    loss                 | 913        |\n",
      "|    n_updates            | 40         |\n",
      "|    policy_gradient_loss | -0.0552    |\n",
      "|    value_loss           | 2.42e+03   |\n",
      "----------------------------------------\n",
      "-----------------------------------------\n",
      "| time/                   |             |\n",
      "|    fps                  | 500         |\n",
      "|    iterations           | 6           |\n",
      "|    time_elapsed         | 12          |\n",
      "|    total_timesteps      | 6144        |\n",
      "| train/                  |             |\n",
      "|    approx_kl            | 0.046297304 |\n",
      "|    clip_fraction        | 0.176       |\n",
      "|    clip_range           | 0.23        |\n",
      "|    entropy_loss         | -1.13       |\n",
      "|    explained_variance   | -0.119      |\n",
      "|    learning_rate        | 0.000835    |\n",
      "|    loss                 | 305         |\n",
      "|    n_updates            | 50          |\n",
      "|    policy_gradient_loss | -0.0362     |\n",
      "|    value_loss           | 969         |\n",
      "-----------------------------------------\n",
      "-----------------------------------------\n",
      "| time/                   |             |\n",
      "|    fps                  | 476         |\n",
      "|    iterations           | 7           |\n",
      "|    time_elapsed         | 15          |\n",
      "|    total_timesteps      | 7168        |\n",
      "| train/                  |             |\n",
      "|    approx_kl            | 0.014726599 |\n",
      "|    clip_fraction        | 0.148       |\n",
      "|    clip_range           | 0.23        |\n",
      "|    entropy_loss         | -1.03       |\n",
      "|    explained_variance   | -0.0319     |\n",
      "|    learning_rate        | 0.000835    |\n",
      "|    loss                 | 320         |\n",
      "|    n_updates            | 60          |\n",
      "|    policy_gradient_loss | -0.0208     |\n",
      "|    value_loss           | 770         |\n",
      "-----------------------------------------\n",
      "----------------------------------------\n",
      "| time/                   |            |\n",
      "|    fps                  | 382        |\n",
      "|    iterations           | 8          |\n",
      "|    time_elapsed         | 21         |\n",
      "|    total_timesteps      | 8192       |\n",
      "| train/                  |            |\n",
      "|    approx_kl            | 0.01912201 |\n",
      "|    clip_fraction        | 0.119      |\n",
      "|    clip_range           | 0.23       |\n",
      "|    entropy_loss         | -1.01      |\n",
      "|    explained_variance   | 0.0267     |\n",
      "|    learning_rate        | 0.000835   |\n",
      "|    loss                 | 296        |\n",
      "|    n_updates            | 70         |\n",
      "|    policy_gradient_loss | -0.00956   |\n",
      "|    value_loss           | 702        |\n",
      "----------------------------------------\n",
      "------------------------------------------\n",
      "| time/                   |              |\n",
      "|    fps                  | 390          |\n",
      "|    iterations           | 9            |\n",
      "|    time_elapsed         | 23           |\n",
      "|    total_timesteps      | 9216         |\n",
      "| train/                  |              |\n",
      "|    approx_kl            | 0.0058574956 |\n",
      "|    clip_fraction        | 0.072        |\n",
      "|    clip_range           | 0.23         |\n",
      "|    entropy_loss         | -0.944       |\n",
      "|    explained_variance   | 0.0115       |\n",
      "|    learning_rate        | 0.000835     |\n",
      "|    loss                 | 469          |\n",
      "|    n_updates            | 80           |\n",
      "|    policy_gradient_loss | -0.00444     |\n",
      "|    value_loss           | 1e+03        |\n",
      "------------------------------------------\n",
      "------------------------------------------\n",
      "| time/                   |              |\n",
      "|    fps                  | 403          |\n",
      "|    iterations           | 10           |\n",
      "|    time_elapsed         | 25           |\n",
      "|    total_timesteps      | 10240        |\n",
      "| train/                  |              |\n",
      "|    approx_kl            | 0.0112490645 |\n",
      "|    clip_fraction        | 0.0766       |\n",
      "|    clip_range           | 0.23         |\n",
      "|    entropy_loss         | -0.945       |\n",
      "|    explained_variance   | 0.00934      |\n",
      "|    learning_rate        | 0.000835     |\n",
      "|    loss                 | 517          |\n",
      "|    n_updates            | 90           |\n",
      "|    policy_gradient_loss | -0.00267     |\n",
      "|    value_loss           | 1.01e+03     |\n",
      "------------------------------------------\n",
      "-----------------------------------------\n",
      "| time/                   |             |\n",
      "|    fps                  | 377         |\n",
      "|    iterations           | 11          |\n",
      "|    time_elapsed         | 29          |\n",
      "|    total_timesteps      | 11264       |\n",
      "| train/                  |             |\n",
      "|    approx_kl            | 0.015611276 |\n",
      "|    clip_fraction        | 0.0675      |\n",
      "|    clip_range           | 0.23        |\n",
      "|    entropy_loss         | -0.903      |\n",
      "|    explained_variance   | 0.0335      |\n",
      "|    learning_rate        | 0.000835    |\n",
      "|    loss                 | 707         |\n",
      "|    n_updates            | 100         |\n",
      "|    policy_gradient_loss | -0.00585    |\n",
      "|    value_loss           | 1.11e+03    |\n",
      "-----------------------------------------\n",
      "-----------------------------------------\n",
      "| time/                   |             |\n",
      "|    fps                  | 368         |\n",
      "|    iterations           | 12          |\n",
      "|    time_elapsed         | 33          |\n",
      "|    total_timesteps      | 12288       |\n",
      "| train/                  |             |\n",
      "|    approx_kl            | 0.014661555 |\n",
      "|    clip_fraction        | 0.0591      |\n",
      "|    clip_range           | 0.23        |\n",
      "|    entropy_loss         | -0.835      |\n",
      "|    explained_variance   | 0.0384      |\n",
      "|    learning_rate        | 0.000835    |\n",
      "|    loss                 | 559         |\n",
      "|    n_updates            | 110         |\n",
      "|    policy_gradient_loss | -0.00609    |\n",
      "|    value_loss           | 1.18e+03    |\n",
      "-----------------------------------------\n",
      "-----------------------------------------\n",
      "| time/                   |             |\n",
      "|    fps                  | 379         |\n",
      "|    iterations           | 13          |\n",
      "|    time_elapsed         | 35          |\n",
      "|    total_timesteps      | 13312       |\n",
      "| train/                  |             |\n",
      "|    approx_kl            | 0.009705525 |\n",
      "|    clip_fraction        | 0.0696      |\n",
      "|    clip_range           | 0.23        |\n",
      "|    entropy_loss         | -0.749      |\n",
      "|    explained_variance   | 0.049       |\n",
      "|    learning_rate        | 0.000835    |\n",
      "|    loss                 | 481         |\n",
      "|    n_updates            | 120         |\n",
      "|    policy_gradient_loss | -0.00363    |\n",
      "|    value_loss           | 1.19e+03    |\n",
      "-----------------------------------------\n",
      "---------------------------------------\n",
      "| time/                   |           |\n",
      "|    fps                  | 388       |\n",
      "|    iterations           | 14        |\n",
      "|    time_elapsed         | 36        |\n",
      "|    total_timesteps      | 14336     |\n",
      "| train/                  |           |\n",
      "|    approx_kl            | 0.0123587 |\n",
      "|    clip_fraction        | 0.0817    |\n",
      "|    clip_range           | 0.23      |\n",
      "|    entropy_loss         | -0.666    |\n",
      "|    explained_variance   | 0.0703    |\n",
      "|    learning_rate        | 0.000835  |\n",
      "|    loss                 | 579       |\n",
      "|    n_updates            | 130       |\n",
      "|    policy_gradient_loss | -0.00778  |\n",
      "|    value_loss           | 1.18e+03  |\n",
      "---------------------------------------\n",
      "-----------------------------------------\n",
      "| time/                   |             |\n",
      "|    fps                  | 370         |\n",
      "|    iterations           | 15          |\n",
      "|    time_elapsed         | 41          |\n",
      "|    total_timesteps      | 15360       |\n",
      "| train/                  |             |\n",
      "|    approx_kl            | 0.011910267 |\n",
      "|    clip_fraction        | 0.0743      |\n",
      "|    clip_range           | 0.23        |\n",
      "|    entropy_loss         | -0.584      |\n",
      "|    explained_variance   | 0.11        |\n",
      "|    learning_rate        | 0.000835    |\n",
      "|    loss                 | 519         |\n",
      "|    n_updates            | 140         |\n",
      "|    policy_gradient_loss | -0.0053     |\n",
      "|    value_loss           | 1.15e+03    |\n",
      "-----------------------------------------\n",
      "-----------------------------------------\n",
      "| time/                   |             |\n",
      "|    fps                  | 383         |\n",
      "|    iterations           | 16          |\n",
      "|    time_elapsed         | 42          |\n",
      "|    total_timesteps      | 16384       |\n",
      "| train/                  |             |\n",
      "|    approx_kl            | 0.013987996 |\n",
      "|    clip_fraction        | 0.0668      |\n",
      "|    clip_range           | 0.23        |\n",
      "|    entropy_loss         | -0.51       |\n",
      "|    explained_variance   | 0.0951      |\n",
      "|    learning_rate        | 0.000835    |\n",
      "|    loss                 | 439         |\n",
      "|    n_updates            | 150         |\n",
      "|    policy_gradient_loss | -0.00537    |\n",
      "|    value_loss           | 1.23e+03    |\n",
      "-----------------------------------------\n",
      "-----------------------------------------\n",
      "| time/                   |             |\n",
      "|    fps                  | 394         |\n",
      "|    iterations           | 17          |\n",
      "|    time_elapsed         | 44          |\n",
      "|    total_timesteps      | 17408       |\n",
      "| train/                  |             |\n",
      "|    approx_kl            | 0.006578698 |\n",
      "|    clip_fraction        | 0.0512      |\n",
      "|    clip_range           | 0.23        |\n",
      "|    entropy_loss         | -0.561      |\n",
      "|    explained_variance   | 0.0786      |\n",
      "|    learning_rate        | 0.000835    |\n",
      "|    loss                 | 398         |\n",
      "|    n_updates            | 160         |\n",
      "|    policy_gradient_loss | -0.0033     |\n",
      "|    value_loss           | 1.25e+03    |\n",
      "-----------------------------------------\n",
      "------------------------------------------\n",
      "| time/                   |              |\n",
      "|    fps                  | 404          |\n",
      "|    iterations           | 18           |\n",
      "|    time_elapsed         | 45           |\n",
      "|    total_timesteps      | 18432        |\n",
      "| train/                  |              |\n",
      "|    approx_kl            | 0.0071626683 |\n",
      "|    clip_fraction        | 0.0752       |\n",
      "|    clip_range           | 0.23         |\n",
      "|    entropy_loss         | -0.58        |\n",
      "|    explained_variance   | 0.0888       |\n",
      "|    learning_rate        | 0.000835     |\n",
      "|    loss                 | 481          |\n",
      "|    n_updates            | 170          |\n",
      "|    policy_gradient_loss | -0.00532     |\n",
      "|    value_loss           | 1.24e+03     |\n",
      "------------------------------------------\n",
      "------------------------------------------\n",
      "| time/                   |              |\n",
      "|    fps                  | 414          |\n",
      "|    iterations           | 19           |\n",
      "|    time_elapsed         | 46           |\n",
      "|    total_timesteps      | 19456        |\n",
      "| train/                  |              |\n",
      "|    approx_kl            | 0.0021193603 |\n",
      "|    clip_fraction        | 0.00254      |\n",
      "|    clip_range           | 0.23         |\n",
      "|    entropy_loss         | -0.57        |\n",
      "|    explained_variance   | 0.132        |\n",
      "|    learning_rate        | 0.000835     |\n",
      "|    loss                 | 566          |\n",
      "|    n_updates            | 180          |\n",
      "|    policy_gradient_loss | -0.00014     |\n",
      "|    value_loss           | 1.19e+03     |\n",
      "------------------------------------------\n",
      "-----------------------------------------\n",
      "| time/                   |             |\n",
      "|    fps                  | 424         |\n",
      "|    iterations           | 20          |\n",
      "|    time_elapsed         | 48          |\n",
      "|    total_timesteps      | 20480       |\n",
      "| train/                  |             |\n",
      "|    approx_kl            | 0.005496284 |\n",
      "|    clip_fraction        | 0.0339      |\n",
      "|    clip_range           | 0.23        |\n",
      "|    entropy_loss         | -0.556      |\n",
      "|    explained_variance   | 0.128       |\n",
      "|    learning_rate        | 0.000835    |\n",
      "|    loss                 | 624         |\n",
      "|    n_updates            | 190         |\n",
      "|    policy_gradient_loss | -0.000843   |\n",
      "|    value_loss           | 1.16e+03    |\n",
      "-----------------------------------------\n",
      "------------------------------------------\n",
      "| time/                   |              |\n",
      "|    fps                  | 431          |\n",
      "|    iterations           | 21           |\n",
      "|    time_elapsed         | 49           |\n",
      "|    total_timesteps      | 21504        |\n",
      "| train/                  |              |\n",
      "|    approx_kl            | 0.0064740693 |\n",
      "|    clip_fraction        | 0.0372       |\n",
      "|    clip_range           | 0.23         |\n",
      "|    entropy_loss         | -0.515       |\n",
      "|    explained_variance   | 0.13         |\n",
      "|    learning_rate        | 0.000835     |\n",
      "|    loss                 | 771          |\n",
      "|    n_updates            | 200          |\n",
      "|    policy_gradient_loss | -0.00141     |\n",
      "|    value_loss           | 1.19e+03     |\n",
      "------------------------------------------\n",
      "-----------------------------------------\n",
      "| time/                   |             |\n",
      "|    fps                  | 438         |\n",
      "|    iterations           | 22          |\n",
      "|    time_elapsed         | 51          |\n",
      "|    total_timesteps      | 22528       |\n",
      "| train/                  |             |\n",
      "|    approx_kl            | 0.008641049 |\n",
      "|    clip_fraction        | 0.0238      |\n",
      "|    clip_range           | 0.23        |\n",
      "|    entropy_loss         | -0.492      |\n",
      "|    explained_variance   | 0.146       |\n",
      "|    learning_rate        | 0.000835    |\n",
      "|    loss                 | 397         |\n",
      "|    n_updates            | 210         |\n",
      "|    policy_gradient_loss | -0.00096    |\n",
      "|    value_loss           | 1.17e+03    |\n",
      "-----------------------------------------\n",
      "------------------------------------------\n",
      "| time/                   |              |\n",
      "|    fps                  | 446          |\n",
      "|    iterations           | 23           |\n",
      "|    time_elapsed         | 52           |\n",
      "|    total_timesteps      | 23552        |\n",
      "| train/                  |              |\n",
      "|    approx_kl            | 0.0010511583 |\n",
      "|    clip_fraction        | 0.0178       |\n",
      "|    clip_range           | 0.23         |\n",
      "|    entropy_loss         | -0.49        |\n",
      "|    explained_variance   | 0.173        |\n",
      "|    learning_rate        | 0.000835     |\n",
      "|    loss                 | 333          |\n",
      "|    n_updates            | 220          |\n",
      "|    policy_gradient_loss | -1.64e-05    |\n",
      "|    value_loss           | 1.12e+03     |\n",
      "------------------------------------------\n",
      "-----------------------------------------\n",
      "| time/                   |             |\n",
      "|    fps                  | 455         |\n",
      "|    iterations           | 24          |\n",
      "|    time_elapsed         | 54          |\n",
      "|    total_timesteps      | 24576       |\n",
      "| train/                  |             |\n",
      "|    approx_kl            | 0.009609096 |\n",
      "|    clip_fraction        | 0.1         |\n",
      "|    clip_range           | 0.23        |\n",
      "|    entropy_loss         | -0.43       |\n",
      "|    explained_variance   | 0.227       |\n",
      "|    learning_rate        | 0.000835    |\n",
      "|    loss                 | 489         |\n",
      "|    n_updates            | 230         |\n",
      "|    policy_gradient_loss | -0.00702    |\n",
      "|    value_loss           | 1.08e+03    |\n",
      "-----------------------------------------\n"
     ]
    },
    {
     "data": {
      "text/plain": [
       "<stable_baselines3.ppo.ppo.PPO at 0x291c29d30>"
      ]
     },
     "execution_count": 7,
     "metadata": {},
     "output_type": "execute_result"
    }
   ],
   "execution_count": 7
  },
  {
   "metadata": {
    "ExecuteTime": {
     "end_time": "2024-12-04T12:57:55.778050Z",
     "start_time": "2024-12-04T12:57:45.107547Z"
    }
   },
   "cell_type": "code",
   "source": [
    "# Training Loop with Dynamic Time Horizon\n",
    "# Initialize variables for dynamic time horizon\n",
    "initial_horizon = 6  # Start with a small time horizon (e.g., 6 hours)\n",
    "max_horizon = 24     # Full time period (24 hours, in your case)\n",
    "horizon_increment = 2  # Increase the horizon incrementally\n",
    "time_horizon = initial_horizon\n",
    "\n",
    "reward_history = []\n",
    "\n",
    "# Use a loop for multiple training episodes\n",
    "for episode in range(1000):  # Number of training episodes\n",
    "    # Dynamically update the time horizon\n",
    "    time_horizon = min(max_horizon, initial_horizon + episode * horizon_increment)\n",
    "\n",
    "    # Reset environment at the beginning of each episode\n",
    "    state = env.reset()\n",
    "\n",
    "    total_reward = 0\n",
    "    plasma_concentration_history = []\n",
    "\n",
    "    for t in range(time_horizon):  # Use the dynamic time horizon\n",
    "        # Use the SB3 predict method for actions\n",
    "        action, _ = final_model.predict(state, deterministic=False)\n",
    "\n",
    "        # Take a step in the environment\n",
    "        new_state, reward, done, infos = env.step(action)\n",
    "        plasma_concentration_history.append(new_state[0])\n",
    "\n",
    "        # Accumulate the reward\n",
    "        total_reward += reward\n",
    "\n",
    "        # Update the current state\n",
    "        state = new_state\n",
    "\n",
    "        if done:\n",
    "            break\n",
    "\n",
    "    # Append total reward for the episode\n",
    "    reward_history.append(total_reward)\n",
    "\n",
    "    # Log progress every 10 episodes\n",
    "    if episode % 10 == 0:\n",
    "        print(f\"Episode {episode}: Total Reward = {total_reward}, Time Horizon = {time_horizon}\")\n"
   ],
   "id": "250b1e6c170a8e6c",
   "outputs": [
    {
     "name": "stdout",
     "output_type": "stream",
     "text": [
      "Episode 0: Total Reward = [60.], Time Horizon = 6\n",
      "Episode 10: Total Reward = [240.], Time Horizon = 24\n",
      "Episode 20: Total Reward = [240.], Time Horizon = 24\n",
      "Episode 30: Total Reward = [240.], Time Horizon = 24\n",
      "Episode 40: Total Reward = [240.], Time Horizon = 24\n",
      "Episode 50: Total Reward = [224.28635], Time Horizon = 24\n",
      "Episode 60: Total Reward = [240.], Time Horizon = 24\n",
      "Episode 70: Total Reward = [240.], Time Horizon = 24\n",
      "Episode 80: Total Reward = [240.], Time Horizon = 24\n",
      "Episode 90: Total Reward = [240.], Time Horizon = 24\n",
      "Episode 100: Total Reward = [240.], Time Horizon = 24\n",
      "Episode 110: Total Reward = [240.], Time Horizon = 24\n",
      "Episode 120: Total Reward = [240.], Time Horizon = 24\n",
      "Episode 130: Total Reward = [240.], Time Horizon = 24\n",
      "Episode 140: Total Reward = [240.], Time Horizon = 24\n",
      "Episode 150: Total Reward = [220.], Time Horizon = 24\n",
      "Episode 160: Total Reward = [182.13293], Time Horizon = 24\n",
      "Episode 170: Total Reward = [220.], Time Horizon = 24\n",
      "Episode 180: Total Reward = [240.], Time Horizon = 24\n",
      "Episode 190: Total Reward = [224.14722], Time Horizon = 24\n",
      "Episode 200: Total Reward = [240.], Time Horizon = 24\n",
      "Episode 210: Total Reward = [224.05362], Time Horizon = 24\n",
      "Episode 220: Total Reward = [199.01271], Time Horizon = 24\n",
      "Episode 230: Total Reward = [240.], Time Horizon = 24\n",
      "Episode 240: Total Reward = [240.], Time Horizon = 24\n",
      "Episode 250: Total Reward = [240.], Time Horizon = 24\n",
      "Episode 260: Total Reward = [220.], Time Horizon = 24\n",
      "Episode 270: Total Reward = [240.], Time Horizon = 24\n",
      "Episode 280: Total Reward = [220.], Time Horizon = 24\n",
      "Episode 290: Total Reward = [240.], Time Horizon = 24\n",
      "Episode 300: Total Reward = [240.], Time Horizon = 24\n",
      "Episode 310: Total Reward = [240.], Time Horizon = 24\n",
      "Episode 320: Total Reward = [240.], Time Horizon = 24\n",
      "Episode 330: Total Reward = [240.], Time Horizon = 24\n",
      "Episode 340: Total Reward = [220.], Time Horizon = 24\n",
      "Episode 350: Total Reward = [240.], Time Horizon = 24\n",
      "Episode 360: Total Reward = [240.], Time Horizon = 24\n",
      "Episode 370: Total Reward = [240.], Time Horizon = 24\n",
      "Episode 380: Total Reward = [240.], Time Horizon = 24\n",
      "Episode 390: Total Reward = [240.], Time Horizon = 24\n",
      "Episode 400: Total Reward = [240.], Time Horizon = 24\n",
      "Episode 410: Total Reward = [240.], Time Horizon = 24\n",
      "Episode 420: Total Reward = [240.], Time Horizon = 24\n",
      "Episode 430: Total Reward = [240.], Time Horizon = 24\n",
      "Episode 440: Total Reward = [240.], Time Horizon = 24\n",
      "Episode 450: Total Reward = [240.], Time Horizon = 24\n",
      "Episode 460: Total Reward = [240.], Time Horizon = 24\n",
      "Episode 470: Total Reward = [240.], Time Horizon = 24\n",
      "Episode 480: Total Reward = [240.], Time Horizon = 24\n",
      "Episode 490: Total Reward = [203.65927], Time Horizon = 24\n",
      "Episode 500: Total Reward = [240.], Time Horizon = 24\n",
      "Episode 510: Total Reward = [240.], Time Horizon = 24\n",
      "Episode 520: Total Reward = [240.], Time Horizon = 24\n",
      "Episode 530: Total Reward = [240.], Time Horizon = 24\n",
      "Episode 540: Total Reward = [240.], Time Horizon = 24\n",
      "Episode 550: Total Reward = [224.15553], Time Horizon = 24\n",
      "Episode 560: Total Reward = [240.], Time Horizon = 24\n",
      "Episode 570: Total Reward = [240.], Time Horizon = 24\n",
      "Episode 580: Total Reward = [240.], Time Horizon = 24\n",
      "Episode 590: Total Reward = [240.], Time Horizon = 24\n",
      "Episode 600: Total Reward = [240.], Time Horizon = 24\n",
      "Episode 610: Total Reward = [240.], Time Horizon = 24\n",
      "Episode 620: Total Reward = [240.], Time Horizon = 24\n",
      "Episode 630: Total Reward = [240.], Time Horizon = 24\n",
      "Episode 640: Total Reward = [240.], Time Horizon = 24\n",
      "Episode 650: Total Reward = [240.], Time Horizon = 24\n",
      "Episode 660: Total Reward = [240.], Time Horizon = 24\n",
      "Episode 670: Total Reward = [240.], Time Horizon = 24\n",
      "Episode 680: Total Reward = [200.], Time Horizon = 24\n",
      "Episode 690: Total Reward = [240.], Time Horizon = 24\n",
      "Episode 700: Total Reward = [240.], Time Horizon = 24\n",
      "Episode 710: Total Reward = [240.], Time Horizon = 24\n",
      "Episode 720: Total Reward = [240.], Time Horizon = 24\n",
      "Episode 730: Total Reward = [240.], Time Horizon = 24\n",
      "Episode 740: Total Reward = [240.], Time Horizon = 24\n",
      "Episode 750: Total Reward = [240.], Time Horizon = 24\n",
      "Episode 760: Total Reward = [240.], Time Horizon = 24\n",
      "Episode 770: Total Reward = [240.], Time Horizon = 24\n",
      "Episode 780: Total Reward = [240.], Time Horizon = 24\n",
      "Episode 790: Total Reward = [240.], Time Horizon = 24\n",
      "Episode 800: Total Reward = [240.], Time Horizon = 24\n",
      "Episode 810: Total Reward = [240.], Time Horizon = 24\n",
      "Episode 820: Total Reward = [240.], Time Horizon = 24\n",
      "Episode 830: Total Reward = [240.], Time Horizon = 24\n",
      "Episode 840: Total Reward = [240.], Time Horizon = 24\n",
      "Episode 850: Total Reward = [240.], Time Horizon = 24\n",
      "Episode 860: Total Reward = [240.], Time Horizon = 24\n",
      "Episode 870: Total Reward = [240.], Time Horizon = 24\n",
      "Episode 880: Total Reward = [240.], Time Horizon = 24\n",
      "Episode 890: Total Reward = [224.49171], Time Horizon = 24\n",
      "Episode 900: Total Reward = [220.], Time Horizon = 24\n",
      "Episode 910: Total Reward = [223.70792], Time Horizon = 24\n",
      "Episode 920: Total Reward = [240.], Time Horizon = 24\n",
      "Episode 930: Total Reward = [240.], Time Horizon = 24\n",
      "Episode 940: Total Reward = [240.], Time Horizon = 24\n",
      "Episode 950: Total Reward = [240.], Time Horizon = 24\n",
      "Episode 960: Total Reward = [240.], Time Horizon = 24\n",
      "Episode 970: Total Reward = [240.], Time Horizon = 24\n",
      "Episode 980: Total Reward = [240.], Time Horizon = 24\n",
      "Episode 990: Total Reward = [220.], Time Horizon = 24\n"
     ]
    }
   ],
   "execution_count": 8
  },
  {
   "metadata": {
    "ExecuteTime": {
     "end_time": "2024-12-04T13:14:08.408116Z",
     "start_time": "2024-12-04T13:14:06.262317Z"
    }
   },
   "cell_type": "code",
   "source": [
    "# Plot rewards\n",
    "plt.figure(figsize=(12, 6))\n",
    "plt.plot(reward_history)\n",
    "plt.xlabel(\"Episode\")\n",
    "plt.ylabel(\"Total Reward\")\n",
    "plt.title(\"Learning Curve (SB3)\")\n",
    "plt.grid(True)\n",
    "plt.show()"
   ],
   "id": "246a51d0faafc631",
   "outputs": [
    {
     "data": {
      "text/plain": [
       "<Figure size 1200x600 with 1 Axes>"
      ],
      "image/png": "[encoded data removed]"
     },
     "metadata": {},
     "output_type": "display_data"
    }
   ],
   "execution_count": 25
  },
  {
   "metadata": {
    "ExecuteTime": {
     "end_time": "2024-12-04T12:57:58.868642Z",
     "start_time": "2024-12-04T12:57:56.647543Z"
    }
   },
   "cell_type": "code",
   "source": [
    "\n",
    "# Evaluation Loop\n",
    "evaluation_episodes = 100  # Number of episodes for evaluation\n",
    "\n",
    "evaluation_rewards = []\n",
    "plasma_concentration_trajectories = []\n",
    "\n",
    "# Access the underlying environment from DummyVecEnv\n",
    "underlying_env = env.envs[0]  # envs[0] gives access to the unwrapped IbuprofenEnv\n",
    "\n",
    "for episode in range(evaluation_episodes):\n",
    "    state, _ = underlying_env.reset()\n",
    "\n",
    "    total_reward = 0\n",
    "    plasma_concentration_history = [state[0]]  # Track plasma concentration\n",
    "\n",
    "    for _ in range(underlying_env.max_steps):  # Use max_steps from the underlying environment\n",
    "        # Use the SB3 predict method for actions\n",
    "        action, _ = final_model.predict(state, deterministic=True)\n",
    "\n",
    "        # Take the chosen action in the environment\n",
    "        new_state, reward, done, truncated, _ = underlying_env.step(action)\n",
    "        plasma_concentration_history.append(new_state[0])\n",
    "\n",
    "        state = new_state\n",
    "        total_reward += reward\n",
    "\n",
    "        if done or truncated:\n",
    "            break\n",
    "\n",
    "    evaluation_rewards.append(total_reward)\n",
    "    plasma_concentration_trajectories.append(plasma_concentration_history)\n"
   ],
   "id": "5af424ba85dfb23d",
   "outputs": [],
   "execution_count": 10
  },
  {
   "metadata": {
    "ExecuteTime": {
     "end_time": "2024-12-04T13:06:31.060663Z",
     "start_time": "2024-12-04T13:06:30.693593Z"
    }
   },
   "cell_type": "code",
   "source": [
    "# Access the underlying environment from DummyVecEnv\n",
    "underlying_env = env.envs[0]\n",
    "\n",
    "# Plot plasma concentration from the last evaluation episode\n",
    "plt.figure(figsize=(12, 6))\n",
    "plt.plot(plasma_concentration_trajectories[-1], label=\"Plasma Concentration\")\n",
    "plt.axhline(y=underlying_env.therapeutic_range[0], color=\"g\", linestyle=\"--\", label=\"Lower Therapeutic Range\")\n",
    "plt.axhline(y=underlying_env.therapeutic_range[1], color=\"g\", linestyle=\"--\", label=\"Upper Therapeutic Range\")\n",
    "plt.axhline(y=100, color=\"r\", linestyle=\"--\", label=\"Toxic Level\")\n",
    "plt.xlabel(\"Time (hours)\")\n",
    "plt.ylabel(\"Plasma Concentration (mg/L)\")\n",
    "plt.title(\"Plasma Concentration Over Time (SB3)\")\n",
    "plt.legend()\n",
    "plt.grid(True)\n",
    "plt.show()\n"
   ],
   "id": "7f5cbbdfcdc4458c",
   "outputs": [
    {
     "data": {
      "text/plain": [
       "<Figure size 1200x600 with 1 Axes>"
      ],
      "image/png": "[encoded data removed]"
     },
     "metadata": {},
     "output_type": "display_data"
    }
   ],
   "execution_count": 20
  },
  {
   "metadata": {
    "ExecuteTime": {
     "end_time": "2024-12-04T13:14:53.652012Z",
     "start_time": "2024-12-04T13:14:51.392342Z"
    }
   },
   "cell_type": "code",
   "source": [
    "import seaborn as sns\n",
    "import matplotlib.pyplot as plt\n",
    "import numpy as np\n",
    "\n",
    "# Initialize variables to store plasma concentration trajectories over episodes\n",
    "plasma_concentrations_over_episodes = []\n",
    "\n",
    "# Run the agent for several episodes to collect plasma concentration data\n",
    "for episode in range(100):  # Number of training episodes\n",
    "    state_trajectory = []  # Store the plasma concentration for this episode\n",
    "    state = env.reset()  # Corrected to unpack only one value (state)\n",
    "    done = False\n",
    "\n",
    "    while not done:\n",
    "        state_trajectory.append(state[0])  # Record plasma concentration\n",
    "        action, _ = final_model.predict(state, deterministic=True)\n",
    "        state, reward, done, info = env.step(action)  # Correct unpacking for DummyVecEnv\n",
    "\n",
    "    # Append the trajectory of plasma concentrations for this episode\n",
    "    plasma_concentrations_over_episodes.append(state_trajectory)\n",
    "\n",
    "# Convert the list of plasma concentrations into a 2D array (episodes x time steps)\n",
    "# Flatten the 3D array (100, 24, 1) into a 2D array (100, 24)\n",
    "plasma_concentrations_matrix = np.squeeze(np.array(plasma_concentrations_over_episodes))\n",
    "\n",
    "# Plotting the heatmap\n",
    "plt.figure(figsize=(10, 8))\n",
    "sns.heatmap(plasma_concentrations_matrix, cmap='coolwarm', annot=False, cbar=True, xticklabels=5, yticklabels=10)\n",
    "plt.axhline(y=10, color='g', linestyle='--', label='Therapeutic Lower Bound (10 mg/L)')\n",
    "plt.axhline(y=50, color='g', linestyle='--', label='Therapeutic Upper Bound (50 mg/L)')\n",
    "plt.axhline(y=100, color='r', linestyle='--', label='Toxic Threshold (>100 mg/L)')\n",
    "plt.xlabel('Time Step')\n",
    "plt.ylabel('Episode')\n",
    "plt.title('Plasma Concentration Heatmap Over Time Across Episodes (SB3)')\n",
    "plt.legend()\n",
    "plt.grid()\n",
    "plt.show()\n"
   ],
   "id": "8403e397672fddc7",
   "outputs": [
    {
     "data": {
      "text/plain": [
       "<Figure size 1000x800 with 2 Axes>"
      ],
      "image/png": "[encoded data removed]"
     },
     "metadata": {},
     "output_type": "display_data"
    }
   ],
   "execution_count": 26
  },
  {
   "metadata": {
    "ExecuteTime": {
     "end_time": "2024-12-04T12:58:01.026229Z",
     "start_time": "2024-12-04T12:58:01.022337Z"
    }
   },
   "cell_type": "code",
   "source": "",
   "id": "ebbe91e013309c5b",
   "outputs": [],
   "execution_count": null
  },
  {
   "metadata": {
    "ExecuteTime": {
     "end_time": "2024-12-04T13:17:01.932307Z",
     "start_time": "2024-12-04T13:17:01.702334Z"
    }
   },
   "cell_type": "code",
   "source": [
    "\n",
    "cumulative_rewards = np.cumsum(plasma_concentrations_over_episodes)\n",
    "\n",
    "plt.figure(figsize=(12, 6))\n",
    "plt.plot(cumulative_rewards)\n",
    "plt.xlabel(\"Episode\")\n",
    "plt.ylabel(\"Cumulative Reward\")\n",
    "plt.title(\"Cumulative Reward Trend - SB3\")\n",
    "plt.grid(True)\n",
    "plt.show()"
   ],
   "id": "6505db7a0aa770ee",
   "outputs": [
    {
     "data": {
      "text/plain": [
       "<Figure size 1200x600 with 1 Axes>"
      ],
      "image/png": "[encoded data removed]"
     },
     "metadata": {},
     "output_type": "display_data"
    }
   ],
   "execution_count": 27
  },
  {
   "metadata": {
    "ExecuteTime": {
     "end_time": "2024-12-04T13:17:24.340210Z",
     "start_time": "2024-12-04T13:17:24.279943Z"
    }
   },
   "cell_type": "code",
   "source": "optuna.visualization.plot_optimization_history(study).show()\n",
   "id": "13c73bd28448ab96",
   "outputs": [
    {
     "data": {
      "application/vnd.plotly.v1+json": {
       "data": [
        {
         "mode": "markers",
         "name": "Objective Value",
         "x": [
          0,
          1,
          2,
          3,
          4,
          5,
          6,
          7,
          8,
          9,
          10,
          11,
          12,
          13,
          14,
          15,
          16,
          17,
          18,
          19,
          20,
          21,
          22,
          23,
          24,
          25,
          26,
          27,
          28,
          29,
          30,
          31,
          32,
          33,
          34,
          35,
          36,
          37,
          38,
          39,
          40,
          41,
          42,
          43,
          44,
          45,
          46,
          47,
          48,
          49,
          50,
          51,
          52,
          53,
          54,
          55,
          56,
          57,
          58,
          59,
          60,
          61,
          62,
          63,
          64,
          65,
          66,
          67,
          68,
          69,
          70,
          71,
          72,
          73,
          74,
          75,
          76,
          77,
          78,
          79,
          80,
          81,
          82,
          83,
          84,
          85,
          86,
          87,
          88,
          89,
          90,
          91,
          92,
          93,
          94,
          95,
          96,
          97,
          98,
          99
         ],
         "y": [
          -240.0,
          -240.0,
          -240.0,
          -240.0,
          -240.0,
          -240.0,
          -240.0,
          -240.0,
          -240.0,
          -240.0,
          207.3175048828125,
          240.0,
          207.3175048828125,
          240.0,
          240.0,
          -240.0,
          240.0,
          207.3175048828125,
          240.0,
          207.3175048828125,
          207.3175048828125,
          207.3175048828125,
          240.0,
          240.0,
          207.3175048828125,
          240.0,
          207.3175048828125,
          240.0,
          -240.0,
          -240.0,
          240.0,
          240.0,
          -240.0,
          -240.0,
          -240.0,
          -240.0,
          -240.0,
          -240.0,
          -240.0,
          -240.0,
          -240.0,
          -240.0,
          240.0,
          -240.0,
          240.0,
          -240.0,
          240.0,
          -240.0,
          240.0,
          -240.0,
          -240.0,
          207.3175048828125,
          207.3175048828125,
          240.0,
          240.0,
          207.3175048828125,
          -240.0,
          240.0,
          240.0,
          -240.0,
          240.0,
          240.0,
          240.0,
          207.3175048828125,
          240.0,
          207.3175048828125,
          -240.0,
          -240.0,
          240.0,
          -240.0,
          -240.0,
          240.0,
          240.0,
          240.0,
          -240.0,
          240.0,
          240.0,
          207.3175048828125,
          240.0,
          240.0,
          240.0,
          240.0,
          -240.0,
          240.0,
          240.0,
          240.0,
          240.0,
          207.3175048828125,
          -240.0,
          240.0,
          240.0,
          160.51870727539062,
          240.0,
          240.0,
          -240.0,
          207.3175048828125,
          240.0,
          -240.0,
          240.0,
          -240.0
         ],
         "type": "scatter"
        },
        {
         "mode": "lines",
         "name": "Best Value",
         "x": [
          0,
          1,
          2,
          3,
          4,
          5,
          6,
          7,
          8,
          9,
          10,
          11,
          12,
          13,
          14,
          15,
          16,
          17,
          18,
          19,
          20,
          21,
          22,
          23,
          24,
          25,
          26,
          27,
          28,
          29,
          30,
          31,
          32,
          33,
          34,
          35,
          36,
          37,
          38,
          39,
          40,
          41,
          42,
          43,
          44,
          45,
          46,
          47,
          48,
          49,
          50,
          51,
          52,
          53,
          54,
          55,
          56,
          57,
          58,
          59,
          60,
          61,
          62,
          63,
          64,
          65,
          66,
          67,
          68,
          69,
          70,
          71,
          72,
          73,
          74,
          75,
          76,
          77,
          78,
          79,
          80,
          81,
          82,
          83,
          84,
          85,
          86,
          87,
          88,
          89,
          90,
          91,
          92,
          93,
          94,
          95,
          96,
          97,
          98,
          99
         ],
         "y": [
          -240.0,
          -240.0,
          -240.0,
          -240.0,
          -240.0,
          -240.0,
          -240.0,
          -240.0,
          -240.0,
          -240.0,
          207.3175048828125,
          240.0,
          240.0,
          240.0,
          240.0,
          240.0,
          240.0,
          240.0,
          240.0,
          240.0,
          240.0,
          240.0,
          240.0,
          240.0,
          240.0,
          240.0,
          240.0,
          240.0,
          240.0,
          240.0,
          240.0,
          240.0,
          240.0,
          240.0,
          240.0,
          240.0,
          240.0,
          240.0,
          240.0,
          240.0,
          240.0,
          240.0,
          240.0,
          240.0,
          240.0,
          240.0,
          240.0,
          240.0,
          240.0,
          240.0,
          240.0,
          240.0,
          240.0,
          240.0,
          240.0,
          240.0,
          240.0,
          240.0,
          240.0,
          240.0,
          240.0,
          240.0,
          240.0,
          240.0,
          240.0,
          240.0,
          240.0,
          240.0,
          240.0,
          240.0,
          240.0,
          240.0,
          240.0,
          240.0,
          240.0,
          240.0,
          240.0,
          240.0,
          240.0,
          240.0,
          240.0,
          240.0,
          240.0,
          240.0,
          240.0,
          240.0,
          240.0,
          240.0,
          240.0,
          240.0,
          240.0,
          240.0,
          240.0,
          240.0,
          240.0,
          240.0,
          240.0,
          240.0,
          240.0,
          240.0
         ],
         "type": "scatter"
        },
        {
         "marker": {
          "color": "#cccccc"
         },
         "mode": "markers",
         "name": "Infeasible Trial",
         "showlegend": false,
         "x": [],
         "y": [],
         "type": "scatter"
        }
       ],
       "layout": {
        "title": {
         "text": "Optimization History Plot"
        },
        "xaxis": {
         "title": {
          "text": "Trial"
         }
        },
        "yaxis": {
         "title": {
          "text": "Objective Value"
         }
        },
        "template": {
         "data": {
          "histogram2dcontour": [
           {
            "type": "histogram2dcontour",
            "colorbar": {
             "outlinewidth": 0,
             "ticks": ""
            },
            "colorscale": [
             [
              0.0,
              "#0d0887"
             ],
             [
              0.1111111111111111,
              "#46039f"
             ],
             [
              0.2222222222222222,
              "#7201a8"
             ],
             [
              0.3333333333333333,
              "#9c179e"
             ],
             [
              0.4444444444444444,
              "#bd3786"
             ],
             [
              0.5555555555555556,
              "#d8576b"
             ],
             [
              0.6666666666666666,
              "#ed7953"
             ],
             [
              0.7777777777777778,
              "#fb9f3a"
             ],
             [
              0.8888888888888888,
              "#fdca26"
             ],
             [
              1.0,
              "#f0f921"
             ]
            ]
           }
          ],
          "choropleth": [
           {
            "type": "choropleth",
            "colorbar": {
             "outlinewidth": 0,
             "ticks": ""
            }
           }
          ],
          "histogram2d": [
           {
            "type": "histogram2d",
            "colorbar": {
             "outlinewidth": 0,
             "ticks": ""
            },
            "colorscale": [
             [
              0.0,
              "#0d0887"
             ],
             [
              0.1111111111111111,
              "#46039f"
             ],
             [
              0.2222222222222222,
              "#7201a8"
             ],
             [
              0.3333333333333333,
              "#9c179e"
             ],
             [
              0.4444444444444444,
              "#bd3786"
             ],
             [
              0.5555555555555556,
              "#d8576b"
             ],
             [
              0.6666666666666666,
              "#ed7953"
             ],
             [
              0.7777777777777778,
              "#fb9f3a"
             ],
             [
              0.8888888888888888,
              "#fdca26"
             ],
             [
              1.0,
              "#f0f921"
             ]
            ]
           }
          ],
          "heatmap": [
           {
            "type": "heatmap",
            "colorbar": {
             "outlinewidth": 0,
             "ticks": ""
            },
            "colorscale": [
             [
              0.0,
              "#0d0887"
             ],
             [
              0.1111111111111111,
              "#46039f"
             ],
             [
              0.2222222222222222,
              "#7201a8"
             ],
             [
              0.3333333333333333,
              "#9c179e"
             ],
             [
              0.4444444444444444,
              "#bd3786"
             ],
             [
              0.5555555555555556,
              "#d8576b"
             ],
             [
              0.6666666666666666,
              "#ed7953"
             ],
             [
              0.7777777777777778,
              "#fb9f3a"
             ],
             [
              0.8888888888888888,
              "#fdca26"
             ],
             [
              1.0,
              "#f0f921"
             ]
            ]
           }
          ],
          "heatmapgl": [
           {
            "type": "heatmapgl",
            "colorbar": {
             "outlinewidth": 0,
             "ticks": ""
            },
            "colorscale": [
             [
              0.0,
              "#0d0887"
             ],
             [
              0.1111111111111111,
              "#46039f"
             ],
             [
              0.2222222222222222,
              "#7201a8"
             ],
             [
              0.3333333333333333,
              "#9c179e"
             ],
             [
              0.4444444444444444,
              "#bd3786"
             ],
             [
              0.5555555555555556,
              "#d8576b"
             ],
             [
              0.6666666666666666,
              "#ed7953"
             ],
             [
              0.7777777777777778,
              "#fb9f3a"
             ],
             [
              0.8888888888888888,
              "#fdca26"
             ],
             [
              1.0,
              "#f0f921"
             ]
            ]
           }
          ],
          "contourcarpet": [
           {
            "type": "contourcarpet",
            "colorbar": {
             "outlinewidth": 0,
             "ticks": ""
            }
           }
          ],
          "contour": [
           {
            "type": "contour",
            "colorbar": {
             "outlinewidth": 0,
             "ticks": ""
            },
            "colorscale": [
             [
              0.0,
              "#0d0887"
             ],
             [
              0.1111111111111111,
              "#46039f"
             ],
             [
              0.2222222222222222,
              "#7201a8"
             ],
             [
              0.3333333333333333,
              "#9c179e"
             ],
             [
              0.4444444444444444,
              "#bd3786"
             ],
             [
              0.5555555555555556,
              "#d8576b"
             ],
             [
              0.6666666666666666,
              "#ed7953"
             ],
             [
              0.7777777777777778,
              "#fb9f3a"
             ],
             [
              0.8888888888888888,
              "#fdca26"
             ],
             [
              1.0,
              "#f0f921"
             ]
            ]
           }
          ],
          "surface": [
           {
            "type": "surface",
            "colorbar": {
             "outlinewidth": 0,
             "ticks": ""
            },
            "colorscale": [
             [
              0.0,
              "#0d0887"
             ],
             [
              0.1111111111111111,
              "#46039f"
             ],
             [
              0.2222222222222222,
              "#7201a8"
             ],
             [
              0.3333333333333333,
              "#9c179e"
             ],
             [
              0.4444444444444444,
              "#bd3786"
             ],
             [
              0.5555555555555556,
              "#d8576b"
             ],
             [
              0.6666666666666666,
              "#ed7953"
             ],
             [
              0.7777777777777778,
              "#fb9f3a"
             ],
             [
              0.8888888888888888,
              "#fdca26"
             ],
             [
              1.0,
              "#f0f921"
             ]
            ]
           }
          ],
          "mesh3d": [
           {
            "type": "mesh3d",
            "colorbar": {
             "outlinewidth": 0,
             "ticks": ""
            }
           }
          ],
          "scatter": [
           {
            "fillpattern": {
             "fillmode": "overlay",
             "size": 10,
             "solidity": 0.2
            },
            "type": "scatter"
           }
          ],
          "parcoords": [
           {
            "type": "parcoords",
            "line": {
             "colorbar": {
              "outlinewidth": 0,
              "ticks": ""
             }
            }
           }
          ],
          "scatterpolargl": [
           {
            "type": "scatterpolargl",
            "marker": {
             "colorbar": {
              "outlinewidth": 0,
              "ticks": ""
             }
            }
           }
          ],
          "bar": [
           {
            "error_x": {
             "color": "#2a3f5f"
            },
            "error_y": {
             "color": "#2a3f5f"
            },
            "marker": {
             "line": {
              "color": "#E5ECF6",
              "width": 0.5
             },
             "pattern": {
              "fillmode": "overlay",
              "size": 10,
              "solidity": 0.2
             }
            },
            "type": "bar"
           }
          ],
          "scattergeo": [
           {
            "type": "scattergeo",
            "marker": {
             "colorbar": {
              "outlinewidth": 0,
              "ticks": ""
             }
            }
           }
          ],
          "scatterpolar": [
           {
            "type": "scatterpolar",
            "marker": {
             "colorbar": {
              "outlinewidth": 0,
              "ticks": ""
             }
            }
           }
          ],
          "histogram": [
           {
            "marker": {
             "pattern": {
              "fillmode": "overlay",
              "size": 10,
              "solidity": 0.2
             }
            },
            "type": "histogram"
           }
          ],
          "scattergl": [
           {
            "type": "scattergl",
            "marker": {
             "colorbar": {
              "outlinewidth": 0,
              "ticks": ""
             }
            }
           }
          ],
          "scatter3d": [
           {
            "type": "scatter3d",
            "line": {
             "colorbar": {
              "outlinewidth": 0,
              "ticks": ""
             }
            },
            "marker": {
             "colorbar": {
              "outlinewidth": 0,
              "ticks": ""
             }
            }
           }
          ],
          "scattermapbox": [
           {
            "type": "scattermapbox",
            "marker": {
             "colorbar": {
              "outlinewidth": 0,
              "ticks": ""
             }
            }
           }
          ],
          "scatterternary": [
           {
            "type": "scatterternary",
            "marker": {
             "colorbar": {
              "outlinewidth": 0,
              "ticks": ""
             }
            }
           }
          ],
          "scattercarpet": [
           {
            "type": "scattercarpet",
            "marker": {
             "colorbar": {
              "outlinewidth": 0,
              "ticks": ""
             }
            }
           }
          ],
          "carpet": [
           {
            "aaxis": {
             "endlinecolor": "#2a3f5f",
             "gridcolor": "white",
             "linecolor": "white",
             "minorgridcolor": "white",
             "startlinecolor": "#2a3f5f"
            },
            "baxis": {
             "endlinecolor": "#2a3f5f",
             "gridcolor": "white",
             "linecolor": "white",
             "minorgridcolor": "white",
             "startlinecolor": "#2a3f5f"
            },
            "type": "carpet"
           }
          ],
          "table": [
           {
            "cells": {
             "fill": {
              "color": "#EBF0F8"
             },
             "line": {
              "color": "white"
             }
            },
            "header": {
             "fill": {
              "color": "#C8D4E3"
             },
             "line": {
              "color": "white"
             }
            },
            "type": "table"
           }
          ],
          "barpolar": [
           {
            "marker": {
             "line": {
              "color": "#E5ECF6",
              "width": 0.5
             },
             "pattern": {
              "fillmode": "overlay",
              "size": 10,
              "solidity": 0.2
             }
            },
            "type": "barpolar"
           }
          ],
          "pie": [
           {
            "automargin": true,
            "type": "pie"
           }
          ]
         },
         "layout": {
          "autotypenumbers": "strict",
          "colorway": [
           "#636efa",
           "#EF553B",
           "#00cc96",
           "#ab63fa",
           "#FFA15A",
           "#19d3f3",
           "#FF6692",
           "#B6E880",
           "#FF97FF",
           "#FECB52"
          ],
          "font": {
           "color": "#2a3f5f"
          },
          "hovermode": "closest",
          "hoverlabel": {
           "align": "left"
          },
          "paper_bgcolor": "white",
          "plot_bgcolor": "#E5ECF6",
          "polar": {
           "bgcolor": "#E5ECF6",
           "angularaxis": {
            "gridcolor": "white",
            "linecolor": "white",
            "ticks": ""
           },
           "radialaxis": {
            "gridcolor": "white",
            "linecolor": "white",
            "ticks": ""
           }
          },
          "ternary": {
           "bgcolor": "#E5ECF6",
           "aaxis": {
            "gridcolor": "white",
            "linecolor": "white",
            "ticks": ""
           },
           "baxis": {
            "gridcolor": "white",
            "linecolor": "white",
            "ticks": ""
           },
           "caxis": {
            "gridcolor": "white",
            "linecolor": "white",
            "ticks": ""
           }
          },
          "coloraxis": {
           "colorbar": {
            "outlinewidth": 0,
            "ticks": ""
           }
          },
          "colorscale": {
           "sequential": [
            [
             0.0,
             "#0d0887"
            ],
            [
             0.1111111111111111,
             "#46039f"
            ],
            [
             0.2222222222222222,
             "#7201a8"
            ],
            [
             0.3333333333333333,
             "#9c179e"
            ],
            [
             0.4444444444444444,
             "#bd3786"
            ],
            [
             0.5555555555555556,
             "#d8576b"
            ],
            [
             0.6666666666666666,
             "#ed7953"
            ],
            [
             0.7777777777777778,
             "#fb9f3a"
            ],
            [
             0.8888888888888888,
             "#fdca26"
            ],
            [
             1.0,
             "#f0f921"
            ]
           ],
           "sequentialminus": [
            [
             0.0,
             "#0d0887"
            ],
            [
             0.1111111111111111,
             "#46039f"
            ],
            [
             0.2222222222222222,
             "#7201a8"
            ],
            [
             0.3333333333333333,
             "#9c179e"
            ],
            [
             0.4444444444444444,
             "#bd3786"
            ],
            [
             0.5555555555555556,
             "#d8576b"
            ],
            [
             0.6666666666666666,
             "#ed7953"
            ],
            [
             0.7777777777777778,
             "#fb9f3a"
            ],
            [
             0.8888888888888888,
             "#fdca26"
            ],
            [
             1.0,
             "#f0f921"
            ]
           ],
           "diverging": [
            [
             0,
             "#8e0152"
            ],
            [
             0.1,
             "#c51b7d"
            ],
            [
             0.2,
             "#de77ae"
            ],
            [
             0.3,
             "#f1b6da"
            ],
            [
             0.4,
             "#fde0ef"
            ],
            [
             0.5,
             "#f7f7f7"
            ],
            [
             0.6,
             "#e6f5d0"
            ],
            [
             0.7,
             "#b8e186"
            ],
            [
             0.8,
             "#7fbc41"
            ],
            [
             0.9,
             "#4d9221"
            ],
            [
             1,
             "#276419"
            ]
           ]
          },
          "xaxis": {
           "gridcolor": "white",
           "linecolor": "white",
           "ticks": "",
           "title": {
            "standoff": 15
           },
           "zerolinecolor": "white",
           "automargin": true,
           "zerolinewidth": 2
          },
          "yaxis": {
           "gridcolor": "white",
           "linecolor": "white",
           "ticks": "",
           "title": {
            "standoff": 15
           },
           "zerolinecolor": "white",
           "automargin": true,
           "zerolinewidth": 2
          },
          "scene": {
           "xaxis": {
            "backgroundcolor": "#E5ECF6",
            "gridcolor": "white",
            "linecolor": "white",
            "showbackground": true,
            "ticks": "",
            "zerolinecolor": "white",
            "gridwidth": 2
           },
           "yaxis": {
            "backgroundcolor": "#E5ECF6",
            "gridcolor": "white",
            "linecolor": "white",
            "showbackground": true,
            "ticks": "",
            "zerolinecolor": "white",
            "gridwidth": 2
           },
           "zaxis": {
            "backgroundcolor": "#E5ECF6",
            "gridcolor": "white",
            "linecolor": "white",
            "showbackground": true,
            "ticks": "",
            "zerolinecolor": "white",
            "gridwidth": 2
           }
          },
          "shapedefaults": {
           "line": {
            "color": "#2a3f5f"
           }
          },
          "annotationdefaults": {
           "arrowcolor": "#2a3f5f",
           "arrowhead": 0,
           "arrowwidth": 1
          },
          "geo": {
           "bgcolor": "white",
           "landcolor": "#E5ECF6",
           "subunitcolor": "white",
           "showland": true,
           "showlakes": true,
           "lakecolor": "white"
          },
          "title": {
           "x": 0.05
          },
          "mapbox": {
           "style": "light"
          }
         }
        }
       },
       "config": {
        "plotlyServerURL": "https://plot.ly"
       }
      },
      "text/html": [
       "<div>                            <div id=\"4c4beeff-222b-4c94-a860-58eab2fd3dfd\" class=\"plotly-graph-div\" style=\"height:525px; width:100%;\"></div>            <script type=\"text/javascript\">                require([\"plotly\"], function(Plotly) {                    window.PLOTLYENV=window.PLOTLYENV || {};                                    if (document.getElementById(\"4c4beeff-222b-4c94-a860-58eab2fd3dfd\")) {                    Plotly.newPlot(                        \"4c4beeff-222b-4c94-a860-58eab2fd3dfd\",                        [{\"mode\":\"markers\",\"name\":\"Objective Value\",\"x\":[0,1,2,3,4,5,6,7,8,9,10,11,12,13,14,15,16,17,18,19,20,21,22,23,24,25,26,27,28,29,30,31,32,33,34,35,36,37,38,39,40,41,42,43,44,45,46,47,48,49,50,51,52,53,54,55,56,57,58,59,60,61,62,63,64,65,66,67,68,69,70,71,72,73,74,75,76,77,78,79,80,81,82,83,84,85,86,87,88,89,90,91,92,93,94,95,96,97,98,99],\"y\":[-240.0,-240.0,-240.0,-240.0,-240.0,-240.0,-240.0,-240.0,-240.0,-240.0,207.3175048828125,240.0,207.3175048828125,240.0,240.0,-240.0,240.0,207.3175048828125,240.0,207.3175048828125,207.3175048828125,207.3175048828125,240.0,240.0,207.3175048828125,240.0,207.3175048828125,240.0,-240.0,-240.0,240.0,240.0,-240.0,-240.0,-240.0,-240.0,-240.0,-240.0,-240.0,-240.0,-240.0,-240.0,240.0,-240.0,240.0,-240.0,240.0,-240.0,240.0,-240.0,-240.0,207.3175048828125,207.3175048828125,240.0,240.0,207.3175048828125,-240.0,240.0,240.0,-240.0,240.0,240.0,240.0,207.3175048828125,240.0,207.3175048828125,-240.0,-240.0,240.0,-240.0,-240.0,240.0,240.0,240.0,-240.0,240.0,240.0,207.3175048828125,240.0,240.0,240.0,240.0,-240.0,240.0,240.0,240.0,240.0,207.3175048828125,-240.0,240.0,240.0,160.51870727539062,240.0,240.0,-240.0,207.3175048828125,240.0,-240.0,240.0,-240.0],\"type\":\"scatter\"},{\"mode\":\"lines\",\"name\":\"Best Value\",\"x\":[0,1,2,3,4,5,6,7,8,9,10,11,12,13,14,15,16,17,18,19,20,21,22,23,24,25,26,27,28,29,30,31,32,33,34,35,36,37,38,39,40,41,42,43,44,45,46,47,48,49,50,51,52,53,54,55,56,57,58,59,60,61,62,63,64,65,66,67,68,69,70,71,72,73,74,75,76,77,78,79,80,81,82,83,84,85,86,87,88,89,90,91,92,93,94,95,96,97,98,99],\"y\":[-240.0,-240.0,-240.0,-240.0,-240.0,-240.0,-240.0,-240.0,-240.0,-240.0,207.3175048828125,240.0,240.0,240.0,240.0,240.0,240.0,240.0,240.0,240.0,240.0,240.0,240.0,240.0,240.0,240.0,240.0,240.0,240.0,240.0,240.0,240.0,240.0,240.0,240.0,240.0,240.0,240.0,240.0,240.0,240.0,240.0,240.0,240.0,240.0,240.0,240.0,240.0,240.0,240.0,240.0,240.0,240.0,240.0,240.0,240.0,240.0,240.0,240.0,240.0,240.0,240.0,240.0,240.0,240.0,240.0,240.0,240.0,240.0,240.0,240.0,240.0,240.0,240.0,240.0,240.0,240.0,240.0,240.0,240.0,240.0,240.0,240.0,240.0,240.0,240.0,240.0,240.0,240.0,240.0,240.0,240.0,240.0,240.0,240.0,240.0,240.0,240.0,240.0,240.0],\"type\":\"scatter\"},{\"marker\":{\"color\":\"#cccccc\"},\"mode\":\"markers\",\"name\":\"Infeasible Trial\",\"showlegend\":false,\"x\":[],\"y\":[],\"type\":\"scatter\"}],                        {\"title\":{\"text\":\"Optimization History Plot\"},\"xaxis\":{\"title\":{\"text\":\"Trial\"}},\"yaxis\":{\"title\":{\"text\":\"Objective Value\"}},\"template\":{\"data\":{\"histogram2dcontour\":[{\"type\":\"histogram2dcontour\",\"colorbar\":{\"outlinewidth\":0,\"ticks\":\"\"},\"colorscale\":[[0.0,\"#0d0887\"],[0.1111111111111111,\"#46039f\"],[0.2222222222222222,\"#7201a8\"],[0.3333333333333333,\"#9c179e\"],[0.4444444444444444,\"#bd3786\"],[0.5555555555555556,\"#d8576b\"],[0.6666666666666666,\"#ed7953\"],[0.7777777777777778,\"#fb9f3a\"],[0.8888888888888888,\"#fdca26\"],[1.0,\"#f0f921\"]]}],\"choropleth\":[{\"type\":\"choropleth\",\"colorbar\":{\"outlinewidth\":0,\"ticks\":\"\"}}],\"histogram2d\":[{\"type\":\"histogram2d\",\"colorbar\":{\"outlinewidth\":0,\"ticks\":\"\"},\"colorscale\":[[0.0,\"#0d0887\"],[0.1111111111111111,\"#46039f\"],[0.2222222222222222,\"#7201a8\"],[0.3333333333333333,\"#9c179e\"],[0.4444444444444444,\"#bd3786\"],[0.5555555555555556,\"#d8576b\"],[0.6666666666666666,\"#ed7953\"],[0.7777777777777778,\"#fb9f3a\"],[0.8888888888888888,\"#fdca26\"],[1.0,\"#f0f921\"]]}],\"heatmap\":[{\"type\":\"heatmap\",\"colorbar\":{\"outlinewidth\":0,\"ticks\":\"\"},\"colorscale\":[[0.0,\"#0d0887\"],[0.1111111111111111,\"#46039f\"],[0.2222222222222222,\"#7201a8\"],[0.3333333333333333,\"#9c179e\"],[0.4444444444444444,\"#bd3786\"],[0.5555555555555556,\"#d8576b\"],[0.6666666666666666,\"#ed7953\"],[0.7777777777777778,\"#fb9f3a\"],[0.8888888888888888,\"#fdca26\"],[1.0,\"#f0f921\"]]}],\"heatmapgl\":[{\"type\":\"heatmapgl\",\"colorbar\":{\"outlinewidth\":0,\"ticks\":\"\"},\"colorscale\":[[0.0,\"#0d0887\"],[0.1111111111111111,\"#46039f\"],[0.2222222222222222,\"#7201a8\"],[0.3333333333333333,\"#9c179e\"],[0.4444444444444444,\"#bd3786\"],[0.5555555555555556,\"#d8576b\"],[0.6666666666666666,\"#ed7953\"],[0.7777777777777778,\"#fb9f3a\"],[0.8888888888888888,\"#fdca26\"],[1.0,\"#f0f921\"]]}],\"contourcarpet\":[{\"type\":\"contourcarpet\",\"colorbar\":{\"outlinewidth\":0,\"ticks\":\"\"}}],\"contour\":[{\"type\":\"contour\",\"colorbar\":{\"outlinewidth\":0,\"ticks\":\"\"},\"colorscale\":[[0.0,\"#0d0887\"],[0.1111111111111111,\"#46039f\"],[0.2222222222222222,\"#7201a8\"],[0.3333333333333333,\"#9c179e\"],[0.4444444444444444,\"#bd3786\"],[0.5555555555555556,\"#d8576b\"],[0.6666666666666666,\"#ed7953\"],[0.7777777777777778,\"#fb9f3a\"],[0.8888888888888888,\"#fdca26\"],[1.0,\"#f0f921\"]]}],\"surface\":[{\"type\":\"surface\",\"colorbar\":{\"outlinewidth\":0,\"ticks\":\"\"},\"colorscale\":[[0.0,\"#0d0887\"],[0.1111111111111111,\"#46039f\"],[0.2222222222222222,\"#7201a8\"],[0.3333333333333333,\"#9c179e\"],[0.4444444444444444,\"#bd3786\"],[0.5555555555555556,\"#d8576b\"],[0.6666666666666666,\"#ed7953\"],[0.7777777777777778,\"#fb9f3a\"],[0.8888888888888888,\"#fdca26\"],[1.0,\"#f0f921\"]]}],\"mesh3d\":[{\"type\":\"mesh3d\",\"colorbar\":{\"outlinewidth\":0,\"ticks\":\"\"}}],\"scatter\":[{\"fillpattern\":{\"fillmode\":\"overlay\",\"size\":10,\"solidity\":0.2},\"type\":\"scatter\"}],\"parcoords\":[{\"type\":\"parcoords\",\"line\":{\"colorbar\":{\"outlinewidth\":0,\"ticks\":\"\"}}}],\"scatterpolargl\":[{\"type\":\"scatterpolargl\",\"marker\":{\"colorbar\":{\"outlinewidth\":0,\"ticks\":\"\"}}}],\"bar\":[{\"error_x\":{\"color\":\"#2a3f5f\"},\"error_y\":{\"color\":\"#2a3f5f\"},\"marker\":{\"line\":{\"color\":\"#E5ECF6\",\"width\":0.5},\"pattern\":{\"fillmode\":\"overlay\",\"size\":10,\"solidity\":0.2}},\"type\":\"bar\"}],\"scattergeo\":[{\"type\":\"scattergeo\",\"marker\":{\"colorbar\":{\"outlinewidth\":0,\"ticks\":\"\"}}}],\"scatterpolar\":[{\"type\":\"scatterpolar\",\"marker\":{\"colorbar\":{\"outlinewidth\":0,\"ticks\":\"\"}}}],\"histogram\":[{\"marker\":{\"pattern\":{\"fillmode\":\"overlay\",\"size\":10,\"solidity\":0.2}},\"type\":\"histogram\"}],\"scattergl\":[{\"type\":\"scattergl\",\"marker\":{\"colorbar\":{\"outlinewidth\":0,\"ticks\":\"\"}}}],\"scatter3d\":[{\"type\":\"scatter3d\",\"line\":{\"colorbar\":{\"outlinewidth\":0,\"ticks\":\"\"}},\"marker\":{\"colorbar\":{\"outlinewidth\":0,\"ticks\":\"\"}}}],\"scattermapbox\":[{\"type\":\"scattermapbox\",\"marker\":{\"colorbar\":{\"outlinewidth\":0,\"ticks\":\"\"}}}],\"scatterternary\":[{\"type\":\"scatterternary\",\"marker\":{\"colorbar\":{\"outlinewidth\":0,\"ticks\":\"\"}}}],\"scattercarpet\":[{\"type\":\"scattercarpet\",\"marker\":{\"colorbar\":{\"outlinewidth\":0,\"ticks\":\"\"}}}],\"carpet\":[{\"aaxis\":{\"endlinecolor\":\"#2a3f5f\",\"gridcolor\":\"white\",\"linecolor\":\"white\",\"minorgridcolor\":\"white\",\"startlinecolor\":\"#2a3f5f\"},\"baxis\":{\"endlinecolor\":\"#2a3f5f\",\"gridcolor\":\"white\",\"linecolor\":\"white\",\"minorgridcolor\":\"white\",\"startlinecolor\":\"#2a3f5f\"},\"type\":\"carpet\"}],\"table\":[{\"cells\":{\"fill\":{\"color\":\"#EBF0F8\"},\"line\":{\"color\":\"white\"}},\"header\":{\"fill\":{\"color\":\"#C8D4E3\"},\"line\":{\"color\":\"white\"}},\"type\":\"table\"}],\"barpolar\":[{\"marker\":{\"line\":{\"color\":\"#E5ECF6\",\"width\":0.5},\"pattern\":{\"fillmode\":\"overlay\",\"size\":10,\"solidity\":0.2}},\"type\":\"barpolar\"}],\"pie\":[{\"automargin\":true,\"type\":\"pie\"}]},\"layout\":{\"autotypenumbers\":\"strict\",\"colorway\":[\"#636efa\",\"#EF553B\",\"#00cc96\",\"#ab63fa\",\"#FFA15A\",\"#19d3f3\",\"#FF6692\",\"#B6E880\",\"#FF97FF\",\"#FECB52\"],\"font\":{\"color\":\"#2a3f5f\"},\"hovermode\":\"closest\",\"hoverlabel\":{\"align\":\"left\"},\"paper_bgcolor\":\"white\",\"plot_bgcolor\":\"#E5ECF6\",\"polar\":{\"bgcolor\":\"#E5ECF6\",\"angularaxis\":{\"gridcolor\":\"white\",\"linecolor\":\"white\",\"ticks\":\"\"},\"radialaxis\":{\"gridcolor\":\"white\",\"linecolor\":\"white\",\"ticks\":\"\"}},\"ternary\":{\"bgcolor\":\"#E5ECF6\",\"aaxis\":{\"gridcolor\":\"white\",\"linecolor\":\"white\",\"ticks\":\"\"},\"baxis\":{\"gridcolor\":\"white\",\"linecolor\":\"white\",\"ticks\":\"\"},\"caxis\":{\"gridcolor\":\"white\",\"linecolor\":\"white\",\"ticks\":\"\"}},\"coloraxis\":{\"colorbar\":{\"outlinewidth\":0,\"ticks\":\"\"}},\"colorscale\":{\"sequential\":[[0.0,\"#0d0887\"],[0.1111111111111111,\"#46039f\"],[0.2222222222222222,\"#7201a8\"],[0.3333333333333333,\"#9c179e\"],[0.4444444444444444,\"#bd3786\"],[0.5555555555555556,\"#d8576b\"],[0.6666666666666666,\"#ed7953\"],[0.7777777777777778,\"#fb9f3a\"],[0.8888888888888888,\"#fdca26\"],[1.0,\"#f0f921\"]],\"sequentialminus\":[[0.0,\"#0d0887\"],[0.1111111111111111,\"#46039f\"],[0.2222222222222222,\"#7201a8\"],[0.3333333333333333,\"#9c179e\"],[0.4444444444444444,\"#bd3786\"],[0.5555555555555556,\"#d8576b\"],[0.6666666666666666,\"#ed7953\"],[0.7777777777777778,\"#fb9f3a\"],[0.8888888888888888,\"#fdca26\"],[1.0,\"#f0f921\"]],\"diverging\":[[0,\"#8e0152\"],[0.1,\"#c51b7d\"],[0.2,\"#de77ae\"],[0.3,\"#f1b6da\"],[0.4,\"#fde0ef\"],[0.5,\"#f7f7f7\"],[0.6,\"#e6f5d0\"],[0.7,\"#b8e186\"],[0.8,\"#7fbc41\"],[0.9,\"#4d9221\"],[1,\"#276419\"]]},\"xaxis\":{\"gridcolor\":\"white\",\"linecolor\":\"white\",\"ticks\":\"\",\"title\":{\"standoff\":15},\"zerolinecolor\":\"white\",\"automargin\":true,\"zerolinewidth\":2},\"yaxis\":{\"gridcolor\":\"white\",\"linecolor\":\"white\",\"ticks\":\"\",\"title\":{\"standoff\":15},\"zerolinecolor\":\"white\",\"automargin\":true,\"zerolinewidth\":2},\"scene\":{\"xaxis\":{\"backgroundcolor\":\"#E5ECF6\",\"gridcolor\":\"white\",\"linecolor\":\"white\",\"showbackground\":true,\"ticks\":\"\",\"zerolinecolor\":\"white\",\"gridwidth\":2},\"yaxis\":{\"backgroundcolor\":\"#E5ECF6\",\"gridcolor\":\"white\",\"linecolor\":\"white\",\"showbackground\":true,\"ticks\":\"\",\"zerolinecolor\":\"white\",\"gridwidth\":2},\"zaxis\":{\"backgroundcolor\":\"#E5ECF6\",\"gridcolor\":\"white\",\"linecolor\":\"white\",\"showbackground\":true,\"ticks\":\"\",\"zerolinecolor\":\"white\",\"gridwidth\":2}},\"shapedefaults\":{\"line\":{\"color\":\"#2a3f5f\"}},\"annotationdefaults\":{\"arrowcolor\":\"#2a3f5f\",\"arrowhead\":0,\"arrowwidth\":1},\"geo\":{\"bgcolor\":\"white\",\"landcolor\":\"#E5ECF6\",\"subunitcolor\":\"white\",\"showland\":true,\"showlakes\":true,\"lakecolor\":\"white\"},\"title\":{\"x\":0.05},\"mapbox\":{\"style\":\"light\"}}}},                        {\"responsive\": true}                    ).then(function(){\n",
       "                            \n",
       "var gd = document.getElementById('4c4beeff-222b-4c94-a860-58eab2fd3dfd');\n",
       "var x = new MutationObserver(function (mutations, observer) {{\n",
       "        var display = window.getComputedStyle(gd).display;\n",
       "        if (!display || display === 'none') {{\n",
       "            console.log([gd, 'removed!']);\n",
       "            Plotly.purge(gd);\n",
       "            observer.disconnect();\n",
       "        }}\n",
       "}});\n",
       "\n",
       "// Listen for the removal of the full notebook cells\n",
       "var notebookContainer = gd.closest('#notebook-container');\n",
       "if (notebookContainer) {{\n",
       "    x.observe(notebookContainer, {childList: true});\n",
       "}}\n",
       "\n",
       "// Listen for the clearing of the current output cell\n",
       "var outputEl = gd.closest('.output');\n",
       "if (outputEl) {{\n",
       "    x.observe(outputEl, {childList: true});\n",
       "}}\n",
       "\n",
       "                        })                };                });            </script>        </div>"
      ]
     },
     "metadata": {},
     "output_type": "display_data"
    }
   ],
   "execution_count": 29
  },
  {
   "metadata": {
    "ExecuteTime": {
     "end_time": "2024-12-04T12:58:04.050092Z",
     "start_time": "2024-12-04T12:58:03.423180Z"
    }
   },
   "cell_type": "code",
   "source": "optuna.visualization.plot_param_importances(study).show()\n",
   "id": "3306df37c6d17c96",
   "outputs": [
    {
     "data": {
      "application/vnd.plotly.v1+json": {
       "data": [
        {
         "cliponaxis": false,
         "hovertemplate": [
          "ent_coef (FloatDistribution): 0.034574665326437985<extra></extra>",
          "gamma (FloatDistribution): 0.046697798755779195<extra></extra>",
          "n_epochs (IntDistribution): 0.04952472236058429<extra></extra>",
          "clip_range (FloatDistribution): 0.08928155167241172<extra></extra>",
          "gae_lambda (FloatDistribution): 0.1155420133328318<extra></extra>",
          "n_steps (IntDistribution): 0.11998544930928531<extra></extra>",
          "learning_rate (FloatDistribution): 0.26168858900161235<extra></extra>",
          "batch_size (IntDistribution): 0.2827052102410573<extra></extra>"
         ],
         "name": "Objective Value",
         "orientation": "h",
         "text": [
          "0.03",
          "0.05",
          "0.05",
          "0.09",
          "0.12",
          "0.12",
          "0.26",
          "0.28"
         ],
         "textposition": "outside",
         "x": [
          0.034574665326437985,
          0.046697798755779195,
          0.04952472236058429,
          0.08928155167241172,
          0.1155420133328318,
          0.11998544930928531,
          0.26168858900161235,
          0.2827052102410573
         ],
         "y": [
          "ent_coef",
          "gamma",
          "n_epochs",
          "clip_range",
          "gae_lambda",
          "n_steps",
          "learning_rate",
          "batch_size"
         ],
         "type": "bar"
        }
       ],
       "layout": {
        "title": {
         "text": "Hyperparameter Importances"
        },
        "xaxis": {
         "title": {
          "text": "Hyperparameter Importance"
         }
        },
        "yaxis": {
         "title": {
          "text": "Hyperparameter"
         }
        },
        "template": {
         "data": {
          "histogram2dcontour": [
           {
            "type": "histogram2dcontour",
            "colorbar": {
             "outlinewidth": 0,
             "ticks": ""
            },
            "colorscale": [
             [
              0.0,
              "#0d0887"
             ],
             [
              0.1111111111111111,
              "#46039f"
             ],
             [
              0.2222222222222222,
              "#7201a8"
             ],
             [
              0.3333333333333333,
              "#9c179e"
             ],
             [
              0.4444444444444444,
              "#bd3786"
             ],
             [
              0.5555555555555556,
              "#d8576b"
             ],
             [
              0.6666666666666666,
              "#ed7953"
             ],
             [
              0.7777777777777778,
              "#fb9f3a"
             ],
             [
              0.8888888888888888,
              "#fdca26"
             ],
             [
              1.0,
              "#f0f921"
             ]
            ]
           }
          ],
          "choropleth": [
           {
            "type": "choropleth",
            "colorbar": {
             "outlinewidth": 0,
             "ticks": ""
            }
           }
          ],
          "histogram2d": [
           {
            "type": "histogram2d",
            "colorbar": {
             "outlinewidth": 0,
             "ticks": ""
            },
            "colorscale": [
             [
              0.0,
              "#0d0887"
             ],
             [
              0.1111111111111111,
              "#46039f"
             ],
             [
              0.2222222222222222,
              "#7201a8"
             ],
             [
              0.3333333333333333,
              "#9c179e"
             ],
             [
              0.4444444444444444,
              "#bd3786"
             ],
             [
              0.5555555555555556,
              "#d8576b"
             ],
             [
              0.6666666666666666,
              "#ed7953"
             ],
             [
              0.7777777777777778,
              "#fb9f3a"
             ],
             [
              0.8888888888888888,
              "#fdca26"
             ],
             [
              1.0,
              "#f0f921"
             ]
            ]
           }
          ],
          "heatmap": [
           {
            "type": "heatmap",
            "colorbar": {
             "outlinewidth": 0,
             "ticks": ""
            },
            "colorscale": [
             [
              0.0,
              "#0d0887"
             ],
             [
              0.1111111111111111,
              "#46039f"
             ],
             [
              0.2222222222222222,
              "#7201a8"
             ],
             [
              0.3333333333333333,
              "#9c179e"
             ],
             [
              0.4444444444444444,
              "#bd3786"
             ],
             [
              0.5555555555555556,
              "#d8576b"
             ],
             [
              0.6666666666666666,
              "#ed7953"
             ],
             [
              0.7777777777777778,
              "#fb9f3a"
             ],
             [
              0.8888888888888888,
              "#fdca26"
             ],
             [
              1.0,
              "#f0f921"
             ]
            ]
           }
          ],
          "heatmapgl": [
           {
            "type": "heatmapgl",
            "colorbar": {
             "outlinewidth": 0,
             "ticks": ""
            },
            "colorscale": [
             [
              0.0,
              "#0d0887"
             ],
             [
              0.1111111111111111,
              "#46039f"
             ],
             [
              0.2222222222222222,
              "#7201a8"
             ],
             [
              0.3333333333333333,
              "#9c179e"
             ],
             [
              0.4444444444444444,
              "#bd3786"
             ],
             [
              0.5555555555555556,
              "#d8576b"
             ],
             [
              0.6666666666666666,
              "#ed7953"
             ],
             [
              0.7777777777777778,
              "#fb9f3a"
             ],
             [
              0.8888888888888888,
              "#fdca26"
             ],
             [
              1.0,
              "#f0f921"
             ]
            ]
           }
          ],
          "contourcarpet": [
           {
            "type": "contourcarpet",
            "colorbar": {
             "outlinewidth": 0,
             "ticks": ""
            }
           }
          ],
          "contour": [
           {
            "type": "contour",
            "colorbar": {
             "outlinewidth": 0,
             "ticks": ""
            },
            "colorscale": [
             [
              0.0,
              "#0d0887"
             ],
             [
              0.1111111111111111,
              "#46039f"
             ],
             [
              0.2222222222222222,
              "#7201a8"
             ],
             [
              0.3333333333333333,
              "#9c179e"
             ],
             [
              0.4444444444444444,
              "#bd3786"
             ],
             [
              0.5555555555555556,
              "#d8576b"
             ],
             [
              0.6666666666666666,
              "#ed7953"
             ],
             [
              0.7777777777777778,
              "#fb9f3a"
             ],
             [
              0.8888888888888888,
              "#fdca26"
             ],
             [
              1.0,
              "#f0f921"
             ]
            ]
           }
          ],
          "surface": [
           {
            "type": "surface",
            "colorbar": {
             "outlinewidth": 0,
             "ticks": ""
            },
            "colorscale": [
             [
              0.0,
              "#0d0887"
             ],
             [
              0.1111111111111111,
              "#46039f"
             ],
             [
              0.2222222222222222,
              "#7201a8"
             ],
             [
              0.3333333333333333,
              "#9c179e"
             ],
             [
              0.4444444444444444,
              "#bd3786"
             ],
             [
              0.5555555555555556,
              "#d8576b"
             ],
             [
              0.6666666666666666,
              "#ed7953"
             ],
             [
              0.7777777777777778,
              "#fb9f3a"
             ],
             [
              0.8888888888888888,
              "#fdca26"
             ],
             [
              1.0,
              "#f0f921"
             ]
            ]
           }
          ],
          "mesh3d": [
           {
            "type": "mesh3d",
            "colorbar": {
             "outlinewidth": 0,
             "ticks": ""
            }
           }
          ],
          "scatter": [
           {
            "fillpattern": {
             "fillmode": "overlay",
             "size": 10,
             "solidity": 0.2
            },
            "type": "scatter"
           }
          ],
          "parcoords": [
           {
            "type": "parcoords",
            "line": {
             "colorbar": {
              "outlinewidth": 0,
              "ticks": ""
             }
            }
           }
          ],
          "scatterpolargl": [
           {
            "type": "scatterpolargl",
            "marker": {
             "colorbar": {
              "outlinewidth": 0,
              "ticks": ""
             }
            }
           }
          ],
          "bar": [
           {
            "error_x": {
             "color": "#2a3f5f"
            },
            "error_y": {
             "color": "#2a3f5f"
            },
            "marker": {
             "line": {
              "color": "#E5ECF6",
              "width": 0.5
             },
             "pattern": {
              "fillmode": "overlay",
              "size": 10,
              "solidity": 0.2
             }
            },
            "type": "bar"
           }
          ],
          "scattergeo": [
           {
            "type": "scattergeo",
            "marker": {
             "colorbar": {
              "outlinewidth": 0,
              "ticks": ""
             }
            }
           }
          ],
          "scatterpolar": [
           {
            "type": "scatterpolar",
            "marker": {
             "colorbar": {
              "outlinewidth": 0,
              "ticks": ""
             }
            }
           }
          ],
          "histogram": [
           {
            "marker": {
             "pattern": {
              "fillmode": "overlay",
              "size": 10,
              "solidity": 0.2
             }
            },
            "type": "histogram"
           }
          ],
          "scattergl": [
           {
            "type": "scattergl",
            "marker": {
             "colorbar": {
              "outlinewidth": 0,
              "ticks": ""
             }
            }
           }
          ],
          "scatter3d": [
           {
            "type": "scatter3d",
            "line": {
             "colorbar": {
              "outlinewidth": 0,
              "ticks": ""
             }
            },
            "marker": {
             "colorbar": {
              "outlinewidth": 0,
              "ticks": ""
             }
            }
           }
          ],
          "scattermapbox": [
           {
            "type": "scattermapbox",
            "marker": {
             "colorbar": {
              "outlinewidth": 0,
              "ticks": ""
             }
            }
           }
          ],
          "scatterternary": [
           {
            "type": "scatterternary",
            "marker": {
             "colorbar": {
              "outlinewidth": 0,
              "ticks": ""
             }
            }
           }
          ],
          "scattercarpet": [
           {
            "type": "scattercarpet",
            "marker": {
             "colorbar": {
              "outlinewidth": 0,
              "ticks": ""
             }
            }
           }
          ],
          "carpet": [
           {
            "aaxis": {
             "endlinecolor": "#2a3f5f",
             "gridcolor": "white",
             "linecolor": "white",
             "minorgridcolor": "white",
             "startlinecolor": "#2a3f5f"
            },
            "baxis": {
             "endlinecolor": "#2a3f5f",
             "gridcolor": "white",
             "linecolor": "white",
             "minorgridcolor": "white",
             "startlinecolor": "#2a3f5f"
            },
            "type": "carpet"
           }
          ],
          "table": [
           {
            "cells": {
             "fill": {
              "color": "#EBF0F8"
             },
             "line": {
              "color": "white"
             }
            },
            "header": {
             "fill": {
              "color": "#C8D4E3"
             },
             "line": {
              "color": "white"
             }
            },
            "type": "table"
           }
          ],
          "barpolar": [
           {
            "marker": {
             "line": {
              "color": "#E5ECF6",
              "width": 0.5
             },
             "pattern": {
              "fillmode": "overlay",
              "size": 10,
              "solidity": 0.2
             }
            },
            "type": "barpolar"
           }
          ],
          "pie": [
           {
            "automargin": true,
            "type": "pie"
           }
          ]
         },
         "layout": {
          "autotypenumbers": "strict",
          "colorway": [
           "#636efa",
           "#EF553B",
           "#00cc96",
           "#ab63fa",
           "#FFA15A",
           "#19d3f3",
           "#FF6692",
           "#B6E880",
           "#FF97FF",
           "#FECB52"
          ],
          "font": {
           "color": "#2a3f5f"
          },
          "hovermode": "closest",
          "hoverlabel": {
           "align": "left"
          },
          "paper_bgcolor": "white",
          "plot_bgcolor": "#E5ECF6",
          "polar": {
           "bgcolor": "#E5ECF6",
           "angularaxis": {
            "gridcolor": "white",
            "linecolor": "white",
            "ticks": ""
           },
           "radialaxis": {
            "gridcolor": "white",
            "linecolor": "white",
            "ticks": ""
           }
          },
          "ternary": {
           "bgcolor": "#E5ECF6",
           "aaxis": {
            "gridcolor": "white",
            "linecolor": "white",
            "ticks": ""
           },
           "baxis": {
            "gridcolor": "white",
            "linecolor": "white",
            "ticks": ""
           },
           "caxis": {
            "gridcolor": "white",
            "linecolor": "white",
            "ticks": ""
           }
          },
          "coloraxis": {
           "colorbar": {
            "outlinewidth": 0,
            "ticks": ""
           }
          },
          "colorscale": {
           "sequential": [
            [
             0.0,
             "#0d0887"
            ],
            [
             0.1111111111111111,
             "#46039f"
            ],
            [
             0.2222222222222222,
             "#7201a8"
            ],
            [
             0.3333333333333333,
             "#9c179e"
            ],
            [
             0.4444444444444444,
             "#bd3786"
            ],
            [
             0.5555555555555556,
             "#d8576b"
            ],
            [
             0.6666666666666666,
             "#ed7953"
            ],
            [
             0.7777777777777778,
             "#fb9f3a"
            ],
            [
             0.8888888888888888,
             "#fdca26"
            ],
            [
             1.0,
             "#f0f921"
            ]
           ],
           "sequentialminus": [
            [
             0.0,
             "#0d0887"
            ],
            [
             0.1111111111111111,
             "#46039f"
            ],
            [
             0.2222222222222222,
             "#7201a8"
            ],
            [
             0.3333333333333333,
             "#9c179e"
            ],
            [
             0.4444444444444444,
             "#bd3786"
            ],
            [
             0.5555555555555556,
             "#d8576b"
            ],
            [
             0.6666666666666666,
             "#ed7953"
            ],
            [
             0.7777777777777778,
             "#fb9f3a"
            ],
            [
             0.8888888888888888,
             "#fdca26"
            ],
            [
             1.0,
             "#f0f921"
            ]
           ],
           "diverging": [
            [
             0,
             "#8e0152"
            ],
            [
             0.1,
             "#c51b7d"
            ],
            [
             0.2,
             "#de77ae"
            ],
            [
             0.3,
             "#f1b6da"
            ],
            [
             0.4,
             "#fde0ef"
            ],
            [
             0.5,
             "#f7f7f7"
            ],
            [
             0.6,
             "#e6f5d0"
            ],
            [
             0.7,
             "#b8e186"
            ],
            [
             0.8,
             "#7fbc41"
            ],
            [
             0.9,
             "#4d9221"
            ],
            [
             1,
             "#276419"
            ]
           ]
          },
          "xaxis": {
           "gridcolor": "white",
           "linecolor": "white",
           "ticks": "",
           "title": {
            "standoff": 15
           },
           "zerolinecolor": "white",
           "automargin": true,
           "zerolinewidth": 2
          },
          "yaxis": {
           "gridcolor": "white",
           "linecolor": "white",
           "ticks": "",
           "title": {
            "standoff": 15
           },
           "zerolinecolor": "white",
           "automargin": true,
           "zerolinewidth": 2
          },
          "scene": {
           "xaxis": {
            "backgroundcolor": "#E5ECF6",
            "gridcolor": "white",
            "linecolor": "white",
            "showbackground": true,
            "ticks": "",
            "zerolinecolor": "white",
            "gridwidth": 2
           },
           "yaxis": {
            "backgroundcolor": "#E5ECF6",
            "gridcolor": "white",
            "linecolor": "white",
            "showbackground": true,
            "ticks": "",
            "zerolinecolor": "white",
            "gridwidth": 2
           },
           "zaxis": {
            "backgroundcolor": "#E5ECF6",
            "gridcolor": "white",
            "linecolor": "white",
            "showbackground": true,
            "ticks": "",
            "zerolinecolor": "white",
            "gridwidth": 2
           }
          },
          "shapedefaults": {
           "line": {
            "color": "#2a3f5f"
           }
          },
          "annotationdefaults": {
           "arrowcolor": "#2a3f5f",
           "arrowhead": 0,
           "arrowwidth": 1
          },
          "geo": {
           "bgcolor": "white",
           "landcolor": "#E5ECF6",
           "subunitcolor": "white",
           "showland": true,
           "showlakes": true,
           "lakecolor": "white"
          },
          "title": {
           "x": 0.05
          },
          "mapbox": {
           "style": "light"
          }
         }
        }
       },
       "config": {
        "plotlyServerURL": "https://plot.ly"
       }
      },
      "text/html": [
       "<div>                            <div id=\"ee3e4628-20eb-4c88-8ac5-49a4af1c17d1\" class=\"plotly-graph-div\" style=\"height:525px; width:100%;\"></div>            <script type=\"text/javascript\">                require([\"plotly\"], function(Plotly) {                    window.PLOTLYENV=window.PLOTLYENV || {};                                    if (document.getElementById(\"ee3e4628-20eb-4c88-8ac5-49a4af1c17d1\")) {                    Plotly.newPlot(                        \"ee3e4628-20eb-4c88-8ac5-49a4af1c17d1\",                        [{\"cliponaxis\":false,\"hovertemplate\":[\"ent_coef (FloatDistribution): 0.034574665326437985\\u003cextra\\u003e\\u003c\\u002fextra\\u003e\",\"gamma (FloatDistribution): 0.046697798755779195\\u003cextra\\u003e\\u003c\\u002fextra\\u003e\",\"n_epochs (IntDistribution): 0.04952472236058429\\u003cextra\\u003e\\u003c\\u002fextra\\u003e\",\"clip_range (FloatDistribution): 0.08928155167241172\\u003cextra\\u003e\\u003c\\u002fextra\\u003e\",\"gae_lambda (FloatDistribution): 0.1155420133328318\\u003cextra\\u003e\\u003c\\u002fextra\\u003e\",\"n_steps (IntDistribution): 0.11998544930928531\\u003cextra\\u003e\\u003c\\u002fextra\\u003e\",\"learning_rate (FloatDistribution): 0.26168858900161235\\u003cextra\\u003e\\u003c\\u002fextra\\u003e\",\"batch_size (IntDistribution): 0.2827052102410573\\u003cextra\\u003e\\u003c\\u002fextra\\u003e\"],\"name\":\"Objective Value\",\"orientation\":\"h\",\"text\":[\"0.03\",\"0.05\",\"0.05\",\"0.09\",\"0.12\",\"0.12\",\"0.26\",\"0.28\"],\"textposition\":\"outside\",\"x\":[0.034574665326437985,0.046697798755779195,0.04952472236058429,0.08928155167241172,0.1155420133328318,0.11998544930928531,0.26168858900161235,0.2827052102410573],\"y\":[\"ent_coef\",\"gamma\",\"n_epochs\",\"clip_range\",\"gae_lambda\",\"n_steps\",\"learning_rate\",\"batch_size\"],\"type\":\"bar\"}],                        {\"title\":{\"text\":\"Hyperparameter Importances\"},\"xaxis\":{\"title\":{\"text\":\"Hyperparameter Importance\"}},\"yaxis\":{\"title\":{\"text\":\"Hyperparameter\"}},\"template\":{\"data\":{\"histogram2dcontour\":[{\"type\":\"histogram2dcontour\",\"colorbar\":{\"outlinewidth\":0,\"ticks\":\"\"},\"colorscale\":[[0.0,\"#0d0887\"],[0.1111111111111111,\"#46039f\"],[0.2222222222222222,\"#7201a8\"],[0.3333333333333333,\"#9c179e\"],[0.4444444444444444,\"#bd3786\"],[0.5555555555555556,\"#d8576b\"],[0.6666666666666666,\"#ed7953\"],[0.7777777777777778,\"#fb9f3a\"],[0.8888888888888888,\"#fdca26\"],[1.0,\"#f0f921\"]]}],\"choropleth\":[{\"type\":\"choropleth\",\"colorbar\":{\"outlinewidth\":0,\"ticks\":\"\"}}],\"histogram2d\":[{\"type\":\"histogram2d\",\"colorbar\":{\"outlinewidth\":0,\"ticks\":\"\"},\"colorscale\":[[0.0,\"#0d0887\"],[0.1111111111111111,\"#46039f\"],[0.2222222222222222,\"#7201a8\"],[0.3333333333333333,\"#9c179e\"],[0.4444444444444444,\"#bd3786\"],[0.5555555555555556,\"#d8576b\"],[0.6666666666666666,\"#ed7953\"],[0.7777777777777778,\"#fb9f3a\"],[0.8888888888888888,\"#fdca26\"],[1.0,\"#f0f921\"]]}],\"heatmap\":[{\"type\":\"heatmap\",\"colorbar\":{\"outlinewidth\":0,\"ticks\":\"\"},\"colorscale\":[[0.0,\"#0d0887\"],[0.1111111111111111,\"#46039f\"],[0.2222222222222222,\"#7201a8\"],[0.3333333333333333,\"#9c179e\"],[0.4444444444444444,\"#bd3786\"],[0.5555555555555556,\"#d8576b\"],[0.6666666666666666,\"#ed7953\"],[0.7777777777777778,\"#fb9f3a\"],[0.8888888888888888,\"#fdca26\"],[1.0,\"#f0f921\"]]}],\"heatmapgl\":[{\"type\":\"heatmapgl\",\"colorbar\":{\"outlinewidth\":0,\"ticks\":\"\"},\"colorscale\":[[0.0,\"#0d0887\"],[0.1111111111111111,\"#46039f\"],[0.2222222222222222,\"#7201a8\"],[0.3333333333333333,\"#9c179e\"],[0.4444444444444444,\"#bd3786\"],[0.5555555555555556,\"#d8576b\"],[0.6666666666666666,\"#ed7953\"],[0.7777777777777778,\"#fb9f3a\"],[0.8888888888888888,\"#fdca26\"],[1.0,\"#f0f921\"]]}],\"contourcarpet\":[{\"type\":\"contourcarpet\",\"colorbar\":{\"outlinewidth\":0,\"ticks\":\"\"}}],\"contour\":[{\"type\":\"contour\",\"colorbar\":{\"outlinewidth\":0,\"ticks\":\"\"},\"colorscale\":[[0.0,\"#0d0887\"],[0.1111111111111111,\"#46039f\"],[0.2222222222222222,\"#7201a8\"],[0.3333333333333333,\"#9c179e\"],[0.4444444444444444,\"#bd3786\"],[0.5555555555555556,\"#d8576b\"],[0.6666666666666666,\"#ed7953\"],[0.7777777777777778,\"#fb9f3a\"],[0.8888888888888888,\"#fdca26\"],[1.0,\"#f0f921\"]]}],\"surface\":[{\"type\":\"surface\",\"colorbar\":{\"outlinewidth\":0,\"ticks\":\"\"},\"colorscale\":[[0.0,\"#0d0887\"],[0.1111111111111111,\"#46039f\"],[0.2222222222222222,\"#7201a8\"],[0.3333333333333333,\"#9c179e\"],[0.4444444444444444,\"#bd3786\"],[0.5555555555555556,\"#d8576b\"],[0.6666666666666666,\"#ed7953\"],[0.7777777777777778,\"#fb9f3a\"],[0.8888888888888888,\"#fdca26\"],[1.0,\"#f0f921\"]]}],\"mesh3d\":[{\"type\":\"mesh3d\",\"colorbar\":{\"outlinewidth\":0,\"ticks\":\"\"}}],\"scatter\":[{\"fillpattern\":{\"fillmode\":\"overlay\",\"size\":10,\"solidity\":0.2},\"type\":\"scatter\"}],\"parcoords\":[{\"type\":\"parcoords\",\"line\":{\"colorbar\":{\"outlinewidth\":0,\"ticks\":\"\"}}}],\"scatterpolargl\":[{\"type\":\"scatterpolargl\",\"marker\":{\"colorbar\":{\"outlinewidth\":0,\"ticks\":\"\"}}}],\"bar\":[{\"error_x\":{\"color\":\"#2a3f5f\"},\"error_y\":{\"color\":\"#2a3f5f\"},\"marker\":{\"line\":{\"color\":\"#E5ECF6\",\"width\":0.5},\"pattern\":{\"fillmode\":\"overlay\",\"size\":10,\"solidity\":0.2}},\"type\":\"bar\"}],\"scattergeo\":[{\"type\":\"scattergeo\",\"marker\":{\"colorbar\":{\"outlinewidth\":0,\"ticks\":\"\"}}}],\"scatterpolar\":[{\"type\":\"scatterpolar\",\"marker\":{\"colorbar\":{\"outlinewidth\":0,\"ticks\":\"\"}}}],\"histogram\":[{\"marker\":{\"pattern\":{\"fillmode\":\"overlay\",\"size\":10,\"solidity\":0.2}},\"type\":\"histogram\"}],\"scattergl\":[{\"type\":\"scattergl\",\"marker\":{\"colorbar\":{\"outlinewidth\":0,\"ticks\":\"\"}}}],\"scatter3d\":[{\"type\":\"scatter3d\",\"line\":{\"colorbar\":{\"outlinewidth\":0,\"ticks\":\"\"}},\"marker\":{\"colorbar\":{\"outlinewidth\":0,\"ticks\":\"\"}}}],\"scattermapbox\":[{\"type\":\"scattermapbox\",\"marker\":{\"colorbar\":{\"outlinewidth\":0,\"ticks\":\"\"}}}],\"scatterternary\":[{\"type\":\"scatterternary\",\"marker\":{\"colorbar\":{\"outlinewidth\":0,\"ticks\":\"\"}}}],\"scattercarpet\":[{\"type\":\"scattercarpet\",\"marker\":{\"colorbar\":{\"outlinewidth\":0,\"ticks\":\"\"}}}],\"carpet\":[{\"aaxis\":{\"endlinecolor\":\"#2a3f5f\",\"gridcolor\":\"white\",\"linecolor\":\"white\",\"minorgridcolor\":\"white\",\"startlinecolor\":\"#2a3f5f\"},\"baxis\":{\"endlinecolor\":\"#2a3f5f\",\"gridcolor\":\"white\",\"linecolor\":\"white\",\"minorgridcolor\":\"white\",\"startlinecolor\":\"#2a3f5f\"},\"type\":\"carpet\"}],\"table\":[{\"cells\":{\"fill\":{\"color\":\"#EBF0F8\"},\"line\":{\"color\":\"white\"}},\"header\":{\"fill\":{\"color\":\"#C8D4E3\"},\"line\":{\"color\":\"white\"}},\"type\":\"table\"}],\"barpolar\":[{\"marker\":{\"line\":{\"color\":\"#E5ECF6\",\"width\":0.5},\"pattern\":{\"fillmode\":\"overlay\",\"size\":10,\"solidity\":0.2}},\"type\":\"barpolar\"}],\"pie\":[{\"automargin\":true,\"type\":\"pie\"}]},\"layout\":{\"autotypenumbers\":\"strict\",\"colorway\":[\"#636efa\",\"#EF553B\",\"#00cc96\",\"#ab63fa\",\"#FFA15A\",\"#19d3f3\",\"#FF6692\",\"#B6E880\",\"#FF97FF\",\"#FECB52\"],\"font\":{\"color\":\"#2a3f5f\"},\"hovermode\":\"closest\",\"hoverlabel\":{\"align\":\"left\"},\"paper_bgcolor\":\"white\",\"plot_bgcolor\":\"#E5ECF6\",\"polar\":{\"bgcolor\":\"#E5ECF6\",\"angularaxis\":{\"gridcolor\":\"white\",\"linecolor\":\"white\",\"ticks\":\"\"},\"radialaxis\":{\"gridcolor\":\"white\",\"linecolor\":\"white\",\"ticks\":\"\"}},\"ternary\":{\"bgcolor\":\"#E5ECF6\",\"aaxis\":{\"gridcolor\":\"white\",\"linecolor\":\"white\",\"ticks\":\"\"},\"baxis\":{\"gridcolor\":\"white\",\"linecolor\":\"white\",\"ticks\":\"\"},\"caxis\":{\"gridcolor\":\"white\",\"linecolor\":\"white\",\"ticks\":\"\"}},\"coloraxis\":{\"colorbar\":{\"outlinewidth\":0,\"ticks\":\"\"}},\"colorscale\":{\"sequential\":[[0.0,\"#0d0887\"],[0.1111111111111111,\"#46039f\"],[0.2222222222222222,\"#7201a8\"],[0.3333333333333333,\"#9c179e\"],[0.4444444444444444,\"#bd3786\"],[0.5555555555555556,\"#d8576b\"],[0.6666666666666666,\"#ed7953\"],[0.7777777777777778,\"#fb9f3a\"],[0.8888888888888888,\"#fdca26\"],[1.0,\"#f0f921\"]],\"sequentialminus\":[[0.0,\"#0d0887\"],[0.1111111111111111,\"#46039f\"],[0.2222222222222222,\"#7201a8\"],[0.3333333333333333,\"#9c179e\"],[0.4444444444444444,\"#bd3786\"],[0.5555555555555556,\"#d8576b\"],[0.6666666666666666,\"#ed7953\"],[0.7777777777777778,\"#fb9f3a\"],[0.8888888888888888,\"#fdca26\"],[1.0,\"#f0f921\"]],\"diverging\":[[0,\"#8e0152\"],[0.1,\"#c51b7d\"],[0.2,\"#de77ae\"],[0.3,\"#f1b6da\"],[0.4,\"#fde0ef\"],[0.5,\"#f7f7f7\"],[0.6,\"#e6f5d0\"],[0.7,\"#b8e186\"],[0.8,\"#7fbc41\"],[0.9,\"#4d9221\"],[1,\"#276419\"]]},\"xaxis\":{\"gridcolor\":\"white\",\"linecolor\":\"white\",\"ticks\":\"\",\"title\":{\"standoff\":15},\"zerolinecolor\":\"white\",\"automargin\":true,\"zerolinewidth\":2},\"yaxis\":{\"gridcolor\":\"white\",\"linecolor\":\"white\",\"ticks\":\"\",\"title\":{\"standoff\":15},\"zerolinecolor\":\"white\",\"automargin\":true,\"zerolinewidth\":2},\"scene\":{\"xaxis\":{\"backgroundcolor\":\"#E5ECF6\",\"gridcolor\":\"white\",\"linecolor\":\"white\",\"showbackground\":true,\"ticks\":\"\",\"zerolinecolor\":\"white\",\"gridwidth\":2},\"yaxis\":{\"backgroundcolor\":\"#E5ECF6\",\"gridcolor\":\"white\",\"linecolor\":\"white\",\"showbackground\":true,\"ticks\":\"\",\"zerolinecolor\":\"white\",\"gridwidth\":2},\"zaxis\":{\"backgroundcolor\":\"#E5ECF6\",\"gridcolor\":\"white\",\"linecolor\":\"white\",\"showbackground\":true,\"ticks\":\"\",\"zerolinecolor\":\"white\",\"gridwidth\":2}},\"shapedefaults\":{\"line\":{\"color\":\"#2a3f5f\"}},\"annotationdefaults\":{\"arrowcolor\":\"#2a3f5f\",\"arrowhead\":0,\"arrowwidth\":1},\"geo\":{\"bgcolor\":\"white\",\"landcolor\":\"#E5ECF6\",\"subunitcolor\":\"white\",\"showland\":true,\"showlakes\":true,\"lakecolor\":\"white\"},\"title\":{\"x\":0.05},\"mapbox\":{\"style\":\"light\"}}}},                        {\"responsive\": true}                    ).then(function(){\n",
       "                            \n",
       "var gd = document.getElementById('ee3e4628-20eb-4c88-8ac5-49a4af1c17d1');\n",
       "var x = new MutationObserver(function (mutations, observer) {{\n",
       "        var display = window.getComputedStyle(gd).display;\n",
       "        if (!display || display === 'none') {{\n",
       "            console.log([gd, 'removed!']);\n",
       "            Plotly.purge(gd);\n",
       "            observer.disconnect();\n",
       "        }}\n",
       "}});\n",
       "\n",
       "// Listen for the removal of the full notebook cells\n",
       "var notebookContainer = gd.closest('#notebook-container');\n",
       "if (notebookContainer) {{\n",
       "    x.observe(notebookContainer, {childList: true});\n",
       "}}\n",
       "\n",
       "// Listen for the clearing of the current output cell\n",
       "var outputEl = gd.closest('.output');\n",
       "if (outputEl) {{\n",
       "    x.observe(outputEl, {childList: true});\n",
       "}}\n",
       "\n",
       "                        })                };                });            </script>        </div>"
      ]
     },
     "metadata": {},
     "output_type": "display_data"
    }
   ],
   "execution_count": 15
  },
  {
   "metadata": {
    "ExecuteTime": {
     "end_time": "2024-12-04T12:58:04.086036Z",
     "start_time": "2024-12-04T12:58:04.083442Z"
    }
   },
   "cell_type": "code",
   "source": "",
   "id": "891b32261ac32bcc",
   "outputs": [],
   "execution_count": null
  },
  {
   "metadata": {
    "ExecuteTime": {
     "end_time": "2024-12-04T14:50:48.263215Z",
     "start_time": "2024-12-04T14:50:48.041408Z"
    }
   },
   "cell_type": "code",
   "source": [
    "# Access the underlying environment\n",
    "underlying_env = env.envs[0]  # Unwrap the DummyVecEnv\n",
    "\n",
    "# Discretize the state space (e.g., plasma concentrations from 0 to 150 µg/mL)\n",
    "state_space = np.linspace(0, 150, 151)\n",
    "\n",
    "# Initialize an array to store the actions selected by the policy\n",
    "policy_grid = np.zeros(len(state_space))\n",
    "\n",
    "# Query the policy for each state\n",
    "for i, state in enumerate(state_space):\n",
    "    # Set the state as a numpy array (matching the environment's format)\n",
    "    state_array = np.array([state], dtype=np.float32).reshape(1, -1)\n",
    "    \n",
    "    # Query the policy for the action\n",
    "    action, _ = final_model.predict(state_array, deterministic=True)\n",
    "    \n",
    "    # Store the action in the policy grid\n",
    "    policy_grid[i] = action\n",
    "\n",
    "# Create a mask for toxic levels (above 100 µg/mL)\n",
    "toxic_mask = state_space > 100\n",
    "\n",
    "# Plot the policy heatmap with toxic levels\n",
    "plt.figure(figsize=(12, 6))\n",
    "\n",
    "# Plot the policy actions\n",
    "plt.plot(state_space, policy_grid, marker=\"o\", linestyle=\"--\", color=\"blue\", label=\"Policy\")\n",
    "\n",
    "# Highlight the therapeutic range\n",
    "plt.axhline(y=underlying_env.therapeutic_range[0], color=\"green\", linestyle=\"--\", label=\"Therapeutic Lower Bound\")\n",
    "plt.axhline(y=underlying_env.therapeutic_range[1], color=\"green\", linestyle=\"--\", label=\"Therapeutic Upper Bound\")\n",
    "\n",
    "# Highlight the toxic level\n",
    "plt.axhline(y=100, color=\"red\", linestyle=\"--\", label=\"Toxic Level\")\n",
    "\n",
    "# Shade the toxic region\n",
    "plt.fill_between(state_space, 0, underlying_env.action_space.n - 1, where=toxic_mask, color=\"red\", alpha=0.1, label=\"Toxic Zone\")\n",
    "\n",
    "# Add labels and legend\n",
    "plt.xlabel(\"State (Plasma Concentration µg/mL)\")\n",
    "plt.ylabel(\"Action (Dosage Level)\")\n",
    "plt.title(\"Policy Heatmap with Toxic Levels\")\n",
    "plt.legend()\n",
    "plt.grid()\n",
    "plt.show()\n"
   ],
   "id": "bcbac0f8796b9649",
   "outputs": [
    {
     "name": "stderr",
     "output_type": "stream",
     "text": [
      "/var/folders/0j/8rw9s9dd56v924gjnszhk07m0000gn/T/ipykernel_8431/456787015.py:19: DeprecationWarning:\n",
      "\n",
      "Conversion of an array with ndim > 0 to a scalar is deprecated, and will error in future. Ensure you extract a single element from your array before performing this operation. (Deprecated NumPy 1.25.)\n",
      "\n"
     ]
    },
    {
     "data": {
      "text/plain": [
       "<Figure size 1200x600 with 1 Axes>"
      ],
      "image/png": "[encoded data removed]"
     },
     "metadata": {},
     "output_type": "display_data"
    }
   ],
   "execution_count": 31
  }
 ],
 "metadata": {
  "kernelspec": {
   "display_name": "Python 3",
   "language": "python",
   "name": "python3"
  },
  "language_info": {
   "codemirror_mode": {
    "name": "ipython",
    "version": 2
   },
   "file_extension": ".py",
   "mimetype": "text/x-python",
   "name": "python",
   "nbconvert_exporter": "python",
   "pygments_lexer": "ipython2",
   "version": "2.7.6"
  }
 },
 "nbformat": 4,
 "nbformat_minor": 5
}
