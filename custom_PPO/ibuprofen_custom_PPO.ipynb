{
 "cells": [
  {
   "metadata": {},
   "cell_type": "markdown",
   "source": "### Step 1: Import Required Libraries",
   "id": "558f1d88b2f3f33b"
  },
  {
   "cell_type": "code",
   "id": "initial_id",
   "metadata": {
    "collapsed": true,
    "ExecuteTime": {
     "end_time": "2024-11-26T18:55:51.382943Z",
     "start_time": "2024-11-26T18:55:51.376529Z"
    }
   },
   "source": [
    "import gym\n",
    "import numpy as np\n",
    "import torch\n",
    "import torch.nn as nn\n",
    "import torch.optim as optim\n",
    "import matplotlib.pyplot as plt\n",
    "import optuna"
   ],
   "outputs": [],
   "execution_count": 21
  },
  {
   "metadata": {},
   "cell_type": "markdown",
   "source": "### Step 2: Define Environment",
   "id": "9c551dfcf6bb1875"
  },
  {
   "metadata": {
    "ExecuteTime": {
     "end_time": "2024-11-26T18:55:51.413771Z",
     "start_time": "2024-11-26T18:55:51.406740Z"
    }
   },
   "cell_type": "code",
   "source": [
    "class IbuprofenEnv(gym.Env):\n",
    "    def __init__(self):\n",
    "        super(IbuprofenEnv, self).__init__()\n",
    "        # Action space: 0 (No dose), 1 (200 mg), ..., 4 (800 mg)\n",
    "        self.action_space = gym.spaces.Discrete(5)\n",
    "        # State space: plasma concentration (mg/L)\n",
    "        self.observation_space = gym.spaces.Box(low=0, high=100, shape=(1,), dtype=np.float32)\n",
    "\n",
    "        # Pharmacokinetics\n",
    "        self.therapeutic_range = (10, 50)  # Therapeutic range (mg/L)\n",
    "        self.half_life = 2.0  # Plasma half-life in hours\n",
    "        self.clearance_rate = 0.693 / self.half_life  # First-order decay rate constant\n",
    "        self.time_step_hours = 6  # Time step duration in hours\n",
    "\n",
    "        # Simulation settings\n",
    "        self.max_steps = 24  # 24 steps = 6-hour intervals over 6 days\n",
    "        self.current_step = 0\n",
    "        self.plasma_concentration = 0.0\n",
    "\n",
    "    def reset(self):\n",
    "        self.current_step = 0\n",
    "        self.plasma_concentration = 0.0\n",
    "        return np.array([self.plasma_concentration], dtype=np.float32)\n",
    "\n",
    "    def step(self, action):\n",
    "        # Dosage based on action\n",
    "        dose_mg = action * 200  # Convert action index to dose (mg)\n",
    "        absorbed = dose_mg / 10  # Assume 10% bioavailability (simplified)\n",
    "        self.plasma_concentration += absorbed\n",
    "\n",
    "        # Clearance: Exponential decay over time\n",
    "        self.plasma_concentration *= np.exp(-self.clearance_rate * self.time_step_hours)\n",
    "\n",
    "        # Reward based on plasma concentration\n",
    "        if self.therapeutic_range[0] <= self.plasma_concentration <= self.therapeutic_range[1]:\n",
    "            reward = 10  # Within therapeutic range\n",
    "        elif self.plasma_concentration > 100:  # Toxic concentration\n",
    "            reward = -20  # Severe penalty for toxicity\n",
    "        elif self.plasma_concentration < self.therapeutic_range[0]:\n",
    "            reward = -5  # Subtherapeutic\n",
    "        else:\n",
    "            reward = -10  # Above therapeutic but below toxic\n",
    "\n",
    "        # Update simulation state\n",
    "        self.current_step += 1\n",
    "        done = self.current_step >= self.max_steps\n",
    "        return np.array([self.plasma_concentration], dtype=np.float32), reward, done, {}"
   ],
   "id": "c54c0d1f2b046abd",
   "outputs": [],
   "execution_count": 22
  },
  {
   "metadata": {},
   "cell_type": "markdown",
   "source": "### Step 3: Define Policy and Value Networks",
   "id": "344afe2c9809df26"
  },
  {
   "metadata": {
    "ExecuteTime": {
     "end_time": "2024-11-26T18:55:51.436318Z",
     "start_time": "2024-11-26T18:55:51.431752Z"
    }
   },
   "cell_type": "code",
   "source": [
    "class PolicyNetwork(nn.Module):\n",
    "    def __init__(self, state_dim, action_dim):\n",
    "        super(PolicyNetwork, self).__init__()\n",
    "        self.fc = nn.Sequential(\n",
    "            nn.Linear(state_dim, 64),\n",
    "            nn.ReLU(),\n",
    "            nn.Linear(64, action_dim),\n",
    "            nn.Softmax(dim=-1)\n",
    "        )\n",
    "\n",
    "    def forward(self, state):\n",
    "        return self.fc(state)\n",
    "\n",
    "\n",
    "class ValueNetwork(nn.Module):\n",
    "    def __init__(self, state_dim):\n",
    "        super(ValueNetwork, self).__init__()\n",
    "        self.fc = nn.Sequential(\n",
    "            nn.Linear(state_dim, 64),\n",
    "            nn.ReLU(),\n",
    "            nn.Linear(64, 1)\n",
    "        )\n",
    "\n",
    "    def forward(self, state):\n",
    "        return self.fc(state)"
   ],
   "id": "8269d87076eae8f1",
   "outputs": [],
   "execution_count": 23
  },
  {
   "metadata": {},
   "cell_type": "markdown",
   "source": "### Step 4: Define PPO Agent",
   "id": "7ade44b76a0f7c57"
  },
  {
   "metadata": {
    "ExecuteTime": {
     "end_time": "2024-11-26T18:55:51.472536Z",
     "start_time": "2024-11-26T18:55:51.463576Z"
    }
   },
   "cell_type": "code",
   "source": [
    "class PPOAgent:\n",
    "    def __init__(self, state_dim, action_dim, lr=0.0001, gamma=0.95, eps_clip=0.15):\n",
    "        self.policy = PolicyNetwork(state_dim, action_dim)\n",
    "        self.value = ValueNetwork(state_dim)\n",
    "        self.optimizer_policy = optim.Adam(self.policy.parameters(), lr=lr)\n",
    "        self.optimizer_value = optim.Adam(self.value.parameters(), lr=lr)\n",
    "        self.gamma = gamma\n",
    "        self.eps_clip = eps_clip\n",
    "\n",
    "    def compute_advantage(self, rewards, values, dones):\n",
    "        advantage = []\n",
    "        g_t = 0\n",
    "        for reward, value, done in zip(reversed(rewards), reversed(values), reversed(dones)):\n",
    "            g_t = reward + self.gamma * g_t * (1 - done)\n",
    "            advantage.insert(0, g_t - value)\n",
    "        return advantage\n",
    "\n",
    "    def train(self, states, actions, rewards, dones, old_probs):\n",
    "        # Convert lists to numpy arrays for efficient tensor conversion\n",
    "        states = np.array(states, dtype=np.float32)\n",
    "        actions = np.array(actions, dtype=np.int64)\n",
    "        rewards = np.array(rewards, dtype=np.float32)\n",
    "        dones = np.array(dones, dtype=np.float32)\n",
    "        old_probs = np.array(old_probs, dtype=np.float32)\n",
    "    \n",
    "        # Convert numpy arrays to PyTorch tensors\n",
    "        states = torch.tensor(states)\n",
    "        actions = torch.tensor(actions)\n",
    "        rewards = torch.tensor(rewards)\n",
    "        dones = torch.tensor(dones)\n",
    "        old_probs = torch.tensor(old_probs)\n",
    "    \n",
    "        values = self.value(states).squeeze()\n",
    "        advantages = self.compute_advantage(rewards, values.detach().numpy(), dones.numpy())\n",
    "        advantages = torch.tensor(advantages, dtype=torch.float32)\n",
    "    \n",
    "        for _ in range(5):  # PPO multiple updates\n",
    "            new_probs = self.policy(states).gather(1, actions.unsqueeze(1)).squeeze()\n",
    "            ratio = (new_probs / old_probs)\n",
    "            clip = torch.clamp(ratio, 1 - self.eps_clip, 1 + self.eps_clip)\n",
    "            policy_loss = -torch.min(ratio * advantages, clip * advantages).mean()\n",
    "    \n",
    "            self.optimizer_policy.zero_grad()\n",
    "            policy_loss.backward()\n",
    "            self.optimizer_policy.step()\n",
    "    \n",
    "        value_loss = nn.MSELoss()(self.value(states).squeeze(), rewards)\n",
    "        self.optimizer_value.zero_grad()\n",
    "        value_loss.backward()\n",
    "        self.optimizer_value.step()\n"
   ],
   "id": "57b192c1548e09d4",
   "outputs": [],
   "execution_count": 24
  },
  {
   "metadata": {},
   "cell_type": "markdown",
   "source": "### Step 5: Optimization of Hyperparameters",
   "id": "be7f3313f9c323c7"
  },
  {
   "metadata": {
    "ExecuteTime": {
     "end_time": "2024-11-26T18:55:51.486330Z",
     "start_time": "2024-11-26T18:55:51.480357Z"
    }
   },
   "cell_type": "code",
   "source": [
    "def objective(trial):\n",
    "    lr = trial.suggest_float('lr', 1e-5, 1e-2, log=True)  # Learning rate\n",
    "    gamma = trial.suggest_float('gamma', 0.9, 0.99)  # Discount factor\n",
    "    eps_clip = trial.suggest_float('eps_clip', 0.1, 0.3)  # Clipping parameter\n",
    "\n",
    "    agent = PPOAgent(state_dim=state_dim, action_dim=action_dim, lr=lr, gamma=gamma, eps_clip=eps_clip)\n",
    "    reward_history = []\n",
    "\n",
    "    for episode in range(50):  # Use fewer episodes for faster tuning\n",
    "        state = env.reset()\n",
    "        states, actions, rewards, dones, old_probs = [], [], [], [], []\n",
    "        total_reward = 0\n",
    "\n",
    "        while True:\n",
    "            state_tensor = torch.tensor(state, dtype=torch.float32)\n",
    "            action_probs = agent.policy(state_tensor).detach().numpy()\n",
    "            action = np.random.choice(env.action_space.n, p=action_probs)\n",
    "\n",
    "            new_state, reward, done, _ = env.step(action)\n",
    "\n",
    "            states.append(state)\n",
    "            actions.append(action)\n",
    "            rewards.append(reward)\n",
    "            dones.append(done)\n",
    "            old_probs.append(action_probs[action])\n",
    "\n",
    "            state = new_state\n",
    "            total_reward += reward\n",
    "            if done:\n",
    "                break\n",
    "\n",
    "        agent.train(states, actions, rewards, dones, old_probs)\n",
    "        reward_history.append(total_reward)\n",
    "\n",
    "    return np.mean(reward_history)\n"
   ],
   "id": "2094d26fa1dc2aaf",
   "outputs": [],
   "execution_count": 25
  },
  {
   "metadata": {},
   "cell_type": "markdown",
   "source": "### Step 6: Perform Optimization",
   "id": "57fcaffecc3d1e80"
  },
  {
   "metadata": {
    "ExecuteTime": {
     "end_time": "2024-11-26T18:56:02.520589Z",
     "start_time": "2024-11-26T18:55:51.515229Z"
    }
   },
   "cell_type": "code",
   "source": [
    "env = IbuprofenEnv()\n",
    "state_dim = env.observation_space.shape[0]\n",
    "action_dim = env.action_space.n\n",
    "\n",
    "study = optuna.create_study(direction='maximize')\n",
    "study.optimize(objective, n_trials=20)\n",
    "\n",
    "print(\"Best hyperparameters:\", study.best_params)"
   ],
   "id": "49841b9e9ff284f6",
   "outputs": [
    {
     "name": "stderr",
     "output_type": "stream",
     "text": [
      "[I 2024-11-26 18:55:51,518] A new study created in memory with name: no-name-6a515953-dc40-48ef-a5a8-015a200fc324\n",
      "[I 2024-11-26 18:55:52,159] Trial 0 finished with value: 34.2 and parameters: {'lr': 0.00010080730205701601, 'gamma': 0.919469006429285, 'eps_clip': 0.16152102683870498}. Best is trial 0 with value: 34.2.\n",
      "[I 2024-11-26 18:55:53,255] Trial 1 finished with value: -91.2 and parameters: {'lr': 3.7109985592472985e-05, 'gamma': 0.9115074006220909, 'eps_clip': 0.2473192094196879}. Best is trial 0 with value: 34.2.\n",
      "[I 2024-11-26 18:55:54,057] Trial 2 finished with value: 138.0 and parameters: {'lr': 0.00035384971729786536, 'gamma': 0.9128730211386152, 'eps_clip': 0.19587594129235858}. Best is trial 2 with value: 138.0.\n",
      "[I 2024-11-26 18:55:54,957] Trial 3 finished with value: 51.9 and parameters: {'lr': 0.00010166094936848599, 'gamma': 0.9810270497196536, 'eps_clip': 0.12493320929629284}. Best is trial 2 with value: 138.0.\n",
      "[I 2024-11-26 18:55:55,439] Trial 4 finished with value: 208.5 and parameters: {'lr': 0.001652606722927559, 'gamma': 0.9612364185637804, 'eps_clip': 0.2804673663951329}. Best is trial 4 with value: 208.5.\n",
      "[I 2024-11-26 18:55:55,850] Trial 5 finished with value: 26.7 and parameters: {'lr': 0.0002234096402838464, 'gamma': 0.9473396615126869, 'eps_clip': 0.21141614276502052}. Best is trial 4 with value: 208.5.\n",
      "[I 2024-11-26 18:55:56,406] Trial 6 finished with value: 139.5 and parameters: {'lr': 0.00016429273288222888, 'gamma': 0.9426445817368145, 'eps_clip': 0.2827419163836963}. Best is trial 4 with value: 208.5.\n",
      "[I 2024-11-26 18:55:56,892] Trial 7 finished with value: 167.1 and parameters: {'lr': 0.0005363651392977896, 'gamma': 0.9713627642018772, 'eps_clip': 0.18533886020288826}. Best is trial 4 with value: 208.5.\n",
      "[I 2024-11-26 18:55:57,299] Trial 8 finished with value: 204.9 and parameters: {'lr': 0.0018107393120891707, 'gamma': 0.9277570324810421, 'eps_clip': 0.19088181720320263}. Best is trial 4 with value: 208.5.\n",
      "[I 2024-11-26 18:55:57,663] Trial 9 finished with value: 203.1 and parameters: {'lr': 0.00019532822837996458, 'gamma': 0.9859024465734363, 'eps_clip': 0.2039115410917934}. Best is trial 4 with value: 208.5.\n",
      "[I 2024-11-26 18:55:58,104] Trial 10 finished with value: 143.7 and parameters: {'lr': 0.00698892376221909, 'gamma': 0.9635609862152459, 'eps_clip': 0.2861169363783588}. Best is trial 4 with value: 208.5.\n",
      "[I 2024-11-26 18:55:58,559] Trial 11 finished with value: 222.0 and parameters: {'lr': 0.0021378400217259156, 'gamma': 0.9362159211820418, 'eps_clip': 0.24418052859840478}. Best is trial 11 with value: 222.0.\n",
      "[I 2024-11-26 18:55:59,212] Trial 12 finished with value: 181.2 and parameters: {'lr': 0.002396371093302496, 'gamma': 0.9488458398556211, 'eps_clip': 0.24748734593465796}. Best is trial 11 with value: 222.0.\n",
      "[I 2024-11-26 18:55:59,799] Trial 13 finished with value: 223.8 and parameters: {'lr': 0.0010329127957819902, 'gamma': 0.9351155958624873, 'eps_clip': 0.2509109336863127}. Best is trial 13 with value: 223.8.\n",
      "[I 2024-11-26 18:56:00,265] Trial 14 finished with value: 189.0 and parameters: {'lr': 0.00515534588814205, 'gamma': 0.931627219640596, 'eps_clip': 0.24274896105216062}. Best is trial 13 with value: 223.8.\n",
      "[I 2024-11-26 18:56:00,754] Trial 15 finished with value: 149.7 and parameters: {'lr': 0.0009188914181217326, 'gamma': 0.9325055882964234, 'eps_clip': 0.2276536571152063}. Best is trial 13 with value: 223.8.\n",
      "[I 2024-11-26 18:56:01,292] Trial 16 finished with value: -76.8 and parameters: {'lr': 1.7298150802295665e-05, 'gamma': 0.938501563123095, 'eps_clip': 0.26441002560418086}. Best is trial 13 with value: 223.8.\n",
      "[I 2024-11-26 18:56:01,725] Trial 17 finished with value: 178.8 and parameters: {'lr': 0.0036178509018505293, 'gamma': 0.9551364030518701, 'eps_clip': 0.2999098937105031}. Best is trial 13 with value: 223.8.\n",
      "[I 2024-11-26 18:56:02,108] Trial 18 finished with value: 193.5 and parameters: {'lr': 0.0007437666256775627, 'gamma': 0.9015072852463449, 'eps_clip': 0.16154474409337052}. Best is trial 13 with value: 223.8.\n",
      "[I 2024-11-26 18:56:02,517] Trial 19 finished with value: 157.2 and parameters: {'lr': 0.0011940965815934628, 'gamma': 0.9250900194165682, 'eps_clip': 0.2229868195070323}. Best is trial 13 with value: 223.8.\n"
     ]
    },
    {
     "name": "stdout",
     "output_type": "stream",
     "text": [
      "Best hyperparameters: {'lr': 0.0010329127957819902, 'gamma': 0.9351155958624873, 'eps_clip': 0.2509109336863127}\n"
     ]
    }
   ],
   "execution_count": 26
  },
  {
   "metadata": {},
   "cell_type": "markdown",
   "source": "### Step 7: Train the agent with best hyperparameters",
   "id": "72dd4900ad7d6581"
  },
  {
   "metadata": {
    "ExecuteTime": {
     "end_time": "2024-11-26T18:56:09.964114Z",
     "start_time": "2024-11-26T18:56:02.536764Z"
    }
   },
   "cell_type": "code",
   "source": [
    "best_params = study.best_params\n",
    "agent = PPOAgent(state_dim=state_dim, action_dim=action_dim,\n",
    "                 lr=best_params['lr'],\n",
    "                 gamma=best_params['gamma'],\n",
    "                 eps_clip=best_params['eps_clip'])\n",
    "\n",
    "episodes = 1000\n",
    "reward_history = []\n",
    "\n",
    "for episode in range(episodes):\n",
    "    state = env.reset()\n",
    "    states, actions, rewards, dones, old_probs = [], [], [], [], []\n",
    "    total_reward = 0\n",
    "\n",
    "    while True:\n",
    "        state_tensor = torch.tensor(state, dtype=torch.float32)\n",
    "        action_probs = agent.policy(state_tensor).detach().numpy()\n",
    "        action = np.random.choice(env.action_space.n, p=action_probs)\n",
    "\n",
    "        new_state, reward, done, _ = env.step(action)\n",
    "\n",
    "        states.append(state)\n",
    "        actions.append(action)\n",
    "        rewards.append(reward)\n",
    "        dones.append(done)\n",
    "        old_probs.append(action_probs[action])\n",
    "\n",
    "        state = new_state\n",
    "        total_reward += reward\n",
    "        if done:\n",
    "            break\n",
    "\n",
    "    agent.train(states, actions, rewards, dones, old_probs)\n",
    "    reward_history.append(total_reward)\n",
    "    print(f\"Episode {episode + 1}: Total Reward = {total_reward}\")\n"
   ],
   "id": "2aa797063822d9c3",
   "outputs": [
    {
     "name": "stdout",
     "output_type": "stream",
     "text": [
      "Episode 1: Total Reward = -120\n",
      "Episode 2: Total Reward = -60\n",
      "Episode 3: Total Reward = -30\n",
      "Episode 4: Total Reward = -60\n",
      "Episode 5: Total Reward = -30\n",
      "Episode 6: Total Reward = 60\n",
      "Episode 7: Total Reward = 75\n",
      "Episode 8: Total Reward = 135\n",
      "Episode 9: Total Reward = 210\n",
      "Episode 10: Total Reward = 225\n",
      "Episode 11: Total Reward = 240\n",
      "Episode 12: Total Reward = 225\n",
      "Episode 13: Total Reward = 225\n",
      "Episode 14: Total Reward = 225\n",
      "Episode 15: Total Reward = 225\n",
      "Episode 16: Total Reward = 240\n",
      "Episode 17: Total Reward = 240\n",
      "Episode 18: Total Reward = 240\n",
      "Episode 19: Total Reward = 180\n",
      "Episode 20: Total Reward = 225\n",
      "Episode 21: Total Reward = 225\n",
      "Episode 22: Total Reward = 225\n",
      "Episode 23: Total Reward = 225\n",
      "Episode 24: Total Reward = 240\n",
      "Episode 25: Total Reward = 210\n",
      "Episode 26: Total Reward = 225\n",
      "Episode 27: Total Reward = 240\n",
      "Episode 28: Total Reward = 225\n",
      "Episode 29: Total Reward = 225\n",
      "Episode 30: Total Reward = 240\n",
      "Episode 31: Total Reward = 225\n",
      "Episode 32: Total Reward = 210\n",
      "Episode 33: Total Reward = 195\n",
      "Episode 34: Total Reward = 225\n",
      "Episode 35: Total Reward = 240\n",
      "Episode 36: Total Reward = 225\n",
      "Episode 37: Total Reward = 240\n",
      "Episode 38: Total Reward = 225\n",
      "Episode 39: Total Reward = 240\n",
      "Episode 40: Total Reward = 240\n",
      "Episode 41: Total Reward = 240\n",
      "Episode 42: Total Reward = 240\n",
      "Episode 43: Total Reward = 240\n",
      "Episode 44: Total Reward = 240\n",
      "Episode 45: Total Reward = 240\n",
      "Episode 46: Total Reward = 240\n",
      "Episode 47: Total Reward = 225\n",
      "Episode 48: Total Reward = 240\n",
      "Episode 49: Total Reward = 240\n",
      "Episode 50: Total Reward = 240\n",
      "Episode 51: Total Reward = 225\n",
      "Episode 52: Total Reward = 225\n",
      "Episode 53: Total Reward = 240\n",
      "Episode 54: Total Reward = 240\n",
      "Episode 55: Total Reward = 240\n",
      "Episode 56: Total Reward = 240\n",
      "Episode 57: Total Reward = 225\n",
      "Episode 58: Total Reward = 225\n",
      "Episode 59: Total Reward = 195\n",
      "Episode 60: Total Reward = 240\n",
      "Episode 61: Total Reward = 240\n",
      "Episode 62: Total Reward = 240\n",
      "Episode 63: Total Reward = 240\n",
      "Episode 64: Total Reward = 240\n",
      "Episode 65: Total Reward = 240\n",
      "Episode 66: Total Reward = 225\n",
      "Episode 67: Total Reward = 225\n",
      "Episode 68: Total Reward = 240\n",
      "Episode 69: Total Reward = 240\n",
      "Episode 70: Total Reward = 240\n",
      "Episode 71: Total Reward = 240\n",
      "Episode 72: Total Reward = 240\n",
      "Episode 73: Total Reward = 240\n",
      "Episode 74: Total Reward = 225\n",
      "Episode 75: Total Reward = 240\n",
      "Episode 76: Total Reward = 240\n",
      "Episode 77: Total Reward = 240\n",
      "Episode 78: Total Reward = 240\n",
      "Episode 79: Total Reward = 240\n",
      "Episode 80: Total Reward = 225\n",
      "Episode 81: Total Reward = 240\n",
      "Episode 82: Total Reward = 240\n",
      "Episode 83: Total Reward = 240\n",
      "Episode 84: Total Reward = 240\n",
      "Episode 85: Total Reward = 225\n",
      "Episode 86: Total Reward = 240\n",
      "Episode 87: Total Reward = 225\n",
      "Episode 88: Total Reward = 225\n",
      "Episode 89: Total Reward = 240\n",
      "Episode 90: Total Reward = 240\n",
      "Episode 91: Total Reward = 240\n",
      "Episode 92: Total Reward = 225\n",
      "Episode 93: Total Reward = 240\n",
      "Episode 94: Total Reward = 225\n",
      "Episode 95: Total Reward = 240\n",
      "Episode 96: Total Reward = 240\n",
      "Episode 97: Total Reward = 240\n",
      "Episode 98: Total Reward = 240\n",
      "Episode 99: Total Reward = 225\n",
      "Episode 100: Total Reward = 240\n",
      "Episode 101: Total Reward = 240\n",
      "Episode 102: Total Reward = 240\n",
      "Episode 103: Total Reward = 225\n",
      "Episode 104: Total Reward = 225\n",
      "Episode 105: Total Reward = 240\n",
      "Episode 106: Total Reward = 225\n",
      "Episode 107: Total Reward = 240\n",
      "Episode 108: Total Reward = 225\n",
      "Episode 109: Total Reward = 225\n",
      "Episode 110: Total Reward = 225\n",
      "Episode 111: Total Reward = 240\n",
      "Episode 112: Total Reward = 240\n",
      "Episode 113: Total Reward = 240\n",
      "Episode 114: Total Reward = 225\n",
      "Episode 115: Total Reward = 240\n",
      "Episode 116: Total Reward = 240\n",
      "Episode 117: Total Reward = 240\n",
      "Episode 118: Total Reward = 240\n",
      "Episode 119: Total Reward = 225\n",
      "Episode 120: Total Reward = 240\n",
      "Episode 121: Total Reward = 225\n",
      "Episode 122: Total Reward = 240\n",
      "Episode 123: Total Reward = 225\n",
      "Episode 124: Total Reward = 240\n",
      "Episode 125: Total Reward = 240\n",
      "Episode 126: Total Reward = 240\n",
      "Episode 127: Total Reward = 240\n",
      "Episode 128: Total Reward = 225\n",
      "Episode 129: Total Reward = 240\n",
      "Episode 130: Total Reward = 225\n",
      "Episode 131: Total Reward = 240\n",
      "Episode 132: Total Reward = 240\n",
      "Episode 133: Total Reward = 240\n",
      "Episode 134: Total Reward = 225\n",
      "Episode 135: Total Reward = 225\n",
      "Episode 136: Total Reward = 225\n",
      "Episode 137: Total Reward = 225\n",
      "Episode 138: Total Reward = 240\n",
      "Episode 139: Total Reward = 240\n",
      "Episode 140: Total Reward = 240\n",
      "Episode 141: Total Reward = 225\n",
      "Episode 142: Total Reward = 225\n",
      "Episode 143: Total Reward = 240\n",
      "Episode 144: Total Reward = 240\n",
      "Episode 145: Total Reward = 225\n",
      "Episode 146: Total Reward = 240\n",
      "Episode 147: Total Reward = 240\n",
      "Episode 148: Total Reward = 240\n",
      "Episode 149: Total Reward = 210\n",
      "Episode 150: Total Reward = 225\n",
      "Episode 151: Total Reward = 225\n",
      "Episode 152: Total Reward = 240\n",
      "Episode 153: Total Reward = 240\n",
      "Episode 154: Total Reward = 225\n",
      "Episode 155: Total Reward = 240\n",
      "Episode 156: Total Reward = 240\n",
      "Episode 157: Total Reward = 240\n",
      "Episode 158: Total Reward = 240\n",
      "Episode 159: Total Reward = 240\n",
      "Episode 160: Total Reward = 240\n",
      "Episode 161: Total Reward = 240\n",
      "Episode 162: Total Reward = 240\n",
      "Episode 163: Total Reward = 240\n",
      "Episode 164: Total Reward = 240\n",
      "Episode 165: Total Reward = 240\n",
      "Episode 166: Total Reward = 240\n",
      "Episode 167: Total Reward = 240\n",
      "Episode 168: Total Reward = 240\n",
      "Episode 169: Total Reward = 240\n",
      "Episode 170: Total Reward = 225\n",
      "Episode 171: Total Reward = 240\n",
      "Episode 172: Total Reward = 240\n",
      "Episode 173: Total Reward = 240\n",
      "Episode 174: Total Reward = 225\n",
      "Episode 175: Total Reward = 240\n",
      "Episode 176: Total Reward = 240\n",
      "Episode 177: Total Reward = 240\n",
      "Episode 178: Total Reward = 225\n",
      "Episode 179: Total Reward = 240\n",
      "Episode 180: Total Reward = 225\n",
      "Episode 181: Total Reward = 240\n",
      "Episode 182: Total Reward = 240\n",
      "Episode 183: Total Reward = 240\n",
      "Episode 184: Total Reward = 240\n",
      "Episode 185: Total Reward = 240\n",
      "Episode 186: Total Reward = 240\n",
      "Episode 187: Total Reward = 240\n",
      "Episode 188: Total Reward = 240\n",
      "Episode 189: Total Reward = 225\n",
      "Episode 190: Total Reward = 240\n",
      "Episode 191: Total Reward = 240\n",
      "Episode 192: Total Reward = 240\n",
      "Episode 193: Total Reward = 240\n",
      "Episode 194: Total Reward = 240\n",
      "Episode 195: Total Reward = 240\n",
      "Episode 196: Total Reward = 225\n",
      "Episode 197: Total Reward = 240\n",
      "Episode 198: Total Reward = 240\n",
      "Episode 199: Total Reward = 240\n",
      "Episode 200: Total Reward = 240\n",
      "Episode 201: Total Reward = 240\n",
      "Episode 202: Total Reward = 240\n",
      "Episode 203: Total Reward = 240\n",
      "Episode 204: Total Reward = 240\n",
      "Episode 205: Total Reward = 240\n",
      "Episode 206: Total Reward = 240\n",
      "Episode 207: Total Reward = 240\n",
      "Episode 208: Total Reward = 240\n",
      "Episode 209: Total Reward = 240\n",
      "Episode 210: Total Reward = 240\n",
      "Episode 211: Total Reward = 240\n",
      "Episode 212: Total Reward = 240\n",
      "Episode 213: Total Reward = 240\n",
      "Episode 214: Total Reward = 240\n",
      "Episode 215: Total Reward = 240\n",
      "Episode 216: Total Reward = 240\n",
      "Episode 217: Total Reward = 225\n",
      "Episode 218: Total Reward = 240\n",
      "Episode 219: Total Reward = 240\n",
      "Episode 220: Total Reward = 240\n",
      "Episode 221: Total Reward = 240\n",
      "Episode 222: Total Reward = 240\n",
      "Episode 223: Total Reward = 240\n",
      "Episode 224: Total Reward = 240\n",
      "Episode 225: Total Reward = 240\n",
      "Episode 226: Total Reward = 240\n",
      "Episode 227: Total Reward = 240\n",
      "Episode 228: Total Reward = 240\n",
      "Episode 229: Total Reward = 240\n",
      "Episode 230: Total Reward = 240\n",
      "Episode 231: Total Reward = 240\n",
      "Episode 232: Total Reward = 240\n",
      "Episode 233: Total Reward = 240\n",
      "Episode 234: Total Reward = 240\n",
      "Episode 235: Total Reward = 240\n",
      "Episode 236: Total Reward = 240\n",
      "Episode 237: Total Reward = 240\n",
      "Episode 238: Total Reward = 240\n",
      "Episode 239: Total Reward = 240\n",
      "Episode 240: Total Reward = 240\n",
      "Episode 241: Total Reward = 240\n",
      "Episode 242: Total Reward = 240\n",
      "Episode 243: Total Reward = 240\n",
      "Episode 244: Total Reward = 240\n",
      "Episode 245: Total Reward = 240\n",
      "Episode 246: Total Reward = 240\n",
      "Episode 247: Total Reward = 240\n",
      "Episode 248: Total Reward = 240\n",
      "Episode 249: Total Reward = 240\n",
      "Episode 250: Total Reward = 240\n",
      "Episode 251: Total Reward = 240\n",
      "Episode 252: Total Reward = 240\n",
      "Episode 253: Total Reward = 240\n",
      "Episode 254: Total Reward = 240\n",
      "Episode 255: Total Reward = 240\n",
      "Episode 256: Total Reward = 240\n",
      "Episode 257: Total Reward = 240\n",
      "Episode 258: Total Reward = 240\n",
      "Episode 259: Total Reward = 240\n",
      "Episode 260: Total Reward = 240\n",
      "Episode 261: Total Reward = 240\n",
      "Episode 262: Total Reward = 240\n",
      "Episode 263: Total Reward = 240\n",
      "Episode 264: Total Reward = 240\n",
      "Episode 265: Total Reward = 240\n",
      "Episode 266: Total Reward = 240\n",
      "Episode 267: Total Reward = 240\n",
      "Episode 268: Total Reward = 240\n",
      "Episode 269: Total Reward = 240\n",
      "Episode 270: Total Reward = 240\n",
      "Episode 271: Total Reward = 240\n",
      "Episode 272: Total Reward = 240\n",
      "Episode 273: Total Reward = 240\n",
      "Episode 274: Total Reward = 240\n",
      "Episode 275: Total Reward = 240\n",
      "Episode 276: Total Reward = 240\n",
      "Episode 277: Total Reward = 240\n",
      "Episode 278: Total Reward = 240\n",
      "Episode 279: Total Reward = 240\n",
      "Episode 280: Total Reward = 240\n",
      "Episode 281: Total Reward = 240\n",
      "Episode 282: Total Reward = 240\n",
      "Episode 283: Total Reward = 240\n",
      "Episode 284: Total Reward = 240\n",
      "Episode 285: Total Reward = 240\n",
      "Episode 286: Total Reward = 240\n",
      "Episode 287: Total Reward = 240\n",
      "Episode 288: Total Reward = 240\n",
      "Episode 289: Total Reward = 240\n",
      "Episode 290: Total Reward = 240\n",
      "Episode 291: Total Reward = 240\n",
      "Episode 292: Total Reward = 240\n",
      "Episode 293: Total Reward = 225\n",
      "Episode 294: Total Reward = 240\n",
      "Episode 295: Total Reward = 240\n",
      "Episode 296: Total Reward = 240\n",
      "Episode 297: Total Reward = 240\n",
      "Episode 298: Total Reward = 240\n",
      "Episode 299: Total Reward = 240\n",
      "Episode 300: Total Reward = 240\n",
      "Episode 301: Total Reward = 240\n",
      "Episode 302: Total Reward = 240\n",
      "Episode 303: Total Reward = 240\n",
      "Episode 304: Total Reward = 240\n",
      "Episode 305: Total Reward = 240\n",
      "Episode 306: Total Reward = 240\n",
      "Episode 307: Total Reward = 240\n",
      "Episode 308: Total Reward = 240\n",
      "Episode 309: Total Reward = 240\n",
      "Episode 310: Total Reward = 240\n",
      "Episode 311: Total Reward = 240\n",
      "Episode 312: Total Reward = 240\n",
      "Episode 313: Total Reward = 240\n",
      "Episode 314: Total Reward = 240\n",
      "Episode 315: Total Reward = 240\n",
      "Episode 316: Total Reward = 240\n",
      "Episode 317: Total Reward = 240\n",
      "Episode 318: Total Reward = 240\n",
      "Episode 319: Total Reward = 240\n",
      "Episode 320: Total Reward = 240\n",
      "Episode 321: Total Reward = 240\n",
      "Episode 322: Total Reward = 240\n",
      "Episode 323: Total Reward = 240\n",
      "Episode 324: Total Reward = 240\n",
      "Episode 325: Total Reward = 240\n",
      "Episode 326: Total Reward = 240\n",
      "Episode 327: Total Reward = 240\n",
      "Episode 328: Total Reward = 240\n",
      "Episode 329: Total Reward = 240\n",
      "Episode 330: Total Reward = 240\n",
      "Episode 331: Total Reward = 240\n",
      "Episode 332: Total Reward = 240\n",
      "Episode 333: Total Reward = 240\n",
      "Episode 334: Total Reward = 240\n",
      "Episode 335: Total Reward = 240\n",
      "Episode 336: Total Reward = 240\n",
      "Episode 337: Total Reward = 240\n",
      "Episode 338: Total Reward = 240\n",
      "Episode 339: Total Reward = 240\n",
      "Episode 340: Total Reward = 240\n",
      "Episode 341: Total Reward = 240\n",
      "Episode 342: Total Reward = 240\n",
      "Episode 343: Total Reward = 240\n",
      "Episode 344: Total Reward = 240\n",
      "Episode 345: Total Reward = 240\n",
      "Episode 346: Total Reward = 240\n",
      "Episode 347: Total Reward = 240\n",
      "Episode 348: Total Reward = 240\n",
      "Episode 349: Total Reward = 240\n",
      "Episode 350: Total Reward = 240\n",
      "Episode 351: Total Reward = 240\n",
      "Episode 352: Total Reward = 240\n",
      "Episode 353: Total Reward = 240\n",
      "Episode 354: Total Reward = 240\n",
      "Episode 355: Total Reward = 240\n",
      "Episode 356: Total Reward = 240\n",
      "Episode 357: Total Reward = 240\n",
      "Episode 358: Total Reward = 240\n",
      "Episode 359: Total Reward = 240\n",
      "Episode 360: Total Reward = 240\n",
      "Episode 361: Total Reward = 240\n",
      "Episode 362: Total Reward = 240\n",
      "Episode 363: Total Reward = 240\n",
      "Episode 364: Total Reward = 240\n",
      "Episode 365: Total Reward = 240\n",
      "Episode 366: Total Reward = 240\n",
      "Episode 367: Total Reward = 240\n",
      "Episode 368: Total Reward = 240\n",
      "Episode 369: Total Reward = 240\n",
      "Episode 370: Total Reward = 240\n",
      "Episode 371: Total Reward = 240\n",
      "Episode 372: Total Reward = 240\n",
      "Episode 373: Total Reward = 240\n",
      "Episode 374: Total Reward = 240\n",
      "Episode 375: Total Reward = 240\n",
      "Episode 376: Total Reward = 240\n",
      "Episode 377: Total Reward = 240\n",
      "Episode 378: Total Reward = 240\n",
      "Episode 379: Total Reward = 240\n",
      "Episode 380: Total Reward = 240\n",
      "Episode 381: Total Reward = 240\n",
      "Episode 382: Total Reward = 240\n",
      "Episode 383: Total Reward = 240\n",
      "Episode 384: Total Reward = 240\n",
      "Episode 385: Total Reward = 240\n",
      "Episode 386: Total Reward = 240\n",
      "Episode 387: Total Reward = 240\n",
      "Episode 388: Total Reward = 240\n",
      "Episode 389: Total Reward = 240\n",
      "Episode 390: Total Reward = 240\n",
      "Episode 391: Total Reward = 240\n",
      "Episode 392: Total Reward = 240\n",
      "Episode 393: Total Reward = 240\n",
      "Episode 394: Total Reward = 240\n",
      "Episode 395: Total Reward = 240\n",
      "Episode 396: Total Reward = 240\n",
      "Episode 397: Total Reward = 240\n",
      "Episode 398: Total Reward = 240\n",
      "Episode 399: Total Reward = 240\n",
      "Episode 400: Total Reward = 240\n",
      "Episode 401: Total Reward = 240\n",
      "Episode 402: Total Reward = 240\n",
      "Episode 403: Total Reward = 240\n",
      "Episode 404: Total Reward = 240\n",
      "Episode 405: Total Reward = 240\n",
      "Episode 406: Total Reward = 240\n",
      "Episode 407: Total Reward = 240\n",
      "Episode 408: Total Reward = 240\n",
      "Episode 409: Total Reward = 240\n",
      "Episode 410: Total Reward = 240\n",
      "Episode 411: Total Reward = 240\n",
      "Episode 412: Total Reward = 240\n",
      "Episode 413: Total Reward = 225\n",
      "Episode 414: Total Reward = 240\n",
      "Episode 415: Total Reward = 240\n",
      "Episode 416: Total Reward = 240\n",
      "Episode 417: Total Reward = 240\n",
      "Episode 418: Total Reward = 240\n",
      "Episode 419: Total Reward = 240\n",
      "Episode 420: Total Reward = 240\n",
      "Episode 421: Total Reward = 240\n",
      "Episode 422: Total Reward = 240\n",
      "Episode 423: Total Reward = 240\n",
      "Episode 424: Total Reward = 240\n",
      "Episode 425: Total Reward = 240\n",
      "Episode 426: Total Reward = 240\n",
      "Episode 427: Total Reward = 240\n",
      "Episode 428: Total Reward = 240\n",
      "Episode 429: Total Reward = 240\n",
      "Episode 430: Total Reward = 240\n",
      "Episode 431: Total Reward = 240\n",
      "Episode 432: Total Reward = 240\n",
      "Episode 433: Total Reward = 240\n",
      "Episode 434: Total Reward = 240\n",
      "Episode 435: Total Reward = 240\n",
      "Episode 436: Total Reward = 240\n",
      "Episode 437: Total Reward = 240\n",
      "Episode 438: Total Reward = 240\n",
      "Episode 439: Total Reward = 240\n",
      "Episode 440: Total Reward = 240\n",
      "Episode 441: Total Reward = 240\n",
      "Episode 442: Total Reward = 240\n",
      "Episode 443: Total Reward = 240\n",
      "Episode 444: Total Reward = 240\n",
      "Episode 445: Total Reward = 240\n",
      "Episode 446: Total Reward = 240\n",
      "Episode 447: Total Reward = 240\n",
      "Episode 448: Total Reward = 240\n",
      "Episode 449: Total Reward = 240\n",
      "Episode 450: Total Reward = 240\n",
      "Episode 451: Total Reward = 240\n",
      "Episode 452: Total Reward = 240\n",
      "Episode 453: Total Reward = 240\n",
      "Episode 454: Total Reward = 240\n",
      "Episode 455: Total Reward = 240\n",
      "Episode 456: Total Reward = 240\n",
      "Episode 457: Total Reward = 240\n",
      "Episode 458: Total Reward = 240\n",
      "Episode 459: Total Reward = 240\n",
      "Episode 460: Total Reward = 240\n",
      "Episode 461: Total Reward = 240\n",
      "Episode 462: Total Reward = 240\n",
      "Episode 463: Total Reward = 240\n",
      "Episode 464: Total Reward = 240\n",
      "Episode 465: Total Reward = 240\n",
      "Episode 466: Total Reward = 240\n",
      "Episode 467: Total Reward = 240\n",
      "Episode 468: Total Reward = 240\n",
      "Episode 469: Total Reward = 240\n",
      "Episode 470: Total Reward = 240\n",
      "Episode 471: Total Reward = 240\n",
      "Episode 472: Total Reward = 240\n",
      "Episode 473: Total Reward = 240\n",
      "Episode 474: Total Reward = 240\n",
      "Episode 475: Total Reward = 240\n",
      "Episode 476: Total Reward = 240\n",
      "Episode 477: Total Reward = 240\n",
      "Episode 478: Total Reward = 240\n",
      "Episode 479: Total Reward = 240\n",
      "Episode 480: Total Reward = 240\n",
      "Episode 481: Total Reward = 240\n",
      "Episode 482: Total Reward = 240\n",
      "Episode 483: Total Reward = 240\n",
      "Episode 484: Total Reward = 240\n",
      "Episode 485: Total Reward = 240\n",
      "Episode 486: Total Reward = 240\n",
      "Episode 487: Total Reward = 240\n",
      "Episode 488: Total Reward = 240\n",
      "Episode 489: Total Reward = 240\n",
      "Episode 490: Total Reward = 240\n",
      "Episode 491: Total Reward = 240\n",
      "Episode 492: Total Reward = 240\n",
      "Episode 493: Total Reward = 240\n",
      "Episode 494: Total Reward = 240\n",
      "Episode 495: Total Reward = 240\n",
      "Episode 496: Total Reward = 240\n",
      "Episode 497: Total Reward = 240\n",
      "Episode 498: Total Reward = 240\n",
      "Episode 499: Total Reward = 240\n",
      "Episode 500: Total Reward = 240\n",
      "Episode 501: Total Reward = 240\n",
      "Episode 502: Total Reward = 240\n",
      "Episode 503: Total Reward = 240\n",
      "Episode 504: Total Reward = 240\n",
      "Episode 505: Total Reward = 240\n",
      "Episode 506: Total Reward = 240\n",
      "Episode 507: Total Reward = 240\n",
      "Episode 508: Total Reward = 240\n",
      "Episode 509: Total Reward = 240\n",
      "Episode 510: Total Reward = 240\n",
      "Episode 511: Total Reward = 240\n",
      "Episode 512: Total Reward = 240\n",
      "Episode 513: Total Reward = 225\n",
      "Episode 514: Total Reward = 240\n",
      "Episode 515: Total Reward = 240\n",
      "Episode 516: Total Reward = 240\n",
      "Episode 517: Total Reward = 240\n",
      "Episode 518: Total Reward = 240\n",
      "Episode 519: Total Reward = 240\n",
      "Episode 520: Total Reward = 240\n",
      "Episode 521: Total Reward = 240\n",
      "Episode 522: Total Reward = 240\n",
      "Episode 523: Total Reward = 240\n",
      "Episode 524: Total Reward = 240\n",
      "Episode 525: Total Reward = 240\n",
      "Episode 526: Total Reward = 240\n",
      "Episode 527: Total Reward = 240\n",
      "Episode 528: Total Reward = 240\n",
      "Episode 529: Total Reward = 240\n",
      "Episode 530: Total Reward = 240\n",
      "Episode 531: Total Reward = 240\n",
      "Episode 532: Total Reward = 240\n",
      "Episode 533: Total Reward = 240\n",
      "Episode 534: Total Reward = 240\n",
      "Episode 535: Total Reward = 240\n",
      "Episode 536: Total Reward = 240\n",
      "Episode 537: Total Reward = 240\n",
      "Episode 538: Total Reward = 240\n",
      "Episode 539: Total Reward = 240\n",
      "Episode 540: Total Reward = 240\n",
      "Episode 541: Total Reward = 240\n",
      "Episode 542: Total Reward = 240\n",
      "Episode 543: Total Reward = 240\n",
      "Episode 544: Total Reward = 240\n",
      "Episode 545: Total Reward = 240\n",
      "Episode 546: Total Reward = 240\n",
      "Episode 547: Total Reward = 240\n",
      "Episode 548: Total Reward = 240\n",
      "Episode 549: Total Reward = 240\n",
      "Episode 550: Total Reward = 240\n",
      "Episode 551: Total Reward = 240\n",
      "Episode 552: Total Reward = 240\n",
      "Episode 553: Total Reward = 240\n",
      "Episode 554: Total Reward = 240\n",
      "Episode 555: Total Reward = 240\n",
      "Episode 556: Total Reward = 240\n",
      "Episode 557: Total Reward = 240\n",
      "Episode 558: Total Reward = 240\n",
      "Episode 559: Total Reward = 240\n",
      "Episode 560: Total Reward = 240\n",
      "Episode 561: Total Reward = 240\n",
      "Episode 562: Total Reward = 240\n",
      "Episode 563: Total Reward = 240\n",
      "Episode 564: Total Reward = 240\n",
      "Episode 565: Total Reward = 240\n",
      "Episode 566: Total Reward = 240\n",
      "Episode 567: Total Reward = 240\n",
      "Episode 568: Total Reward = 240\n",
      "Episode 569: Total Reward = 240\n",
      "Episode 570: Total Reward = 240\n",
      "Episode 571: Total Reward = 240\n",
      "Episode 572: Total Reward = 240\n",
      "Episode 573: Total Reward = 240\n",
      "Episode 574: Total Reward = 240\n",
      "Episode 575: Total Reward = 240\n",
      "Episode 576: Total Reward = 240\n",
      "Episode 577: Total Reward = 240\n",
      "Episode 578: Total Reward = 240\n",
      "Episode 579: Total Reward = 240\n",
      "Episode 580: Total Reward = 240\n",
      "Episode 581: Total Reward = 240\n",
      "Episode 582: Total Reward = 240\n",
      "Episode 583: Total Reward = 240\n",
      "Episode 584: Total Reward = 240\n",
      "Episode 585: Total Reward = 240\n",
      "Episode 586: Total Reward = 240\n",
      "Episode 587: Total Reward = 240\n",
      "Episode 588: Total Reward = 240\n",
      "Episode 589: Total Reward = 240\n",
      "Episode 590: Total Reward = 240\n",
      "Episode 591: Total Reward = 240\n",
      "Episode 592: Total Reward = 240\n",
      "Episode 593: Total Reward = 240\n",
      "Episode 594: Total Reward = 240\n",
      "Episode 595: Total Reward = 240\n",
      "Episode 596: Total Reward = 240\n",
      "Episode 597: Total Reward = 240\n",
      "Episode 598: Total Reward = 240\n",
      "Episode 599: Total Reward = 240\n",
      "Episode 600: Total Reward = 240\n",
      "Episode 601: Total Reward = 240\n",
      "Episode 602: Total Reward = 240\n",
      "Episode 603: Total Reward = 240\n",
      "Episode 604: Total Reward = 240\n",
      "Episode 605: Total Reward = 240\n",
      "Episode 606: Total Reward = 240\n",
      "Episode 607: Total Reward = 240\n",
      "Episode 608: Total Reward = 240\n",
      "Episode 609: Total Reward = 240\n",
      "Episode 610: Total Reward = 240\n",
      "Episode 611: Total Reward = 240\n",
      "Episode 612: Total Reward = 240\n",
      "Episode 613: Total Reward = 240\n",
      "Episode 614: Total Reward = 240\n",
      "Episode 615: Total Reward = 240\n",
      "Episode 616: Total Reward = 240\n",
      "Episode 617: Total Reward = 240\n",
      "Episode 618: Total Reward = 240\n",
      "Episode 619: Total Reward = 240\n",
      "Episode 620: Total Reward = 240\n",
      "Episode 621: Total Reward = 240\n",
      "Episode 622: Total Reward = 240\n",
      "Episode 623: Total Reward = 240\n",
      "Episode 624: Total Reward = 240\n",
      "Episode 625: Total Reward = 240\n",
      "Episode 626: Total Reward = 240\n",
      "Episode 627: Total Reward = 240\n",
      "Episode 628: Total Reward = 240\n",
      "Episode 629: Total Reward = 240\n",
      "Episode 630: Total Reward = 240\n",
      "Episode 631: Total Reward = 240\n",
      "Episode 632: Total Reward = 240\n",
      "Episode 633: Total Reward = 240\n",
      "Episode 634: Total Reward = 240\n",
      "Episode 635: Total Reward = 240\n",
      "Episode 636: Total Reward = 240\n",
      "Episode 637: Total Reward = 240\n",
      "Episode 638: Total Reward = 240\n",
      "Episode 639: Total Reward = 240\n",
      "Episode 640: Total Reward = 240\n",
      "Episode 641: Total Reward = 240\n",
      "Episode 642: Total Reward = 240\n",
      "Episode 643: Total Reward = 240\n",
      "Episode 644: Total Reward = 240\n",
      "Episode 645: Total Reward = 240\n",
      "Episode 646: Total Reward = 240\n",
      "Episode 647: Total Reward = 240\n",
      "Episode 648: Total Reward = 240\n",
      "Episode 649: Total Reward = 240\n",
      "Episode 650: Total Reward = 240\n",
      "Episode 651: Total Reward = 240\n",
      "Episode 652: Total Reward = 240\n",
      "Episode 653: Total Reward = 240\n",
      "Episode 654: Total Reward = 240\n",
      "Episode 655: Total Reward = 240\n",
      "Episode 656: Total Reward = 240\n",
      "Episode 657: Total Reward = 240\n",
      "Episode 658: Total Reward = 240\n",
      "Episode 659: Total Reward = 240\n",
      "Episode 660: Total Reward = 240\n",
      "Episode 661: Total Reward = 240\n",
      "Episode 662: Total Reward = 240\n",
      "Episode 663: Total Reward = 240\n",
      "Episode 664: Total Reward = 240\n",
      "Episode 665: Total Reward = 240\n",
      "Episode 666: Total Reward = 240\n",
      "Episode 667: Total Reward = 240\n",
      "Episode 668: Total Reward = 240\n",
      "Episode 669: Total Reward = 240\n",
      "Episode 670: Total Reward = 240\n",
      "Episode 671: Total Reward = 240\n",
      "Episode 672: Total Reward = 240\n",
      "Episode 673: Total Reward = 240\n",
      "Episode 674: Total Reward = 240\n",
      "Episode 675: Total Reward = 240\n",
      "Episode 676: Total Reward = 240\n",
      "Episode 677: Total Reward = 240\n",
      "Episode 678: Total Reward = 240\n",
      "Episode 679: Total Reward = 240\n",
      "Episode 680: Total Reward = 240\n",
      "Episode 681: Total Reward = 240\n",
      "Episode 682: Total Reward = 240\n",
      "Episode 683: Total Reward = 240\n",
      "Episode 684: Total Reward = 240\n",
      "Episode 685: Total Reward = 240\n",
      "Episode 686: Total Reward = 240\n",
      "Episode 687: Total Reward = 240\n",
      "Episode 688: Total Reward = 240\n",
      "Episode 689: Total Reward = 240\n",
      "Episode 690: Total Reward = 240\n",
      "Episode 691: Total Reward = 240\n",
      "Episode 692: Total Reward = 240\n",
      "Episode 693: Total Reward = 240\n",
      "Episode 694: Total Reward = 240\n",
      "Episode 695: Total Reward = 240\n",
      "Episode 696: Total Reward = 240\n",
      "Episode 697: Total Reward = 240\n",
      "Episode 698: Total Reward = 240\n",
      "Episode 699: Total Reward = 240\n",
      "Episode 700: Total Reward = 240\n",
      "Episode 701: Total Reward = 240\n",
      "Episode 702: Total Reward = 240\n",
      "Episode 703: Total Reward = 240\n",
      "Episode 704: Total Reward = 240\n",
      "Episode 705: Total Reward = 240\n",
      "Episode 706: Total Reward = 240\n",
      "Episode 707: Total Reward = 240\n",
      "Episode 708: Total Reward = 240\n",
      "Episode 709: Total Reward = 240\n",
      "Episode 710: Total Reward = 240\n",
      "Episode 711: Total Reward = 240\n",
      "Episode 712: Total Reward = 240\n",
      "Episode 713: Total Reward = 240\n",
      "Episode 714: Total Reward = 240\n",
      "Episode 715: Total Reward = 240\n",
      "Episode 716: Total Reward = 240\n",
      "Episode 717: Total Reward = 240\n",
      "Episode 718: Total Reward = 240\n",
      "Episode 719: Total Reward = 240\n",
      "Episode 720: Total Reward = 240\n",
      "Episode 721: Total Reward = 240\n",
      "Episode 722: Total Reward = 240\n",
      "Episode 723: Total Reward = 240\n",
      "Episode 724: Total Reward = 240\n",
      "Episode 725: Total Reward = 240\n",
      "Episode 726: Total Reward = 240\n",
      "Episode 727: Total Reward = 240\n",
      "Episode 728: Total Reward = 240\n",
      "Episode 729: Total Reward = 240\n",
      "Episode 730: Total Reward = 240\n",
      "Episode 731: Total Reward = 240\n",
      "Episode 732: Total Reward = 240\n",
      "Episode 733: Total Reward = 240\n",
      "Episode 734: Total Reward = 240\n",
      "Episode 735: Total Reward = 240\n",
      "Episode 736: Total Reward = 240\n",
      "Episode 737: Total Reward = 240\n",
      "Episode 738: Total Reward = 240\n",
      "Episode 739: Total Reward = 240\n",
      "Episode 740: Total Reward = 240\n",
      "Episode 741: Total Reward = 240\n",
      "Episode 742: Total Reward = 240\n",
      "Episode 743: Total Reward = 240\n",
      "Episode 744: Total Reward = 240\n",
      "Episode 745: Total Reward = 240\n",
      "Episode 746: Total Reward = 240\n",
      "Episode 747: Total Reward = 240\n",
      "Episode 748: Total Reward = 240\n",
      "Episode 749: Total Reward = 240\n",
      "Episode 750: Total Reward = 240\n",
      "Episode 751: Total Reward = 240\n",
      "Episode 752: Total Reward = 240\n",
      "Episode 753: Total Reward = 240\n",
      "Episode 754: Total Reward = 240\n",
      "Episode 755: Total Reward = 240\n",
      "Episode 756: Total Reward = 240\n",
      "Episode 757: Total Reward = 240\n",
      "Episode 758: Total Reward = 240\n",
      "Episode 759: Total Reward = 240\n",
      "Episode 760: Total Reward = 240\n",
      "Episode 761: Total Reward = 240\n",
      "Episode 762: Total Reward = 240\n",
      "Episode 763: Total Reward = 240\n",
      "Episode 764: Total Reward = 240\n",
      "Episode 765: Total Reward = 240\n",
      "Episode 766: Total Reward = 240\n",
      "Episode 767: Total Reward = 240\n",
      "Episode 768: Total Reward = 240\n",
      "Episode 769: Total Reward = 240\n",
      "Episode 770: Total Reward = 240\n",
      "Episode 771: Total Reward = 240\n",
      "Episode 772: Total Reward = 240\n",
      "Episode 773: Total Reward = 240\n",
      "Episode 774: Total Reward = 240\n",
      "Episode 775: Total Reward = 240\n",
      "Episode 776: Total Reward = 240\n",
      "Episode 777: Total Reward = 240\n",
      "Episode 778: Total Reward = 240\n",
      "Episode 779: Total Reward = 240\n",
      "Episode 780: Total Reward = 240\n",
      "Episode 781: Total Reward = 240\n",
      "Episode 782: Total Reward = 240\n",
      "Episode 783: Total Reward = 240\n",
      "Episode 784: Total Reward = 240\n",
      "Episode 785: Total Reward = 240\n",
      "Episode 786: Total Reward = 240\n",
      "Episode 787: Total Reward = 240\n",
      "Episode 788: Total Reward = 240\n",
      "Episode 789: Total Reward = 240\n",
      "Episode 790: Total Reward = 240\n",
      "Episode 791: Total Reward = 240\n",
      "Episode 792: Total Reward = 240\n",
      "Episode 793: Total Reward = 240\n",
      "Episode 794: Total Reward = 240\n",
      "Episode 795: Total Reward = 240\n",
      "Episode 796: Total Reward = 240\n",
      "Episode 797: Total Reward = 240\n",
      "Episode 798: Total Reward = 240\n",
      "Episode 799: Total Reward = 240\n",
      "Episode 800: Total Reward = 240\n",
      "Episode 801: Total Reward = 240\n",
      "Episode 802: Total Reward = 240\n",
      "Episode 803: Total Reward = 240\n",
      "Episode 804: Total Reward = 240\n",
      "Episode 805: Total Reward = 240\n",
      "Episode 806: Total Reward = 240\n",
      "Episode 807: Total Reward = 240\n",
      "Episode 808: Total Reward = 240\n",
      "Episode 809: Total Reward = 240\n",
      "Episode 810: Total Reward = 240\n",
      "Episode 811: Total Reward = 240\n",
      "Episode 812: Total Reward = 240\n",
      "Episode 813: Total Reward = 240\n",
      "Episode 814: Total Reward = 240\n",
      "Episode 815: Total Reward = 240\n",
      "Episode 816: Total Reward = 240\n",
      "Episode 817: Total Reward = 240\n",
      "Episode 818: Total Reward = 240\n",
      "Episode 819: Total Reward = 240\n",
      "Episode 820: Total Reward = 240\n",
      "Episode 821: Total Reward = 240\n",
      "Episode 822: Total Reward = 240\n",
      "Episode 823: Total Reward = 240\n",
      "Episode 824: Total Reward = 240\n",
      "Episode 825: Total Reward = 240\n",
      "Episode 826: Total Reward = 240\n",
      "Episode 827: Total Reward = 240\n",
      "Episode 828: Total Reward = 240\n",
      "Episode 829: Total Reward = 240\n",
      "Episode 830: Total Reward = 240\n",
      "Episode 831: Total Reward = 240\n",
      "Episode 832: Total Reward = 240\n",
      "Episode 833: Total Reward = 240\n",
      "Episode 834: Total Reward = 240\n",
      "Episode 835: Total Reward = 240\n",
      "Episode 836: Total Reward = 240\n",
      "Episode 837: Total Reward = 240\n",
      "Episode 838: Total Reward = 240\n",
      "Episode 839: Total Reward = 240\n",
      "Episode 840: Total Reward = 240\n",
      "Episode 841: Total Reward = 240\n",
      "Episode 842: Total Reward = 240\n",
      "Episode 843: Total Reward = 240\n",
      "Episode 844: Total Reward = 240\n",
      "Episode 845: Total Reward = 240\n",
      "Episode 846: Total Reward = 240\n",
      "Episode 847: Total Reward = 240\n",
      "Episode 848: Total Reward = 240\n",
      "Episode 849: Total Reward = 240\n",
      "Episode 850: Total Reward = 240\n",
      "Episode 851: Total Reward = 240\n",
      "Episode 852: Total Reward = 240\n",
      "Episode 853: Total Reward = 240\n",
      "Episode 854: Total Reward = 240\n",
      "Episode 855: Total Reward = 240\n",
      "Episode 856: Total Reward = 240\n",
      "Episode 857: Total Reward = 240\n",
      "Episode 858: Total Reward = 240\n",
      "Episode 859: Total Reward = 240\n",
      "Episode 860: Total Reward = 240\n",
      "Episode 861: Total Reward = 240\n",
      "Episode 862: Total Reward = 240\n",
      "Episode 863: Total Reward = 240\n",
      "Episode 864: Total Reward = 240\n",
      "Episode 865: Total Reward = 240\n",
      "Episode 866: Total Reward = 240\n",
      "Episode 867: Total Reward = 240\n",
      "Episode 868: Total Reward = 240\n",
      "Episode 869: Total Reward = 240\n",
      "Episode 870: Total Reward = 240\n",
      "Episode 871: Total Reward = 240\n",
      "Episode 872: Total Reward = 240\n",
      "Episode 873: Total Reward = 240\n",
      "Episode 874: Total Reward = 240\n",
      "Episode 875: Total Reward = 240\n",
      "Episode 876: Total Reward = 240\n",
      "Episode 877: Total Reward = 240\n",
      "Episode 878: Total Reward = 240\n",
      "Episode 879: Total Reward = 240\n",
      "Episode 880: Total Reward = 240\n",
      "Episode 881: Total Reward = 240\n",
      "Episode 882: Total Reward = 240\n",
      "Episode 883: Total Reward = 240\n",
      "Episode 884: Total Reward = 240\n",
      "Episode 885: Total Reward = 240\n",
      "Episode 886: Total Reward = 240\n",
      "Episode 887: Total Reward = 240\n",
      "Episode 888: Total Reward = 240\n",
      "Episode 889: Total Reward = 240\n",
      "Episode 890: Total Reward = 240\n",
      "Episode 891: Total Reward = 240\n",
      "Episode 892: Total Reward = 240\n",
      "Episode 893: Total Reward = 240\n",
      "Episode 894: Total Reward = 240\n",
      "Episode 895: Total Reward = 240\n",
      "Episode 896: Total Reward = 240\n",
      "Episode 897: Total Reward = 240\n",
      "Episode 898: Total Reward = 240\n",
      "Episode 899: Total Reward = 240\n",
      "Episode 900: Total Reward = 240\n",
      "Episode 901: Total Reward = 240\n",
      "Episode 902: Total Reward = 240\n",
      "Episode 903: Total Reward = 240\n",
      "Episode 904: Total Reward = 240\n",
      "Episode 905: Total Reward = 240\n",
      "Episode 906: Total Reward = 240\n",
      "Episode 907: Total Reward = 240\n",
      "Episode 908: Total Reward = 240\n",
      "Episode 909: Total Reward = 240\n",
      "Episode 910: Total Reward = 240\n",
      "Episode 911: Total Reward = 240\n",
      "Episode 912: Total Reward = 240\n",
      "Episode 913: Total Reward = 240\n",
      "Episode 914: Total Reward = 240\n",
      "Episode 915: Total Reward = 240\n",
      "Episode 916: Total Reward = 240\n",
      "Episode 917: Total Reward = 240\n",
      "Episode 918: Total Reward = 240\n",
      "Episode 919: Total Reward = 240\n",
      "Episode 920: Total Reward = 240\n",
      "Episode 921: Total Reward = 240\n",
      "Episode 922: Total Reward = 240\n",
      "Episode 923: Total Reward = 240\n",
      "Episode 924: Total Reward = 240\n",
      "Episode 925: Total Reward = 240\n",
      "Episode 926: Total Reward = 240\n",
      "Episode 927: Total Reward = 240\n",
      "Episode 928: Total Reward = 240\n",
      "Episode 929: Total Reward = 240\n",
      "Episode 930: Total Reward = 240\n",
      "Episode 931: Total Reward = 240\n",
      "Episode 932: Total Reward = 240\n",
      "Episode 933: Total Reward = 240\n",
      "Episode 934: Total Reward = 240\n",
      "Episode 935: Total Reward = 240\n",
      "Episode 936: Total Reward = 240\n",
      "Episode 937: Total Reward = 240\n",
      "Episode 938: Total Reward = 240\n",
      "Episode 939: Total Reward = 240\n",
      "Episode 940: Total Reward = 240\n",
      "Episode 941: Total Reward = 240\n",
      "Episode 942: Total Reward = 240\n",
      "Episode 943: Total Reward = 240\n",
      "Episode 944: Total Reward = 240\n",
      "Episode 945: Total Reward = 240\n",
      "Episode 946: Total Reward = 240\n",
      "Episode 947: Total Reward = 240\n",
      "Episode 948: Total Reward = 240\n",
      "Episode 949: Total Reward = 240\n",
      "Episode 950: Total Reward = 240\n",
      "Episode 951: Total Reward = 240\n",
      "Episode 952: Total Reward = 240\n",
      "Episode 953: Total Reward = 240\n",
      "Episode 954: Total Reward = 240\n",
      "Episode 955: Total Reward = 240\n",
      "Episode 956: Total Reward = 240\n",
      "Episode 957: Total Reward = 240\n",
      "Episode 958: Total Reward = 240\n",
      "Episode 959: Total Reward = 240\n",
      "Episode 960: Total Reward = 240\n",
      "Episode 961: Total Reward = 240\n",
      "Episode 962: Total Reward = 240\n",
      "Episode 963: Total Reward = 240\n",
      "Episode 964: Total Reward = 240\n",
      "Episode 965: Total Reward = 240\n",
      "Episode 966: Total Reward = 240\n",
      "Episode 967: Total Reward = 240\n",
      "Episode 968: Total Reward = 240\n",
      "Episode 969: Total Reward = 240\n",
      "Episode 970: Total Reward = 240\n",
      "Episode 971: Total Reward = 240\n",
      "Episode 972: Total Reward = 240\n",
      "Episode 973: Total Reward = 240\n",
      "Episode 974: Total Reward = 240\n",
      "Episode 975: Total Reward = 240\n",
      "Episode 976: Total Reward = 240\n",
      "Episode 977: Total Reward = 240\n",
      "Episode 978: Total Reward = 240\n",
      "Episode 979: Total Reward = 240\n",
      "Episode 980: Total Reward = 240\n",
      "Episode 981: Total Reward = 240\n",
      "Episode 982: Total Reward = 240\n",
      "Episode 983: Total Reward = 240\n",
      "Episode 984: Total Reward = 240\n",
      "Episode 985: Total Reward = 240\n",
      "Episode 986: Total Reward = 240\n",
      "Episode 987: Total Reward = 240\n",
      "Episode 988: Total Reward = 240\n",
      "Episode 989: Total Reward = 240\n",
      "Episode 990: Total Reward = 240\n",
      "Episode 991: Total Reward = 240\n",
      "Episode 992: Total Reward = 240\n",
      "Episode 993: Total Reward = 240\n",
      "Episode 994: Total Reward = 240\n",
      "Episode 995: Total Reward = 240\n",
      "Episode 996: Total Reward = 240\n",
      "Episode 997: Total Reward = 240\n",
      "Episode 998: Total Reward = 240\n",
      "Episode 999: Total Reward = 240\n",
      "Episode 1000: Total Reward = 240\n"
     ]
    }
   ],
   "execution_count": 27
  },
  {
   "metadata": {},
   "cell_type": "markdown",
   "source": "### Step 8: Plot training and evaluation results",
   "id": "e1e085b64b0459c6"
  },
  {
   "metadata": {
    "ExecuteTime": {
     "end_time": "2024-11-26T18:56:10.135774Z",
     "start_time": "2024-11-26T18:56:09.979562Z"
    }
   },
   "cell_type": "code",
   "source": [
    "plt.figure(figsize=(12, 6))\n",
    "plt.plot(reward_history)\n",
    "plt.xlabel('Episode')\n",
    "plt.ylabel('Total Reward')\n",
    "plt.title('PPO Training Performance with Optimized Hyperparameters')\n",
    "plt.grid()\n",
    "plt.show()\n"
   ],
   "id": "7ef967d7f844ced4",
   "outputs": [
    {
     "data": {
      "text/plain": [
       "<Figure size 1200x600 with 1 Axes>"
      ],
      "image/png": "[encoded data removed]"
     },
     "metadata": {},
     "output_type": "display_data"
    }
   ],
   "execution_count": 28
  },
  {
   "metadata": {},
   "cell_type": "markdown",
   "source": "### Step 9: Evaluation ",
   "id": "cbe523aee9e0de66"
  },
  {
   "metadata": {
    "ExecuteTime": {
     "end_time": "2024-11-26T18:56:10.304802Z",
     "start_time": "2024-11-26T18:56:10.149868Z"
    }
   },
   "cell_type": "code",
   "source": [
    "# Evaluation phase\n",
    "state_trajectory = []\n",
    "state = env.reset()\n",
    "done = False\n",
    "\n",
    "while not done:\n",
    "    state_trajectory.append(state[0])  # Record plasma concentration\n",
    "    state_tensor = torch.tensor(state, dtype=torch.float32)\n",
    "    action = agent.policy(state_tensor).argmax().item()\n",
    "    state, reward, done, _ = env.step(action)\n",
    "\n",
    "plt.figure(figsize=(12, 6))\n",
    "plt.plot(range(len(state_trajectory)), state_trajectory, label='Plasma Concentration', color='b')\n",
    "plt.axhline(y=10, color='g', linestyle='--', label='Therapeutic Lower Bound (10 mg/L)')\n",
    "plt.axhline(y=50, color='g', linestyle='--', label='Therapeutic Upper Bound (50 mg/L)')\n",
    "plt.axhline(y=100, color='r', linestyle='--', label='Toxic Threshold (>100 mg/L)')\n",
    "plt.xlabel('Time Step')\n",
    "plt.ylabel('Plasma Concentration (mg/L)')\n",
    "plt.title('Plasma Drug Concentration Over Time During Evaluation')\n",
    "plt.legend()\n",
    "plt.grid()\n",
    "plt.show()\n"
   ],
   "id": "ad892a726e9e3fd3",
   "outputs": [
    {
     "data": {
      "text/plain": [
       "<Figure size 1200x600 with 1 Axes>"
      ],
      "image/png": "[encoded data removed]"
     },
     "metadata": {},
     "output_type": "display_data"
    }
   ],
   "execution_count": 29
  },
  {
   "metadata": {},
   "cell_type": "markdown",
   "source": "### Step 10: Visualize Optuna Results",
   "id": "1402a7777e0e83af"
  },
  {
   "metadata": {
    "ExecuteTime": {
     "end_time": "2024-11-26T18:56:10.332909Z",
     "start_time": "2024-11-26T18:56:10.319722Z"
    }
   },
   "cell_type": "code",
   "source": "optuna.visualization.plot_optimization_history(study).show()\n",
   "id": "c429bb5176d812e6",
   "outputs": [
    {
     "data": {
      "application/vnd.plotly.v1+json": {
       "data": [
        {
         "mode": "markers",
         "name": "Objective Value",
         "x": [
          0,
          1,
          2,
          3,
          4,
          5,
          6,
          7,
          8,
          9,
          10,
          11,
          12,
          13,
          14,
          15,
          16,
          17,
          18,
          19
         ],
         "y": [
          34.2,
          -91.2,
          138.0,
          51.9,
          208.5,
          26.7,
          139.5,
          167.1,
          204.9,
          203.1,
          143.7,
          222.0,
          181.2,
          223.8,
          189.0,
          149.7,
          -76.8,
          178.8,
          193.5,
          157.2
         ],
         "type": "scatter"
        },
        {
         "mode": "lines",
         "name": "Best Value",
         "x": [
          0,
          1,
          2,
          3,
          4,
          5,
          6,
          7,
          8,
          9,
          10,
          11,
          12,
          13,
          14,
          15,
          16,
          17,
          18,
          19
         ],
         "y": [
          34.2,
          34.2,
          138.0,
          138.0,
          208.5,
          208.5,
          208.5,
          208.5,
          208.5,
          208.5,
          208.5,
          222.0,
          222.0,
          223.8,
          223.8,
          223.8,
          223.8,
          223.8,
          223.8,
          223.8
         ],
         "type": "scatter"
        },
        {
         "marker": {
          "color": "#cccccc"
         },
         "mode": "markers",
         "name": "Infeasible Trial",
         "showlegend": false,
         "x": [],
         "y": [],
         "type": "scatter"
        }
       ],
       "layout": {
        "title": {
         "text": "Optimization History Plot"
        },
        "xaxis": {
         "title": {
          "text": "Trial"
         }
        },
        "yaxis": {
         "title": {
          "text": "Objective Value"
         }
        },
        "template": {
         "data": {
          "histogram2dcontour": [
           {
            "type": "histogram2dcontour",
            "colorbar": {
             "outlinewidth": 0,
             "ticks": ""
            },
            "colorscale": [
             [
              0.0,
              "#0d0887"
             ],
             [
              0.1111111111111111,
              "#46039f"
             ],
             [
              0.2222222222222222,
              "#7201a8"
             ],
             [
              0.3333333333333333,
              "#9c179e"
             ],
             [
              0.4444444444444444,
              "#bd3786"
             ],
             [
              0.5555555555555556,
              "#d8576b"
             ],
             [
              0.6666666666666666,
              "#ed7953"
             ],
             [
              0.7777777777777778,
              "#fb9f3a"
             ],
             [
              0.8888888888888888,
              "#fdca26"
             ],
             [
              1.0,
              "#f0f921"
             ]
            ]
           }
          ],
          "choropleth": [
           {
            "type": "choropleth",
            "colorbar": {
             "outlinewidth": 0,
             "ticks": ""
            }
           }
          ],
          "histogram2d": [
           {
            "type": "histogram2d",
            "colorbar": {
             "outlinewidth": 0,
             "ticks": ""
            },
            "colorscale": [
             [
              0.0,
              "#0d0887"
             ],
             [
              0.1111111111111111,
              "#46039f"
             ],
             [
              0.2222222222222222,
              "#7201a8"
             ],
             [
              0.3333333333333333,
              "#9c179e"
             ],
             [
              0.4444444444444444,
              "#bd3786"
             ],
             [
              0.5555555555555556,
              "#d8576b"
             ],
             [
              0.6666666666666666,
              "#ed7953"
             ],
             [
              0.7777777777777778,
              "#fb9f3a"
             ],
             [
              0.8888888888888888,
              "#fdca26"
             ],
             [
              1.0,
              "#f0f921"
             ]
            ]
           }
          ],
          "heatmap": [
           {
            "type": "heatmap",
            "colorbar": {
             "outlinewidth": 0,
             "ticks": ""
            },
            "colorscale": [
             [
              0.0,
              "#0d0887"
             ],
             [
              0.1111111111111111,
              "#46039f"
             ],
             [
              0.2222222222222222,
              "#7201a8"
             ],
             [
              0.3333333333333333,
              "#9c179e"
             ],
             [
              0.4444444444444444,
              "#bd3786"
             ],
             [
              0.5555555555555556,
              "#d8576b"
             ],
             [
              0.6666666666666666,
              "#ed7953"
             ],
             [
              0.7777777777777778,
              "#fb9f3a"
             ],
             [
              0.8888888888888888,
              "#fdca26"
             ],
             [
              1.0,
              "#f0f921"
             ]
            ]
           }
          ],
          "heatmapgl": [
           {
            "type": "heatmapgl",
            "colorbar": {
             "outlinewidth": 0,
             "ticks": ""
            },
            "colorscale": [
             [
              0.0,
              "#0d0887"
             ],
             [
              0.1111111111111111,
              "#46039f"
             ],
             [
              0.2222222222222222,
              "#7201a8"
             ],
             [
              0.3333333333333333,
              "#9c179e"
             ],
             [
              0.4444444444444444,
              "#bd3786"
             ],
             [
              0.5555555555555556,
              "#d8576b"
             ],
             [
              0.6666666666666666,
              "#ed7953"
             ],
             [
              0.7777777777777778,
              "#fb9f3a"
             ],
             [
              0.8888888888888888,
              "#fdca26"
             ],
             [
              1.0,
              "#f0f921"
             ]
            ]
           }
          ],
          "contourcarpet": [
           {
            "type": "contourcarpet",
            "colorbar": {
             "outlinewidth": 0,
             "ticks": ""
            }
           }
          ],
          "contour": [
           {
            "type": "contour",
            "colorbar": {
             "outlinewidth": 0,
             "ticks": ""
            },
            "colorscale": [
             [
              0.0,
              "#0d0887"
             ],
             [
              0.1111111111111111,
              "#46039f"
             ],
             [
              0.2222222222222222,
              "#7201a8"
             ],
             [
              0.3333333333333333,
              "#9c179e"
             ],
             [
              0.4444444444444444,
              "#bd3786"
             ],
             [
              0.5555555555555556,
              "#d8576b"
             ],
             [
              0.6666666666666666,
              "#ed7953"
             ],
             [
              0.7777777777777778,
              "#fb9f3a"
             ],
             [
              0.8888888888888888,
              "#fdca26"
             ],
             [
              1.0,
              "#f0f921"
             ]
            ]
           }
          ],
          "surface": [
           {
            "type": "surface",
            "colorbar": {
             "outlinewidth": 0,
             "ticks": ""
            },
            "colorscale": [
             [
              0.0,
              "#0d0887"
             ],
             [
              0.1111111111111111,
              "#46039f"
             ],
             [
              0.2222222222222222,
              "#7201a8"
             ],
             [
              0.3333333333333333,
              "#9c179e"
             ],
             [
              0.4444444444444444,
              "#bd3786"
             ],
             [
              0.5555555555555556,
              "#d8576b"
             ],
             [
              0.6666666666666666,
              "#ed7953"
             ],
             [
              0.7777777777777778,
              "#fb9f3a"
             ],
             [
              0.8888888888888888,
              "#fdca26"
             ],
             [
              1.0,
              "#f0f921"
             ]
            ]
           }
          ],
          "mesh3d": [
           {
            "type": "mesh3d",
            "colorbar": {
             "outlinewidth": 0,
             "ticks": ""
            }
           }
          ],
          "scatter": [
           {
            "fillpattern": {
             "fillmode": "overlay",
             "size": 10,
             "solidity": 0.2
            },
            "type": "scatter"
           }
          ],
          "parcoords": [
           {
            "type": "parcoords",
            "line": {
             "colorbar": {
              "outlinewidth": 0,
              "ticks": ""
             }
            }
           }
          ],
          "scatterpolargl": [
           {
            "type": "scatterpolargl",
            "marker": {
             "colorbar": {
              "outlinewidth": 0,
              "ticks": ""
             }
            }
           }
          ],
          "bar": [
           {
            "error_x": {
             "color": "#2a3f5f"
            },
            "error_y": {
             "color": "#2a3f5f"
            },
            "marker": {
             "line": {
              "color": "#E5ECF6",
              "width": 0.5
             },
             "pattern": {
              "fillmode": "overlay",
              "size": 10,
              "solidity": 0.2
             }
            },
            "type": "bar"
           }
          ],
          "scattergeo": [
           {
            "type": "scattergeo",
            "marker": {
             "colorbar": {
              "outlinewidth": 0,
              "ticks": ""
             }
            }
           }
          ],
          "scatterpolar": [
           {
            "type": "scatterpolar",
            "marker": {
             "colorbar": {
              "outlinewidth": 0,
              "ticks": ""
             }
            }
           }
          ],
          "histogram": [
           {
            "marker": {
             "pattern": {
              "fillmode": "overlay",
              "size": 10,
              "solidity": 0.2
             }
            },
            "type": "histogram"
           }
          ],
          "scattergl": [
           {
            "type": "scattergl",
            "marker": {
             "colorbar": {
              "outlinewidth": 0,
              "ticks": ""
             }
            }
           }
          ],
          "scatter3d": [
           {
            "type": "scatter3d",
            "line": {
             "colorbar": {
              "outlinewidth": 0,
              "ticks": ""
             }
            },
            "marker": {
             "colorbar": {
              "outlinewidth": 0,
              "ticks": ""
             }
            }
           }
          ],
          "scattermapbox": [
           {
            "type": "scattermapbox",
            "marker": {
             "colorbar": {
              "outlinewidth": 0,
              "ticks": ""
             }
            }
           }
          ],
          "scatterternary": [
           {
            "type": "scatterternary",
            "marker": {
             "colorbar": {
              "outlinewidth": 0,
              "ticks": ""
             }
            }
           }
          ],
          "scattercarpet": [
           {
            "type": "scattercarpet",
            "marker": {
             "colorbar": {
              "outlinewidth": 0,
              "ticks": ""
             }
            }
           }
          ],
          "carpet": [
           {
            "aaxis": {
             "endlinecolor": "#2a3f5f",
             "gridcolor": "white",
             "linecolor": "white",
             "minorgridcolor": "white",
             "startlinecolor": "#2a3f5f"
            },
            "baxis": {
             "endlinecolor": "#2a3f5f",
             "gridcolor": "white",
             "linecolor": "white",
             "minorgridcolor": "white",
             "startlinecolor": "#2a3f5f"
            },
            "type": "carpet"
           }
          ],
          "table": [
           {
            "cells": {
             "fill": {
              "color": "#EBF0F8"
             },
             "line": {
              "color": "white"
             }
            },
            "header": {
             "fill": {
              "color": "#C8D4E3"
             },
             "line": {
              "color": "white"
             }
            },
            "type": "table"
           }
          ],
          "barpolar": [
           {
            "marker": {
             "line": {
              "color": "#E5ECF6",
              "width": 0.5
             },
             "pattern": {
              "fillmode": "overlay",
              "size": 10,
              "solidity": 0.2
             }
            },
            "type": "barpolar"
           }
          ],
          "pie": [
           {
            "automargin": true,
            "type": "pie"
           }
          ]
         },
         "layout": {
          "autotypenumbers": "strict",
          "colorway": [
           "#636efa",
           "#EF553B",
           "#00cc96",
           "#ab63fa",
           "#FFA15A",
           "#19d3f3",
           "#FF6692",
           "#B6E880",
           "#FF97FF",
           "#FECB52"
          ],
          "font": {
           "color": "#2a3f5f"
          },
          "hovermode": "closest",
          "hoverlabel": {
           "align": "left"
          },
          "paper_bgcolor": "white",
          "plot_bgcolor": "#E5ECF6",
          "polar": {
           "bgcolor": "#E5ECF6",
           "angularaxis": {
            "gridcolor": "white",
            "linecolor": "white",
            "ticks": ""
           },
           "radialaxis": {
            "gridcolor": "white",
            "linecolor": "white",
            "ticks": ""
           }
          },
          "ternary": {
           "bgcolor": "#E5ECF6",
           "aaxis": {
            "gridcolor": "white",
            "linecolor": "white",
            "ticks": ""
           },
           "baxis": {
            "gridcolor": "white",
            "linecolor": "white",
            "ticks": ""
           },
           "caxis": {
            "gridcolor": "white",
            "linecolor": "white",
            "ticks": ""
           }
          },
          "coloraxis": {
           "colorbar": {
            "outlinewidth": 0,
            "ticks": ""
           }
          },
          "colorscale": {
           "sequential": [
            [
             0.0,
             "#0d0887"
            ],
            [
             0.1111111111111111,
             "#46039f"
            ],
            [
             0.2222222222222222,
             "#7201a8"
            ],
            [
             0.3333333333333333,
             "#9c179e"
            ],
            [
             0.4444444444444444,
             "#bd3786"
            ],
            [
             0.5555555555555556,
             "#d8576b"
            ],
            [
             0.6666666666666666,
             "#ed7953"
            ],
            [
             0.7777777777777778,
             "#fb9f3a"
            ],
            [
             0.8888888888888888,
             "#fdca26"
            ],
            [
             1.0,
             "#f0f921"
            ]
           ],
           "sequentialminus": [
            [
             0.0,
             "#0d0887"
            ],
            [
             0.1111111111111111,
             "#46039f"
            ],
            [
             0.2222222222222222,
             "#7201a8"
            ],
            [
             0.3333333333333333,
             "#9c179e"
            ],
            [
             0.4444444444444444,
             "#bd3786"
            ],
            [
             0.5555555555555556,
             "#d8576b"
            ],
            [
             0.6666666666666666,
             "#ed7953"
            ],
            [
             0.7777777777777778,
             "#fb9f3a"
            ],
            [
             0.8888888888888888,
             "#fdca26"
            ],
            [
             1.0,
             "#f0f921"
            ]
           ],
           "diverging": [
            [
             0,
             "#8e0152"
            ],
            [
             0.1,
             "#c51b7d"
            ],
            [
             0.2,
             "#de77ae"
            ],
            [
             0.3,
             "#f1b6da"
            ],
            [
             0.4,
             "#fde0ef"
            ],
            [
             0.5,
             "#f7f7f7"
            ],
            [
             0.6,
             "#e6f5d0"
            ],
            [
             0.7,
             "#b8e186"
            ],
            [
             0.8,
             "#7fbc41"
            ],
            [
             0.9,
             "#4d9221"
            ],
            [
             1,
             "#276419"
            ]
           ]
          },
          "xaxis": {
           "gridcolor": "white",
           "linecolor": "white",
           "ticks": "",
           "title": {
            "standoff": 15
           },
           "zerolinecolor": "white",
           "automargin": true,
           "zerolinewidth": 2
          },
          "yaxis": {
           "gridcolor": "white",
           "linecolor": "white",
           "ticks": "",
           "title": {
            "standoff": 15
           },
           "zerolinecolor": "white",
           "automargin": true,
           "zerolinewidth": 2
          },
          "scene": {
           "xaxis": {
            "backgroundcolor": "#E5ECF6",
            "gridcolor": "white",
            "linecolor": "white",
            "showbackground": true,
            "ticks": "",
            "zerolinecolor": "white",
            "gridwidth": 2
           },
           "yaxis": {
            "backgroundcolor": "#E5ECF6",
            "gridcolor": "white",
            "linecolor": "white",
            "showbackground": true,
            "ticks": "",
            "zerolinecolor": "white",
            "gridwidth": 2
           },
           "zaxis": {
            "backgroundcolor": "#E5ECF6",
            "gridcolor": "white",
            "linecolor": "white",
            "showbackground": true,
            "ticks": "",
            "zerolinecolor": "white",
            "gridwidth": 2
           }
          },
          "shapedefaults": {
           "line": {
            "color": "#2a3f5f"
           }
          },
          "annotationdefaults": {
           "arrowcolor": "#2a3f5f",
           "arrowhead": 0,
           "arrowwidth": 1
          },
          "geo": {
           "bgcolor": "white",
           "landcolor": "#E5ECF6",
           "subunitcolor": "white",
           "showland": true,
           "showlakes": true,
           "lakecolor": "white"
          },
          "title": {
           "x": 0.05
          },
          "mapbox": {
           "style": "light"
          }
         }
        }
       },
       "config": {
        "plotlyServerURL": "https://plot.ly"
       }
      },
      "text/html": [
       "<div>                            <div id=\"b1002b11-b9ef-484b-8e70-9bc5f426bee0\" class=\"plotly-graph-div\" style=\"height:525px; width:100%;\"></div>            <script type=\"text/javascript\">                require([\"plotly\"], function(Plotly) {                    window.PLOTLYENV=window.PLOTLYENV || {};                                    if (document.getElementById(\"b1002b11-b9ef-484b-8e70-9bc5f426bee0\")) {                    Plotly.newPlot(                        \"b1002b11-b9ef-484b-8e70-9bc5f426bee0\",                        [{\"mode\":\"markers\",\"name\":\"Objective Value\",\"x\":[0,1,2,3,4,5,6,7,8,9,10,11,12,13,14,15,16,17,18,19],\"y\":[34.2,-91.2,138.0,51.9,208.5,26.7,139.5,167.1,204.9,203.1,143.7,222.0,181.2,223.8,189.0,149.7,-76.8,178.8,193.5,157.2],\"type\":\"scatter\"},{\"mode\":\"lines\",\"name\":\"Best Value\",\"x\":[0,1,2,3,4,5,6,7,8,9,10,11,12,13,14,15,16,17,18,19],\"y\":[34.2,34.2,138.0,138.0,208.5,208.5,208.5,208.5,208.5,208.5,208.5,222.0,222.0,223.8,223.8,223.8,223.8,223.8,223.8,223.8],\"type\":\"scatter\"},{\"marker\":{\"color\":\"#cccccc\"},\"mode\":\"markers\",\"name\":\"Infeasible Trial\",\"showlegend\":false,\"x\":[],\"y\":[],\"type\":\"scatter\"}],                        {\"title\":{\"text\":\"Optimization History Plot\"},\"xaxis\":{\"title\":{\"text\":\"Trial\"}},\"yaxis\":{\"title\":{\"text\":\"Objective Value\"}},\"template\":{\"data\":{\"histogram2dcontour\":[{\"type\":\"histogram2dcontour\",\"colorbar\":{\"outlinewidth\":0,\"ticks\":\"\"},\"colorscale\":[[0.0,\"#0d0887\"],[0.1111111111111111,\"#46039f\"],[0.2222222222222222,\"#7201a8\"],[0.3333333333333333,\"#9c179e\"],[0.4444444444444444,\"#bd3786\"],[0.5555555555555556,\"#d8576b\"],[0.6666666666666666,\"#ed7953\"],[0.7777777777777778,\"#fb9f3a\"],[0.8888888888888888,\"#fdca26\"],[1.0,\"#f0f921\"]]}],\"choropleth\":[{\"type\":\"choropleth\",\"colorbar\":{\"outlinewidth\":0,\"ticks\":\"\"}}],\"histogram2d\":[{\"type\":\"histogram2d\",\"colorbar\":{\"outlinewidth\":0,\"ticks\":\"\"},\"colorscale\":[[0.0,\"#0d0887\"],[0.1111111111111111,\"#46039f\"],[0.2222222222222222,\"#7201a8\"],[0.3333333333333333,\"#9c179e\"],[0.4444444444444444,\"#bd3786\"],[0.5555555555555556,\"#d8576b\"],[0.6666666666666666,\"#ed7953\"],[0.7777777777777778,\"#fb9f3a\"],[0.8888888888888888,\"#fdca26\"],[1.0,\"#f0f921\"]]}],\"heatmap\":[{\"type\":\"heatmap\",\"colorbar\":{\"outlinewidth\":0,\"ticks\":\"\"},\"colorscale\":[[0.0,\"#0d0887\"],[0.1111111111111111,\"#46039f\"],[0.2222222222222222,\"#7201a8\"],[0.3333333333333333,\"#9c179e\"],[0.4444444444444444,\"#bd3786\"],[0.5555555555555556,\"#d8576b\"],[0.6666666666666666,\"#ed7953\"],[0.7777777777777778,\"#fb9f3a\"],[0.8888888888888888,\"#fdca26\"],[1.0,\"#f0f921\"]]}],\"heatmapgl\":[{\"type\":\"heatmapgl\",\"colorbar\":{\"outlinewidth\":0,\"ticks\":\"\"},\"colorscale\":[[0.0,\"#0d0887\"],[0.1111111111111111,\"#46039f\"],[0.2222222222222222,\"#7201a8\"],[0.3333333333333333,\"#9c179e\"],[0.4444444444444444,\"#bd3786\"],[0.5555555555555556,\"#d8576b\"],[0.6666666666666666,\"#ed7953\"],[0.7777777777777778,\"#fb9f3a\"],[0.8888888888888888,\"#fdca26\"],[1.0,\"#f0f921\"]]}],\"contourcarpet\":[{\"type\":\"contourcarpet\",\"colorbar\":{\"outlinewidth\":0,\"ticks\":\"\"}}],\"contour\":[{\"type\":\"contour\",\"colorbar\":{\"outlinewidth\":0,\"ticks\":\"\"},\"colorscale\":[[0.0,\"#0d0887\"],[0.1111111111111111,\"#46039f\"],[0.2222222222222222,\"#7201a8\"],[0.3333333333333333,\"#9c179e\"],[0.4444444444444444,\"#bd3786\"],[0.5555555555555556,\"#d8576b\"],[0.6666666666666666,\"#ed7953\"],[0.7777777777777778,\"#fb9f3a\"],[0.8888888888888888,\"#fdca26\"],[1.0,\"#f0f921\"]]}],\"surface\":[{\"type\":\"surface\",\"colorbar\":{\"outlinewidth\":0,\"ticks\":\"\"},\"colorscale\":[[0.0,\"#0d0887\"],[0.1111111111111111,\"#46039f\"],[0.2222222222222222,\"#7201a8\"],[0.3333333333333333,\"#9c179e\"],[0.4444444444444444,\"#bd3786\"],[0.5555555555555556,\"#d8576b\"],[0.6666666666666666,\"#ed7953\"],[0.7777777777777778,\"#fb9f3a\"],[0.8888888888888888,\"#fdca26\"],[1.0,\"#f0f921\"]]}],\"mesh3d\":[{\"type\":\"mesh3d\",\"colorbar\":{\"outlinewidth\":0,\"ticks\":\"\"}}],\"scatter\":[{\"fillpattern\":{\"fillmode\":\"overlay\",\"size\":10,\"solidity\":0.2},\"type\":\"scatter\"}],\"parcoords\":[{\"type\":\"parcoords\",\"line\":{\"colorbar\":{\"outlinewidth\":0,\"ticks\":\"\"}}}],\"scatterpolargl\":[{\"type\":\"scatterpolargl\",\"marker\":{\"colorbar\":{\"outlinewidth\":0,\"ticks\":\"\"}}}],\"bar\":[{\"error_x\":{\"color\":\"#2a3f5f\"},\"error_y\":{\"color\":\"#2a3f5f\"},\"marker\":{\"line\":{\"color\":\"#E5ECF6\",\"width\":0.5},\"pattern\":{\"fillmode\":\"overlay\",\"size\":10,\"solidity\":0.2}},\"type\":\"bar\"}],\"scattergeo\":[{\"type\":\"scattergeo\",\"marker\":{\"colorbar\":{\"outlinewidth\":0,\"ticks\":\"\"}}}],\"scatterpolar\":[{\"type\":\"scatterpolar\",\"marker\":{\"colorbar\":{\"outlinewidth\":0,\"ticks\":\"\"}}}],\"histogram\":[{\"marker\":{\"pattern\":{\"fillmode\":\"overlay\",\"size\":10,\"solidity\":0.2}},\"type\":\"histogram\"}],\"scattergl\":[{\"type\":\"scattergl\",\"marker\":{\"colorbar\":{\"outlinewidth\":0,\"ticks\":\"\"}}}],\"scatter3d\":[{\"type\":\"scatter3d\",\"line\":{\"colorbar\":{\"outlinewidth\":0,\"ticks\":\"\"}},\"marker\":{\"colorbar\":{\"outlinewidth\":0,\"ticks\":\"\"}}}],\"scattermapbox\":[{\"type\":\"scattermapbox\",\"marker\":{\"colorbar\":{\"outlinewidth\":0,\"ticks\":\"\"}}}],\"scatterternary\":[{\"type\":\"scatterternary\",\"marker\":{\"colorbar\":{\"outlinewidth\":0,\"ticks\":\"\"}}}],\"scattercarpet\":[{\"type\":\"scattercarpet\",\"marker\":{\"colorbar\":{\"outlinewidth\":0,\"ticks\":\"\"}}}],\"carpet\":[{\"aaxis\":{\"endlinecolor\":\"#2a3f5f\",\"gridcolor\":\"white\",\"linecolor\":\"white\",\"minorgridcolor\":\"white\",\"startlinecolor\":\"#2a3f5f\"},\"baxis\":{\"endlinecolor\":\"#2a3f5f\",\"gridcolor\":\"white\",\"linecolor\":\"white\",\"minorgridcolor\":\"white\",\"startlinecolor\":\"#2a3f5f\"},\"type\":\"carpet\"}],\"table\":[{\"cells\":{\"fill\":{\"color\":\"#EBF0F8\"},\"line\":{\"color\":\"white\"}},\"header\":{\"fill\":{\"color\":\"#C8D4E3\"},\"line\":{\"color\":\"white\"}},\"type\":\"table\"}],\"barpolar\":[{\"marker\":{\"line\":{\"color\":\"#E5ECF6\",\"width\":0.5},\"pattern\":{\"fillmode\":\"overlay\",\"size\":10,\"solidity\":0.2}},\"type\":\"barpolar\"}],\"pie\":[{\"automargin\":true,\"type\":\"pie\"}]},\"layout\":{\"autotypenumbers\":\"strict\",\"colorway\":[\"#636efa\",\"#EF553B\",\"#00cc96\",\"#ab63fa\",\"#FFA15A\",\"#19d3f3\",\"#FF6692\",\"#B6E880\",\"#FF97FF\",\"#FECB52\"],\"font\":{\"color\":\"#2a3f5f\"},\"hovermode\":\"closest\",\"hoverlabel\":{\"align\":\"left\"},\"paper_bgcolor\":\"white\",\"plot_bgcolor\":\"#E5ECF6\",\"polar\":{\"bgcolor\":\"#E5ECF6\",\"angularaxis\":{\"gridcolor\":\"white\",\"linecolor\":\"white\",\"ticks\":\"\"},\"radialaxis\":{\"gridcolor\":\"white\",\"linecolor\":\"white\",\"ticks\":\"\"}},\"ternary\":{\"bgcolor\":\"#E5ECF6\",\"aaxis\":{\"gridcolor\":\"white\",\"linecolor\":\"white\",\"ticks\":\"\"},\"baxis\":{\"gridcolor\":\"white\",\"linecolor\":\"white\",\"ticks\":\"\"},\"caxis\":{\"gridcolor\":\"white\",\"linecolor\":\"white\",\"ticks\":\"\"}},\"coloraxis\":{\"colorbar\":{\"outlinewidth\":0,\"ticks\":\"\"}},\"colorscale\":{\"sequential\":[[0.0,\"#0d0887\"],[0.1111111111111111,\"#46039f\"],[0.2222222222222222,\"#7201a8\"],[0.3333333333333333,\"#9c179e\"],[0.4444444444444444,\"#bd3786\"],[0.5555555555555556,\"#d8576b\"],[0.6666666666666666,\"#ed7953\"],[0.7777777777777778,\"#fb9f3a\"],[0.8888888888888888,\"#fdca26\"],[1.0,\"#f0f921\"]],\"sequentialminus\":[[0.0,\"#0d0887\"],[0.1111111111111111,\"#46039f\"],[0.2222222222222222,\"#7201a8\"],[0.3333333333333333,\"#9c179e\"],[0.4444444444444444,\"#bd3786\"],[0.5555555555555556,\"#d8576b\"],[0.6666666666666666,\"#ed7953\"],[0.7777777777777778,\"#fb9f3a\"],[0.8888888888888888,\"#fdca26\"],[1.0,\"#f0f921\"]],\"diverging\":[[0,\"#8e0152\"],[0.1,\"#c51b7d\"],[0.2,\"#de77ae\"],[0.3,\"#f1b6da\"],[0.4,\"#fde0ef\"],[0.5,\"#f7f7f7\"],[0.6,\"#e6f5d0\"],[0.7,\"#b8e186\"],[0.8,\"#7fbc41\"],[0.9,\"#4d9221\"],[1,\"#276419\"]]},\"xaxis\":{\"gridcolor\":\"white\",\"linecolor\":\"white\",\"ticks\":\"\",\"title\":{\"standoff\":15},\"zerolinecolor\":\"white\",\"automargin\":true,\"zerolinewidth\":2},\"yaxis\":{\"gridcolor\":\"white\",\"linecolor\":\"white\",\"ticks\":\"\",\"title\":{\"standoff\":15},\"zerolinecolor\":\"white\",\"automargin\":true,\"zerolinewidth\":2},\"scene\":{\"xaxis\":{\"backgroundcolor\":\"#E5ECF6\",\"gridcolor\":\"white\",\"linecolor\":\"white\",\"showbackground\":true,\"ticks\":\"\",\"zerolinecolor\":\"white\",\"gridwidth\":2},\"yaxis\":{\"backgroundcolor\":\"#E5ECF6\",\"gridcolor\":\"white\",\"linecolor\":\"white\",\"showbackground\":true,\"ticks\":\"\",\"zerolinecolor\":\"white\",\"gridwidth\":2},\"zaxis\":{\"backgroundcolor\":\"#E5ECF6\",\"gridcolor\":\"white\",\"linecolor\":\"white\",\"showbackground\":true,\"ticks\":\"\",\"zerolinecolor\":\"white\",\"gridwidth\":2}},\"shapedefaults\":{\"line\":{\"color\":\"#2a3f5f\"}},\"annotationdefaults\":{\"arrowcolor\":\"#2a3f5f\",\"arrowhead\":0,\"arrowwidth\":1},\"geo\":{\"bgcolor\":\"white\",\"landcolor\":\"#E5ECF6\",\"subunitcolor\":\"white\",\"showland\":true,\"showlakes\":true,\"lakecolor\":\"white\"},\"title\":{\"x\":0.05},\"mapbox\":{\"style\":\"light\"}}}},                        {\"responsive\": true}                    ).then(function(){\n",
       "                            \n",
       "var gd = document.getElementById('b1002b11-b9ef-484b-8e70-9bc5f426bee0');\n",
       "var x = new MutationObserver(function (mutations, observer) {{\n",
       "        var display = window.getComputedStyle(gd).display;\n",
       "        if (!display || display === 'none') {{\n",
       "            console.log([gd, 'removed!']);\n",
       "            Plotly.purge(gd);\n",
       "            observer.disconnect();\n",
       "        }}\n",
       "}});\n",
       "\n",
       "// Listen for the removal of the full notebook cells\n",
       "var notebookContainer = gd.closest('#notebook-container');\n",
       "if (notebookContainer) {{\n",
       "    x.observe(notebookContainer, {childList: true});\n",
       "}}\n",
       "\n",
       "// Listen for the clearing of the current output cell\n",
       "var outputEl = gd.closest('.output');\n",
       "if (outputEl) {{\n",
       "    x.observe(outputEl, {childList: true});\n",
       "}}\n",
       "\n",
       "                        })                };                });            </script>        </div>"
      ]
     },
     "metadata": {},
     "output_type": "display_data"
    }
   ],
   "execution_count": 30
  },
  {
   "metadata": {
    "ExecuteTime": {
     "end_time": "2024-11-26T18:56:10.526884Z",
     "start_time": "2024-11-26T18:56:10.348527Z"
    }
   },
   "cell_type": "code",
   "source": "optuna.visualization.plot_param_importances(study).show()",
   "id": "332f36110752f946",
   "outputs": [
    {
     "data": {
      "application/vnd.plotly.v1+json": {
       "data": [
        {
         "cliponaxis": false,
         "hovertemplate": [
          "eps_clip (FloatDistribution): 0.11542555060312885<extra></extra>",
          "gamma (FloatDistribution): 0.1582265335438062<extra></extra>",
          "lr (FloatDistribution): 0.7263479158530649<extra></extra>"
         ],
         "name": "Objective Value",
         "orientation": "h",
         "text": [
          "0.12",
          "0.16",
          "0.73"
         ],
         "textposition": "outside",
         "x": [
          0.11542555060312885,
          0.1582265335438062,
          0.7263479158530649
         ],
         "y": [
          "eps_clip",
          "gamma",
          "lr"
         ],
         "type": "bar"
        }
       ],
       "layout": {
        "title": {
         "text": "Hyperparameter Importances"
        },
        "xaxis": {
         "title": {
          "text": "Hyperparameter Importance"
         }
        },
        "yaxis": {
         "title": {
          "text": "Hyperparameter"
         }
        },
        "template": {
         "data": {
          "histogram2dcontour": [
           {
            "type": "histogram2dcontour",
            "colorbar": {
             "outlinewidth": 0,
             "ticks": ""
            },
            "colorscale": [
             [
              0.0,
              "#0d0887"
             ],
             [
              0.1111111111111111,
              "#46039f"
             ],
             [
              0.2222222222222222,
              "#7201a8"
             ],
             [
              0.3333333333333333,
              "#9c179e"
             ],
             [
              0.4444444444444444,
              "#bd3786"
             ],
             [
              0.5555555555555556,
              "#d8576b"
             ],
             [
              0.6666666666666666,
              "#ed7953"
             ],
             [
              0.7777777777777778,
              "#fb9f3a"
             ],
             [
              0.8888888888888888,
              "#fdca26"
             ],
             [
              1.0,
              "#f0f921"
             ]
            ]
           }
          ],
          "choropleth": [
           {
            "type": "choropleth",
            "colorbar": {
             "outlinewidth": 0,
             "ticks": ""
            }
           }
          ],
          "histogram2d": [
           {
            "type": "histogram2d",
            "colorbar": {
             "outlinewidth": 0,
             "ticks": ""
            },
            "colorscale": [
             [
              0.0,
              "#0d0887"
             ],
             [
              0.1111111111111111,
              "#46039f"
             ],
             [
              0.2222222222222222,
              "#7201a8"
             ],
             [
              0.3333333333333333,
              "#9c179e"
             ],
             [
              0.4444444444444444,
              "#bd3786"
             ],
             [
              0.5555555555555556,
              "#d8576b"
             ],
             [
              0.6666666666666666,
              "#ed7953"
             ],
             [
              0.7777777777777778,
              "#fb9f3a"
             ],
             [
              0.8888888888888888,
              "#fdca26"
             ],
             [
              1.0,
              "#f0f921"
             ]
            ]
           }
          ],
          "heatmap": [
           {
            "type": "heatmap",
            "colorbar": {
             "outlinewidth": 0,
             "ticks": ""
            },
            "colorscale": [
             [
              0.0,
              "#0d0887"
             ],
             [
              0.1111111111111111,
              "#46039f"
             ],
             [
              0.2222222222222222,
              "#7201a8"
             ],
             [
              0.3333333333333333,
              "#9c179e"
             ],
             [
              0.4444444444444444,
              "#bd3786"
             ],
             [
              0.5555555555555556,
              "#d8576b"
             ],
             [
              0.6666666666666666,
              "#ed7953"
             ],
             [
              0.7777777777777778,
              "#fb9f3a"
             ],
             [
              0.8888888888888888,
              "#fdca26"
             ],
             [
              1.0,
              "#f0f921"
             ]
            ]
           }
          ],
          "heatmapgl": [
           {
            "type": "heatmapgl",
            "colorbar": {
             "outlinewidth": 0,
             "ticks": ""
            },
            "colorscale": [
             [
              0.0,
              "#0d0887"
             ],
             [
              0.1111111111111111,
              "#46039f"
             ],
             [
              0.2222222222222222,
              "#7201a8"
             ],
             [
              0.3333333333333333,
              "#9c179e"
             ],
             [
              0.4444444444444444,
              "#bd3786"
             ],
             [
              0.5555555555555556,
              "#d8576b"
             ],
             [
              0.6666666666666666,
              "#ed7953"
             ],
             [
              0.7777777777777778,
              "#fb9f3a"
             ],
             [
              0.8888888888888888,
              "#fdca26"
             ],
             [
              1.0,
              "#f0f921"
             ]
            ]
           }
          ],
          "contourcarpet": [
           {
            "type": "contourcarpet",
            "colorbar": {
             "outlinewidth": 0,
             "ticks": ""
            }
           }
          ],
          "contour": [
           {
            "type": "contour",
            "colorbar": {
             "outlinewidth": 0,
             "ticks": ""
            },
            "colorscale": [
             [
              0.0,
              "#0d0887"
             ],
             [
              0.1111111111111111,
              "#46039f"
             ],
             [
              0.2222222222222222,
              "#7201a8"
             ],
             [
              0.3333333333333333,
              "#9c179e"
             ],
             [
              0.4444444444444444,
              "#bd3786"
             ],
             [
              0.5555555555555556,
              "#d8576b"
             ],
             [
              0.6666666666666666,
              "#ed7953"
             ],
             [
              0.7777777777777778,
              "#fb9f3a"
             ],
             [
              0.8888888888888888,
              "#fdca26"
             ],
             [
              1.0,
              "#f0f921"
             ]
            ]
           }
          ],
          "surface": [
           {
            "type": "surface",
            "colorbar": {
             "outlinewidth": 0,
             "ticks": ""
            },
            "colorscale": [
             [
              0.0,
              "#0d0887"
             ],
             [
              0.1111111111111111,
              "#46039f"
             ],
             [
              0.2222222222222222,
              "#7201a8"
             ],
             [
              0.3333333333333333,
              "#9c179e"
             ],
             [
              0.4444444444444444,
              "#bd3786"
             ],
             [
              0.5555555555555556,
              "#d8576b"
             ],
             [
              0.6666666666666666,
              "#ed7953"
             ],
             [
              0.7777777777777778,
              "#fb9f3a"
             ],
             [
              0.8888888888888888,
              "#fdca26"
             ],
             [
              1.0,
              "#f0f921"
             ]
            ]
           }
          ],
          "mesh3d": [
           {
            "type": "mesh3d",
            "colorbar": {
             "outlinewidth": 0,
             "ticks": ""
            }
           }
          ],
          "scatter": [
           {
            "fillpattern": {
             "fillmode": "overlay",
             "size": 10,
             "solidity": 0.2
            },
            "type": "scatter"
           }
          ],
          "parcoords": [
           {
            "type": "parcoords",
            "line": {
             "colorbar": {
              "outlinewidth": 0,
              "ticks": ""
             }
            }
           }
          ],
          "scatterpolargl": [
           {
            "type": "scatterpolargl",
            "marker": {
             "colorbar": {
              "outlinewidth": 0,
              "ticks": ""
             }
            }
           }
          ],
          "bar": [
           {
            "error_x": {
             "color": "#2a3f5f"
            },
            "error_y": {
             "color": "#2a3f5f"
            },
            "marker": {
             "line": {
              "color": "#E5ECF6",
              "width": 0.5
             },
             "pattern": {
              "fillmode": "overlay",
              "size": 10,
              "solidity": 0.2
             }
            },
            "type": "bar"
           }
          ],
          "scattergeo": [
           {
            "type": "scattergeo",
            "marker": {
             "colorbar": {
              "outlinewidth": 0,
              "ticks": ""
             }
            }
           }
          ],
          "scatterpolar": [
           {
            "type": "scatterpolar",
            "marker": {
             "colorbar": {
              "outlinewidth": 0,
              "ticks": ""
             }
            }
           }
          ],
          "histogram": [
           {
            "marker": {
             "pattern": {
              "fillmode": "overlay",
              "size": 10,
              "solidity": 0.2
             }
            },
            "type": "histogram"
           }
          ],
          "scattergl": [
           {
            "type": "scattergl",
            "marker": {
             "colorbar": {
              "outlinewidth": 0,
              "ticks": ""
             }
            }
           }
          ],
          "scatter3d": [
           {
            "type": "scatter3d",
            "line": {
             "colorbar": {
              "outlinewidth": 0,
              "ticks": ""
             }
            },
            "marker": {
             "colorbar": {
              "outlinewidth": 0,
              "ticks": ""
             }
            }
           }
          ],
          "scattermapbox": [
           {
            "type": "scattermapbox",
            "marker": {
             "colorbar": {
              "outlinewidth": 0,
              "ticks": ""
             }
            }
           }
          ],
          "scatterternary": [
           {
            "type": "scatterternary",
            "marker": {
             "colorbar": {
              "outlinewidth": 0,
              "ticks": ""
             }
            }
           }
          ],
          "scattercarpet": [
           {
            "type": "scattercarpet",
            "marker": {
             "colorbar": {
              "outlinewidth": 0,
              "ticks": ""
             }
            }
           }
          ],
          "carpet": [
           {
            "aaxis": {
             "endlinecolor": "#2a3f5f",
             "gridcolor": "white",
             "linecolor": "white",
             "minorgridcolor": "white",
             "startlinecolor": "#2a3f5f"
            },
            "baxis": {
             "endlinecolor": "#2a3f5f",
             "gridcolor": "white",
             "linecolor": "white",
             "minorgridcolor": "white",
             "startlinecolor": "#2a3f5f"
            },
            "type": "carpet"
           }
          ],
          "table": [
           {
            "cells": {
             "fill": {
              "color": "#EBF0F8"
             },
             "line": {
              "color": "white"
             }
            },
            "header": {
             "fill": {
              "color": "#C8D4E3"
             },
             "line": {
              "color": "white"
             }
            },
            "type": "table"
           }
          ],
          "barpolar": [
           {
            "marker": {
             "line": {
              "color": "#E5ECF6",
              "width": 0.5
             },
             "pattern": {
              "fillmode": "overlay",
              "size": 10,
              "solidity": 0.2
             }
            },
            "type": "barpolar"
           }
          ],
          "pie": [
           {
            "automargin": true,
            "type": "pie"
           }
          ]
         },
         "layout": {
          "autotypenumbers": "strict",
          "colorway": [
           "#636efa",
           "#EF553B",
           "#00cc96",
           "#ab63fa",
           "#FFA15A",
           "#19d3f3",
           "#FF6692",
           "#B6E880",
           "#FF97FF",
           "#FECB52"
          ],
          "font": {
           "color": "#2a3f5f"
          },
          "hovermode": "closest",
          "hoverlabel": {
           "align": "left"
          },
          "paper_bgcolor": "white",
          "plot_bgcolor": "#E5ECF6",
          "polar": {
           "bgcolor": "#E5ECF6",
           "angularaxis": {
            "gridcolor": "white",
            "linecolor": "white",
            "ticks": ""
           },
           "radialaxis": {
            "gridcolor": "white",
            "linecolor": "white",
            "ticks": ""
           }
          },
          "ternary": {
           "bgcolor": "#E5ECF6",
           "aaxis": {
            "gridcolor": "white",
            "linecolor": "white",
            "ticks": ""
           },
           "baxis": {
            "gridcolor": "white",
            "linecolor": "white",
            "ticks": ""
           },
           "caxis": {
            "gridcolor": "white",
            "linecolor": "white",
            "ticks": ""
           }
          },
          "coloraxis": {
           "colorbar": {
            "outlinewidth": 0,
            "ticks": ""
           }
          },
          "colorscale": {
           "sequential": [
            [
             0.0,
             "#0d0887"
            ],
            [
             0.1111111111111111,
             "#46039f"
            ],
            [
             0.2222222222222222,
             "#7201a8"
            ],
            [
             0.3333333333333333,
             "#9c179e"
            ],
            [
             0.4444444444444444,
             "#bd3786"
            ],
            [
             0.5555555555555556,
             "#d8576b"
            ],
            [
             0.6666666666666666,
             "#ed7953"
            ],
            [
             0.7777777777777778,
             "#fb9f3a"
            ],
            [
             0.8888888888888888,
             "#fdca26"
            ],
            [
             1.0,
             "#f0f921"
            ]
           ],
           "sequentialminus": [
            [
             0.0,
             "#0d0887"
            ],
            [
             0.1111111111111111,
             "#46039f"
            ],
            [
             0.2222222222222222,
             "#7201a8"
            ],
            [
             0.3333333333333333,
             "#9c179e"
            ],
            [
             0.4444444444444444,
             "#bd3786"
            ],
            [
             0.5555555555555556,
             "#d8576b"
            ],
            [
             0.6666666666666666,
             "#ed7953"
            ],
            [
             0.7777777777777778,
             "#fb9f3a"
            ],
            [
             0.8888888888888888,
             "#fdca26"
            ],
            [
             1.0,
             "#f0f921"
            ]
           ],
           "diverging": [
            [
             0,
             "#8e0152"
            ],
            [
             0.1,
             "#c51b7d"
            ],
            [
             0.2,
             "#de77ae"
            ],
            [
             0.3,
             "#f1b6da"
            ],
            [
             0.4,
             "#fde0ef"
            ],
            [
             0.5,
             "#f7f7f7"
            ],
            [
             0.6,
             "#e6f5d0"
            ],
            [
             0.7,
             "#b8e186"
            ],
            [
             0.8,
             "#7fbc41"
            ],
            [
             0.9,
             "#4d9221"
            ],
            [
             1,
             "#276419"
            ]
           ]
          },
          "xaxis": {
           "gridcolor": "white",
           "linecolor": "white",
           "ticks": "",
           "title": {
            "standoff": 15
           },
           "zerolinecolor": "white",
           "automargin": true,
           "zerolinewidth": 2
          },
          "yaxis": {
           "gridcolor": "white",
           "linecolor": "white",
           "ticks": "",
           "title": {
            "standoff": 15
           },
           "zerolinecolor": "white",
           "automargin": true,
           "zerolinewidth": 2
          },
          "scene": {
           "xaxis": {
            "backgroundcolor": "#E5ECF6",
            "gridcolor": "white",
            "linecolor": "white",
            "showbackground": true,
            "ticks": "",
            "zerolinecolor": "white",
            "gridwidth": 2
           },
           "yaxis": {
            "backgroundcolor": "#E5ECF6",
            "gridcolor": "white",
            "linecolor": "white",
            "showbackground": true,
            "ticks": "",
            "zerolinecolor": "white",
            "gridwidth": 2
           },
           "zaxis": {
            "backgroundcolor": "#E5ECF6",
            "gridcolor": "white",
            "linecolor": "white",
            "showbackground": true,
            "ticks": "",
            "zerolinecolor": "white",
            "gridwidth": 2
           }
          },
          "shapedefaults": {
           "line": {
            "color": "#2a3f5f"
           }
          },
          "annotationdefaults": {
           "arrowcolor": "#2a3f5f",
           "arrowhead": 0,
           "arrowwidth": 1
          },
          "geo": {
           "bgcolor": "white",
           "landcolor": "#E5ECF6",
           "subunitcolor": "white",
           "showland": true,
           "showlakes": true,
           "lakecolor": "white"
          },
          "title": {
           "x": 0.05
          },
          "mapbox": {
           "style": "light"
          }
         }
        }
       },
       "config": {
        "plotlyServerURL": "https://plot.ly"
       }
      },
      "text/html": [
       "<div>                            <div id=\"775d7d00-425c-40a9-9d4a-fa24118b799f\" class=\"plotly-graph-div\" style=\"height:525px; width:100%;\"></div>            <script type=\"text/javascript\">                require([\"plotly\"], function(Plotly) {                    window.PLOTLYENV=window.PLOTLYENV || {};                                    if (document.getElementById(\"775d7d00-425c-40a9-9d4a-fa24118b799f\")) {                    Plotly.newPlot(                        \"775d7d00-425c-40a9-9d4a-fa24118b799f\",                        [{\"cliponaxis\":false,\"hovertemplate\":[\"eps_clip (FloatDistribution): 0.11542555060312885\\u003cextra\\u003e\\u003c\\u002fextra\\u003e\",\"gamma (FloatDistribution): 0.1582265335438062\\u003cextra\\u003e\\u003c\\u002fextra\\u003e\",\"lr (FloatDistribution): 0.7263479158530649\\u003cextra\\u003e\\u003c\\u002fextra\\u003e\"],\"name\":\"Objective Value\",\"orientation\":\"h\",\"text\":[\"0.12\",\"0.16\",\"0.73\"],\"textposition\":\"outside\",\"x\":[0.11542555060312885,0.1582265335438062,0.7263479158530649],\"y\":[\"eps_clip\",\"gamma\",\"lr\"],\"type\":\"bar\"}],                        {\"title\":{\"text\":\"Hyperparameter Importances\"},\"xaxis\":{\"title\":{\"text\":\"Hyperparameter Importance\"}},\"yaxis\":{\"title\":{\"text\":\"Hyperparameter\"}},\"template\":{\"data\":{\"histogram2dcontour\":[{\"type\":\"histogram2dcontour\",\"colorbar\":{\"outlinewidth\":0,\"ticks\":\"\"},\"colorscale\":[[0.0,\"#0d0887\"],[0.1111111111111111,\"#46039f\"],[0.2222222222222222,\"#7201a8\"],[0.3333333333333333,\"#9c179e\"],[0.4444444444444444,\"#bd3786\"],[0.5555555555555556,\"#d8576b\"],[0.6666666666666666,\"#ed7953\"],[0.7777777777777778,\"#fb9f3a\"],[0.8888888888888888,\"#fdca26\"],[1.0,\"#f0f921\"]]}],\"choropleth\":[{\"type\":\"choropleth\",\"colorbar\":{\"outlinewidth\":0,\"ticks\":\"\"}}],\"histogram2d\":[{\"type\":\"histogram2d\",\"colorbar\":{\"outlinewidth\":0,\"ticks\":\"\"},\"colorscale\":[[0.0,\"#0d0887\"],[0.1111111111111111,\"#46039f\"],[0.2222222222222222,\"#7201a8\"],[0.3333333333333333,\"#9c179e\"],[0.4444444444444444,\"#bd3786\"],[0.5555555555555556,\"#d8576b\"],[0.6666666666666666,\"#ed7953\"],[0.7777777777777778,\"#fb9f3a\"],[0.8888888888888888,\"#fdca26\"],[1.0,\"#f0f921\"]]}],\"heatmap\":[{\"type\":\"heatmap\",\"colorbar\":{\"outlinewidth\":0,\"ticks\":\"\"},\"colorscale\":[[0.0,\"#0d0887\"],[0.1111111111111111,\"#46039f\"],[0.2222222222222222,\"#7201a8\"],[0.3333333333333333,\"#9c179e\"],[0.4444444444444444,\"#bd3786\"],[0.5555555555555556,\"#d8576b\"],[0.6666666666666666,\"#ed7953\"],[0.7777777777777778,\"#fb9f3a\"],[0.8888888888888888,\"#fdca26\"],[1.0,\"#f0f921\"]]}],\"heatmapgl\":[{\"type\":\"heatmapgl\",\"colorbar\":{\"outlinewidth\":0,\"ticks\":\"\"},\"colorscale\":[[0.0,\"#0d0887\"],[0.1111111111111111,\"#46039f\"],[0.2222222222222222,\"#7201a8\"],[0.3333333333333333,\"#9c179e\"],[0.4444444444444444,\"#bd3786\"],[0.5555555555555556,\"#d8576b\"],[0.6666666666666666,\"#ed7953\"],[0.7777777777777778,\"#fb9f3a\"],[0.8888888888888888,\"#fdca26\"],[1.0,\"#f0f921\"]]}],\"contourcarpet\":[{\"type\":\"contourcarpet\",\"colorbar\":{\"outlinewidth\":0,\"ticks\":\"\"}}],\"contour\":[{\"type\":\"contour\",\"colorbar\":{\"outlinewidth\":0,\"ticks\":\"\"},\"colorscale\":[[0.0,\"#0d0887\"],[0.1111111111111111,\"#46039f\"],[0.2222222222222222,\"#7201a8\"],[0.3333333333333333,\"#9c179e\"],[0.4444444444444444,\"#bd3786\"],[0.5555555555555556,\"#d8576b\"],[0.6666666666666666,\"#ed7953\"],[0.7777777777777778,\"#fb9f3a\"],[0.8888888888888888,\"#fdca26\"],[1.0,\"#f0f921\"]]}],\"surface\":[{\"type\":\"surface\",\"colorbar\":{\"outlinewidth\":0,\"ticks\":\"\"},\"colorscale\":[[0.0,\"#0d0887\"],[0.1111111111111111,\"#46039f\"],[0.2222222222222222,\"#7201a8\"],[0.3333333333333333,\"#9c179e\"],[0.4444444444444444,\"#bd3786\"],[0.5555555555555556,\"#d8576b\"],[0.6666666666666666,\"#ed7953\"],[0.7777777777777778,\"#fb9f3a\"],[0.8888888888888888,\"#fdca26\"],[1.0,\"#f0f921\"]]}],\"mesh3d\":[{\"type\":\"mesh3d\",\"colorbar\":{\"outlinewidth\":0,\"ticks\":\"\"}}],\"scatter\":[{\"fillpattern\":{\"fillmode\":\"overlay\",\"size\":10,\"solidity\":0.2},\"type\":\"scatter\"}],\"parcoords\":[{\"type\":\"parcoords\",\"line\":{\"colorbar\":{\"outlinewidth\":0,\"ticks\":\"\"}}}],\"scatterpolargl\":[{\"type\":\"scatterpolargl\",\"marker\":{\"colorbar\":{\"outlinewidth\":0,\"ticks\":\"\"}}}],\"bar\":[{\"error_x\":{\"color\":\"#2a3f5f\"},\"error_y\":{\"color\":\"#2a3f5f\"},\"marker\":{\"line\":{\"color\":\"#E5ECF6\",\"width\":0.5},\"pattern\":{\"fillmode\":\"overlay\",\"size\":10,\"solidity\":0.2}},\"type\":\"bar\"}],\"scattergeo\":[{\"type\":\"scattergeo\",\"marker\":{\"colorbar\":{\"outlinewidth\":0,\"ticks\":\"\"}}}],\"scatterpolar\":[{\"type\":\"scatterpolar\",\"marker\":{\"colorbar\":{\"outlinewidth\":0,\"ticks\":\"\"}}}],\"histogram\":[{\"marker\":{\"pattern\":{\"fillmode\":\"overlay\",\"size\":10,\"solidity\":0.2}},\"type\":\"histogram\"}],\"scattergl\":[{\"type\":\"scattergl\",\"marker\":{\"colorbar\":{\"outlinewidth\":0,\"ticks\":\"\"}}}],\"scatter3d\":[{\"type\":\"scatter3d\",\"line\":{\"colorbar\":{\"outlinewidth\":0,\"ticks\":\"\"}},\"marker\":{\"colorbar\":{\"outlinewidth\":0,\"ticks\":\"\"}}}],\"scattermapbox\":[{\"type\":\"scattermapbox\",\"marker\":{\"colorbar\":{\"outlinewidth\":0,\"ticks\":\"\"}}}],\"scatterternary\":[{\"type\":\"scatterternary\",\"marker\":{\"colorbar\":{\"outlinewidth\":0,\"ticks\":\"\"}}}],\"scattercarpet\":[{\"type\":\"scattercarpet\",\"marker\":{\"colorbar\":{\"outlinewidth\":0,\"ticks\":\"\"}}}],\"carpet\":[{\"aaxis\":{\"endlinecolor\":\"#2a3f5f\",\"gridcolor\":\"white\",\"linecolor\":\"white\",\"minorgridcolor\":\"white\",\"startlinecolor\":\"#2a3f5f\"},\"baxis\":{\"endlinecolor\":\"#2a3f5f\",\"gridcolor\":\"white\",\"linecolor\":\"white\",\"minorgridcolor\":\"white\",\"startlinecolor\":\"#2a3f5f\"},\"type\":\"carpet\"}],\"table\":[{\"cells\":{\"fill\":{\"color\":\"#EBF0F8\"},\"line\":{\"color\":\"white\"}},\"header\":{\"fill\":{\"color\":\"#C8D4E3\"},\"line\":{\"color\":\"white\"}},\"type\":\"table\"}],\"barpolar\":[{\"marker\":{\"line\":{\"color\":\"#E5ECF6\",\"width\":0.5},\"pattern\":{\"fillmode\":\"overlay\",\"size\":10,\"solidity\":0.2}},\"type\":\"barpolar\"}],\"pie\":[{\"automargin\":true,\"type\":\"pie\"}]},\"layout\":{\"autotypenumbers\":\"strict\",\"colorway\":[\"#636efa\",\"#EF553B\",\"#00cc96\",\"#ab63fa\",\"#FFA15A\",\"#19d3f3\",\"#FF6692\",\"#B6E880\",\"#FF97FF\",\"#FECB52\"],\"font\":{\"color\":\"#2a3f5f\"},\"hovermode\":\"closest\",\"hoverlabel\":{\"align\":\"left\"},\"paper_bgcolor\":\"white\",\"plot_bgcolor\":\"#E5ECF6\",\"polar\":{\"bgcolor\":\"#E5ECF6\",\"angularaxis\":{\"gridcolor\":\"white\",\"linecolor\":\"white\",\"ticks\":\"\"},\"radialaxis\":{\"gridcolor\":\"white\",\"linecolor\":\"white\",\"ticks\":\"\"}},\"ternary\":{\"bgcolor\":\"#E5ECF6\",\"aaxis\":{\"gridcolor\":\"white\",\"linecolor\":\"white\",\"ticks\":\"\"},\"baxis\":{\"gridcolor\":\"white\",\"linecolor\":\"white\",\"ticks\":\"\"},\"caxis\":{\"gridcolor\":\"white\",\"linecolor\":\"white\",\"ticks\":\"\"}},\"coloraxis\":{\"colorbar\":{\"outlinewidth\":0,\"ticks\":\"\"}},\"colorscale\":{\"sequential\":[[0.0,\"#0d0887\"],[0.1111111111111111,\"#46039f\"],[0.2222222222222222,\"#7201a8\"],[0.3333333333333333,\"#9c179e\"],[0.4444444444444444,\"#bd3786\"],[0.5555555555555556,\"#d8576b\"],[0.6666666666666666,\"#ed7953\"],[0.7777777777777778,\"#fb9f3a\"],[0.8888888888888888,\"#fdca26\"],[1.0,\"#f0f921\"]],\"sequentialminus\":[[0.0,\"#0d0887\"],[0.1111111111111111,\"#46039f\"],[0.2222222222222222,\"#7201a8\"],[0.3333333333333333,\"#9c179e\"],[0.4444444444444444,\"#bd3786\"],[0.5555555555555556,\"#d8576b\"],[0.6666666666666666,\"#ed7953\"],[0.7777777777777778,\"#fb9f3a\"],[0.8888888888888888,\"#fdca26\"],[1.0,\"#f0f921\"]],\"diverging\":[[0,\"#8e0152\"],[0.1,\"#c51b7d\"],[0.2,\"#de77ae\"],[0.3,\"#f1b6da\"],[0.4,\"#fde0ef\"],[0.5,\"#f7f7f7\"],[0.6,\"#e6f5d0\"],[0.7,\"#b8e186\"],[0.8,\"#7fbc41\"],[0.9,\"#4d9221\"],[1,\"#276419\"]]},\"xaxis\":{\"gridcolor\":\"white\",\"linecolor\":\"white\",\"ticks\":\"\",\"title\":{\"standoff\":15},\"zerolinecolor\":\"white\",\"automargin\":true,\"zerolinewidth\":2},\"yaxis\":{\"gridcolor\":\"white\",\"linecolor\":\"white\",\"ticks\":\"\",\"title\":{\"standoff\":15},\"zerolinecolor\":\"white\",\"automargin\":true,\"zerolinewidth\":2},\"scene\":{\"xaxis\":{\"backgroundcolor\":\"#E5ECF6\",\"gridcolor\":\"white\",\"linecolor\":\"white\",\"showbackground\":true,\"ticks\":\"\",\"zerolinecolor\":\"white\",\"gridwidth\":2},\"yaxis\":{\"backgroundcolor\":\"#E5ECF6\",\"gridcolor\":\"white\",\"linecolor\":\"white\",\"showbackground\":true,\"ticks\":\"\",\"zerolinecolor\":\"white\",\"gridwidth\":2},\"zaxis\":{\"backgroundcolor\":\"#E5ECF6\",\"gridcolor\":\"white\",\"linecolor\":\"white\",\"showbackground\":true,\"ticks\":\"\",\"zerolinecolor\":\"white\",\"gridwidth\":2}},\"shapedefaults\":{\"line\":{\"color\":\"#2a3f5f\"}},\"annotationdefaults\":{\"arrowcolor\":\"#2a3f5f\",\"arrowhead\":0,\"arrowwidth\":1},\"geo\":{\"bgcolor\":\"white\",\"landcolor\":\"#E5ECF6\",\"subunitcolor\":\"white\",\"showland\":true,\"showlakes\":true,\"lakecolor\":\"white\"},\"title\":{\"x\":0.05},\"mapbox\":{\"style\":\"light\"}}}},                        {\"responsive\": true}                    ).then(function(){\n",
       "                            \n",
       "var gd = document.getElementById('775d7d00-425c-40a9-9d4a-fa24118b799f');\n",
       "var x = new MutationObserver(function (mutations, observer) {{\n",
       "        var display = window.getComputedStyle(gd).display;\n",
       "        if (!display || display === 'none') {{\n",
       "            console.log([gd, 'removed!']);\n",
       "            Plotly.purge(gd);\n",
       "            observer.disconnect();\n",
       "        }}\n",
       "}});\n",
       "\n",
       "// Listen for the removal of the full notebook cells\n",
       "var notebookContainer = gd.closest('#notebook-container');\n",
       "if (notebookContainer) {{\n",
       "    x.observe(notebookContainer, {childList: true});\n",
       "}}\n",
       "\n",
       "// Listen for the clearing of the current output cell\n",
       "var outputEl = gd.closest('.output');\n",
       "if (outputEl) {{\n",
       "    x.observe(outputEl, {childList: true});\n",
       "}}\n",
       "\n",
       "                        })                };                });            </script>        </div>"
      ]
     },
     "metadata": {},
     "output_type": "display_data"
    }
   ],
   "execution_count": 31
  }
 ],
 "metadata": {
  "kernelspec": {
   "display_name": "Python 3",
   "language": "python",
   "name": "python3"
  },
  "language_info": {
   "codemirror_mode": {
    "name": "ipython",
    "version": 2
   },
   "file_extension": ".py",
   "mimetype": "text/x-python",
   "name": "python",
   "nbconvert_exporter": "python",
   "pygments_lexer": "ipython2",
   "version": "2.7.6"
  }
 },
 "nbformat": 4,
 "nbformat_minor": 5
}
